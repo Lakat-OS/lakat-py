{
 "cells": [
  {
   "attachments": {},
   "cell_type": "markdown",
   "metadata": {},
   "source": [
    "## Create Genesis Branch"
   ]
  },
  {
   "attachments": {},
   "cell_type": "markdown",
   "metadata": {},
   "source": [
    "This notebooks creates a genesis branch of type \"twig\"\n",
    "\n",
    "First we switch to the root folder.\n",
    "Then we load necessary modules, functions and variables. Then we load the keyword arguments for the function call, as someone would enter them for an rpc call. They are checked for validity. Then the base64 encoded entries and other entries are converted into bytes form using the schema of the function call. Then the function call is made. Its response is then re-translated into base64 (at least all the values that are bytes).  "
   ]
  },
  {
   "cell_type": "code",
   "execution_count": 1,
   "metadata": {},
   "outputs": [],
   "source": [
    "import os \n",
    "os.chdir('..')"
   ]
  },
  {
   "cell_type": "code",
   "execution_count": 2,
   "metadata": {},
   "outputs": [],
   "source": [
    "import lakat.branch.functions as lakat_branch_functions\n",
    "import lakat.branch.schema as lakat_branch_schema\n",
    "from utils.format.schema import check_argument, convert_to_bytes_based_on_schema, convert_from_bytes_based_on_schema\n",
    "from utils.encode.bytes import encode_bytes_to_base64_str, decode_base64_str_to_bytes\n",
    "from config.branch_cfg import PROPER_BRANCH_TYPE_ID, TWIG_BRANCH_TYPE_ID"
   ]
  },
  {
   "cell_type": "code",
   "execution_count": 3,
   "metadata": {},
   "outputs": [
    {
     "name": "stdout",
     "output_type": "stream",
     "text": [
      "keyword arguments:  {'branch_type': 1, 'name': 'Genesis Branch', 'signature': '', 'accept_conflicts': False, 'msg': 'Genesis Submit'}\n"
     ]
    }
   ],
   "source": [
    "# some fake signature encoded in bytes64 \n",
    "signature = encode_bytes_to_base64_str(bytes(0))\n",
    "accept_conflicts = False\n",
    "msg = 'Genesis Submit'\n",
    "name = 'Genesis Branch'\n",
    "kwargs = dict(branch_type=TWIG_BRANCH_TYPE_ID, name=name, signature=signature, accept_conflicts=accept_conflicts, msg=msg)\n",
    "print('keyword arguments: ', kwargs)"
   ]
  },
  {
   "attachments": {},
   "cell_type": "markdown",
   "metadata": {},
   "source": [
    "### Create genesis branch without RPC server call"
   ]
  },
  {
   "cell_type": "code",
   "execution_count": 4,
   "metadata": {},
   "outputs": [
    {
     "data": {
      "text/plain": [
       "True"
      ]
     },
     "execution_count": 4,
     "metadata": {},
     "output_type": "execute_result"
    }
   ],
   "source": [
    "# check if the arguments are valid\n",
    "check_argument(arg=kwargs, schema=lakat_branch_schema.create_genesis_branch_call)"
   ]
  },
  {
   "cell_type": "code",
   "execution_count": 5,
   "metadata": {},
   "outputs": [
    {
     "name": "stdout",
     "output_type": "stream",
     "text": [
      "converted_kwargs {'branch_type': 1, 'name': b'\\x01\\x0eGenesis Branch', 'signature': b'', 'accept_conflicts': False, 'msg': b'\\x01\\x0eGenesis Submit'}\n"
     ]
    }
   ],
   "source": [
    "# convert string and base64 encoded arguments to bytes\n",
    "converted_kwargs = convert_to_bytes_based_on_schema(schema=lakat_branch_schema.create_genesis_branch_call, data=kwargs)\n",
    "print(\"converted_kwargs\", converted_kwargs)"
   ]
  },
  {
   "cell_type": "code",
   "execution_count": 6,
   "metadata": {},
   "outputs": [],
   "source": [
    "response = lakat_branch_functions.create_genesis_branch(**converted_kwargs)"
   ]
  },
  {
   "cell_type": "code",
   "execution_count": 7,
   "metadata": {},
   "outputs": [
    {
     "name": "stdout",
     "output_type": "stream",
     "text": [
      "original response:  b'\\x01Q\\x12\\x02O\\xa4' \n",
      "decoded  response:  AVESAk+k\n"
     ]
    }
   ],
   "source": [
    "# response is the branch id of the genesis branch. We can use the schema to decode the response\n",
    "decoded_response = convert_from_bytes_based_on_schema(schema=lakat_branch_schema.create_genesis_branch_response, data=response)\n",
    "print(\"original response: \", response, \"\\ndecoded  response: \", decoded_response)"
   ]
  },
  {
   "attachments": {},
   "cell_type": "markdown",
   "metadata": {},
   "source": [
    "### Create genesis branch via RPC server call"
   ]
  },
  {
   "attachments": {},
   "cell_type": "markdown",
   "metadata": {},
   "source": [
    "First start the server via `python main.py` (first need to install the dependencies from the *requirements.txt*) or start the docker container exposed on port `3355`."
   ]
  },
  {
   "cell_type": "code",
   "execution_count": 15,
   "metadata": {},
   "outputs": [],
   "source": [
    "import requests\n",
    "import json\n",
    "from config.rpc_cfg import RPC_PORT"
   ]
  },
  {
   "cell_type": "code",
   "execution_count": 16,
   "metadata": {},
   "outputs": [],
   "source": [
    "def json_rpc_call(method, params=None):\n",
    "    url = f\"http://localhost:{RPC_PORT}/\"\n",
    "    headers = {'content-type': 'application/json'}\n",
    "    payload = {\n",
    "        \"method\": method,\n",
    "        \"params\": params,\n",
    "        \"jsonrpc\": \"2.0\",\n",
    "        \"id\": 0,\n",
    "    }\n",
    "    encoded_payload = json.dumps(payload).encode('utf-8')\n",
    "    response = requests.post(url, data=encoded_payload, headers=headers)\n",
    "    # print(response)#\n",
    "    return response.json()"
   ]
  },
  {
   "cell_type": "code",
   "execution_count": 17,
   "metadata": {},
   "outputs": [
    {
     "name": "stdout",
     "output_type": "stream",
     "text": [
      "Test 'create_genesis_branch' passed with branch ID: AVESAiwg\n"
     ]
    }
   ],
   "source": [
    "# convert the keyword arguments to a list of values for the rpc call\n",
    "rpc_call_list = list(kwargs.values())\n",
    "# make the rpc call and get the response\n",
    "response = json_rpc_call(method=\"create_genesis_branch\", params=rpc_call_list)\n",
    "# response is inside the result field\n",
    "branch_head_id = response['result']\n",
    "print(\"Test 'create_genesis_branch' passed with branch ID:\", branch_head_id)"
   ]
  }
 ],
 "metadata": {
  "kernelspec": {
   "display_name": ".venv",
   "language": "python",
   "name": "python3"
  },
  "language_info": {
   "codemirror_mode": {
    "name": "ipython",
    "version": 3
   },
   "file_extension": ".py",
   "mimetype": "text/x-python",
   "name": "python",
   "nbconvert_exporter": "python",
   "pygments_lexer": "ipython3",
   "version": "3.9.15"
  },
  "orig_nbformat": 4
 },
 "nbformat": 4,
 "nbformat_minor": 2
}
