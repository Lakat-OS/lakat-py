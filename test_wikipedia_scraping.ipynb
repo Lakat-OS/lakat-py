{
 "cells": [
  {
   "cell_type": "code",
   "execution_count": 1,
   "metadata": {},
   "outputs": [],
   "source": [
    "from scrape.get_wikipedia_page import WikipediaPage"
   ]
  },
  {
   "cell_type": "code",
   "execution_count": 2,
   "metadata": {},
   "outputs": [],
   "source": [
    "# Constants\n",
    "API_URL = \"https://en.wikipedia.org/w/api.php\"\n",
    "TITLE = \"Compartmental models in epidemiology\"\n",
    "wp = WikipediaPage(API_URL)\n",
    "# Fetching all content types\n",
    "# all_contents = wp.get_all_content_types(TITLE)\n",
    "\n",
    "# print(\"Page Info:\", all_contents[\"Info\"])"
   ]
  },
  {
   "cell_type": "code",
   "execution_count": 3,
   "metadata": {},
   "outputs": [
    {
     "name": "stdout",
     "output_type": "stream",
     "text": [
      "i 0 5\n",
      "data dict_keys(['continue', 'warnings', 'query'])\n",
      "i 1 10\n",
      "data dict_keys(['continue', 'warnings', 'query'])\n",
      "i 2 15\n",
      "data dict_keys(['continue', 'warnings', 'query'])\n",
      "i 3 20\n",
      "data dict_keys(['continue', 'warnings', 'query'])\n",
      "i 4 25\n",
      "data dict_keys(['continue', 'warnings', 'query'])\n"
     ]
    }
   ],
   "source": [
    "res = wp.get_edit_history(TITLE, limit=5)"
   ]
  },
  {
   "cell_type": "code",
   "execution_count": 7,
   "metadata": {},
   "outputs": [
    {
     "data": {
      "text/plain": [
       "80880"
      ]
     },
     "execution_count": 7,
     "metadata": {},
     "output_type": "execute_result"
    }
   ],
   "source": [
    "len(res[3]['*'])"
   ]
  },
  {
   "cell_type": "code",
   "execution_count": 9,
   "metadata": {},
   "outputs": [],
   "source": [
    "import re\n",
    "\n",
    "def convert_wikitext_to_html(wikitext):\n",
    "    \"\"\"\n",
    "    Convert basic wikitext markup to HTML.\n",
    "    \n",
    "    Handles bold, italic, and new line conversions.\n",
    "    \"\"\"\n",
    "    # Convert bold and italic (''''text'''' to <b><i>text</i></b>)\n",
    "    html = re.sub(r\"'''''(.*?)'''''\", r\"<b><i>\\1</i></b>\", wikitext)\n",
    "    # Convert bold ('''text''' to <b>text</b>)\n",
    "    html = re.sub(r\"'''(.*?)'''\", r\"<b>\\1</b>\", html)\n",
    "    # Convert italic (''text'' to <i>text</i>)\n",
    "    html = re.sub(r\"''(.*?)''\", r\"<i>\\1</i>\", html)\n",
    "    # Convert new lines to <br>\n",
    "    html = html.replace(\"\\n\", \"<br>\")\n",
    "\n",
    "    return html\n",
    "\n",
    "def save_to_html_file(text, filename):\n",
    "    \"\"\"\n",
    "    Save the provided text as an HTML file.\n",
    "\n",
    "    :param text: The text to be converted and saved.\n",
    "    :param filename: The name of the file to save the HTML content in.\n",
    "    \"\"\"\n",
    "    html_content = convert_wikitext_to_html(text)\n",
    "    html_full_content = f\"<html><head><title>Wikipedia Page</title></head><body>{html_content}</body></html>\"\n",
    "\n",
    "    # Write the HTML content to a file\n",
    "    with open(filename, \"w\", encoding=\"utf-8\") as file:\n",
    "        file.write(html_full_content)\n",
    "\n",
    "# Example usage\n",
    "wikitext = \"'''Bold''' and ''italic'' text.\\nNew line here.\"\n",
    "filename = \"ExampleWikipediaPage.html\"\n",
    "save_to_html_file(wikitext, filename)\n"
   ]
  },
  {
   "cell_type": "code",
   "execution_count": 11,
   "metadata": {},
   "outputs": [],
   "source": [
    "filename = \"test.html\"\n",
    "save_to_html_file(res[3]['*'], filename)"
   ]
  },
  {
   "cell_type": "code",
   "execution_count": 16,
   "metadata": {},
   "outputs": [
    {
     "data": {
      "text/plain": [
       "25"
      ]
     },
     "execution_count": 16,
     "metadata": {},
     "output_type": "execute_result"
    }
   ],
   "source": [
    "len(res)"
   ]
  },
  {
   "cell_type": "code",
   "execution_count": 17,
   "metadata": {},
   "outputs": [],
   "source": [
    "# [{\"revid\": r[\"revid\"], \"parentid\": r[\"parentid\"], \"comment\": r[\"comment\"]} for r in res]"
   ]
  },
  {
   "cell_type": "code",
   "execution_count": 20,
   "metadata": {},
   "outputs": [
    {
     "name": "stdout",
     "output_type": "stream",
     "text": [
      "Title: Summary, Level: 0, Content: {{short description|Example Article}}\n",
      "\n",
      "Title: Section 1, Level: 2, Content: Content of section 1\n",
      "\n",
      "Title: Subsection, Level: 3, Content: Content of subsection.\n",
      "\n"
     ]
    }
   ],
   "source": [
    "import re\n",
    "\n",
    "def extract_sections(wikitext):\n",
    "    \"\"\"\n",
    "    Extract sections from a Wikipedia article in wikitext format.\n",
    "\n",
    "    :param wikitext: The wikitext of a Wikipedia article.\n",
    "    :return: A dictionary of sections with their titles and content.\n",
    "    \"\"\"\n",
    "    sections = {}\n",
    "    # Regular expression for section titles\n",
    "    pattern = r\"(={2,})([^=]+)\\1\"\n",
    "\n",
    "    # Splitting the text based on section titles\n",
    "    parts = re.split(pattern, wikitext)\n",
    "\n",
    "    # The first part is usually the introduction or summary\n",
    "    sections[\"Summary\"] = {'level': 0, \"content\": parts[0].strip()}\n",
    "\n",
    "    # Iterate over the rest of the parts to extract sections\n",
    "    for i in range(1, len(parts), 3):\n",
    "        level = len(parts[i])  # The number of '=' indicates the level of the section\n",
    "        title = parts[i + 1].strip()\n",
    "        content = parts[i + 2].strip()\n",
    "        sections[title] = {\"level\": level, \"content\": content}\n",
    "\n",
    "    return sections\n",
    "\n",
    "# Example usage\n",
    "wikitext_example = \"{{short description|Example Article}}\\n== Section 1 ==\\nContent of section 1\\n=== Subsection ===\\nContent of subsection.\"\n",
    "\n",
    "sections = extract_sections(wikitext_example)\n",
    "for title, details in sections.items():\n",
    "    print(f\"Title: {title}, Level: {details.get('level', 'Summary')}, Content: {details['content']}\\n\")\n",
    "# sections\n"
   ]
  },
  {
   "cell_type": "code",
   "execution_count": 24,
   "metadata": {},
   "outputs": [
    {
     "name": "stdout",
     "output_type": "stream",
     "text": [
      "Title: Summary, Level: 0, Content: {{short description|\n",
      "\n",
      "Title: The SIR model, Level: 3, Content: [[File:SIR-Modell.sv\n",
      "\n",
      "Title: Transition rates, Level: 3, Content: For the full specifi\n",
      "\n",
      "Title: The SIR model without birth and death, Level: 3, Content: [[File:SIR trajector\n",
      "\n",
      "Title: The force of infection, Level: 4, Content: Note that in the abo\n",
      "\n",
      "Title: Exact analytical solutions to the SIR model, Level: 4, Content: In 2014, Harko and c\n",
      "\n",
      "Title: Numerical solutions to the SIR model with approximations, Level: 4, Content: Numerical solutions \n",
      "\n",
      "Title: The SIR model with vital dynamics and constant population, Level: 3, Content: Consider a populatio\n",
      "\n",
      "Title: Steady-state solutions, Level: 3, Content: The expected duratio\n",
      "\n",
      "Title: Other compartmental models, Level: 3, Content: There are many modif\n",
      "\n",
      "Title: Variations on the basic SIR model, Level: 2, Content: \n",
      "\n",
      "Title: The SIS model, Level: 3, Content: [[File:SIS System Gr\n",
      "\n",
      "Title: The SIRD model, Level: 3, Content: [[File:SIRD.svg|thum\n",
      "\n",
      "Title: The SIRV model, Level: 3, Content: The ''Susceptible-In\n",
      "\n",
      "Title: The MSIR model, Level: 3, Content: For many infections,\n",
      "\n",
      "Title: Carrier state, Level: 3, Content: Some people who have\n",
      "\n",
      "Title: The SEIR model, Level: 3, Content: For many important i\n",
      "\n",
      "Title: The SEIS model, Level: 3, Content: The SEIS model is li\n",
      "\n",
      "Title: The MSEIR model, Level: 3, Content: For the case of a di\n",
      "\n",
      "Title: The MSEIRS model, Level: 3, Content: An MSEIRS model is s\n",
      "\n",
      "Title: Variable contact rates, Level: 3, Content: It is well known tha\n",
      "\n",
      "Title: SIR model with diffusion, Level: 3, Content: Spatiotemporal compa\n",
      "\n",
      "Title: Interacting Subpopulation SEIR Model, Level: 3, Content: As social contacts, \n",
      "\n",
      "Title: SIR Model on Networks, Level: 3, Content: The SIR model has be\n",
      "\n",
      "Title: SIR<sub>SS</sub> model - combination of SIR with modelling of social stress, Level: 3, Content: Dynamics of epidemic\n",
      "\n",
      "Title: The KdV-SIR equation, Level: 3, Content: Based on the classic\n",
      "\n",
      "Title: Modelling vaccination, Level: 2, Content: The SIR model can be\n",
      "\n",
      "Title: Vaccinating newborns, Level: 3, Content: In presence of a com\n",
      "\n",
      "Title: Vaccination and information, Level: 3, Content: Modern societies are\n",
      "\n",
      "Title: Vaccination of non-newborns, Level: 3, Content: In case there also a\n",
      "\n",
      "Title: Pulse vaccination strategy, Level: 3, Content: This strategy repeat\n",
      "\n",
      "Title: The influence of age: age-structured models, Level: 2, Content: Age has a deep influ\n",
      "\n",
      "Title: Other considerations within compartmental epidemic models, Level: 2, Content: \n",
      "\n",
      "Title: Vertical transmission, Level: 3, Content: In the case of some \n",
      "\n",
      "Title: Vector transmission, Level: 3, Content: Diseases transmitted\n",
      "\n",
      "Title: Others, Level: 3, Content: Other occurrences wh\n",
      "\n",
      "Title: Deterministic versus stochastic epidemic models, Level: 2, Content: It is important to s\n",
      "\n",
      "Title: See also, Level: 2, Content: *[[Mathematical mode\n",
      "\n",
      "Title: References, Level: 2, Content: {{reflist}}\n",
      "\n",
      "Title: Further reading, Level: 2, Content: * {{cite book | vaut\n",
      "\n",
      "Title: External links, Level: 2, Content: * [http://jsxgraph.u\n",
      "\n"
     ]
    }
   ],
   "source": [
    "\n",
    "sections = extract_sections(res[0]['*'])\n",
    "for title, details in sections.items():\n",
    "    print(f\"Title: {title}, Level: {details.get('level', 'Summary')}, Content: {details['content'][0:20]}\\n\")"
   ]
  },
  {
   "cell_type": "code",
   "execution_count": 29,
   "metadata": {},
   "outputs": [
    {
     "name": "stdout",
     "output_type": "stream",
     "text": [
      "['--- ', '+++ ', '@@ -1 +1 @@', '-This is the first version of the text.', '+This is the second version of the text.']\n"
     ]
    }
   ],
   "source": [
    "import difflib\n",
    "\n",
    "def compare_texts(text1, text2):\n",
    "    \"\"\"\n",
    "    Generate a diff between two texts.\n",
    "\n",
    "    :param text1: The first text string.\n",
    "    :param text2: The second text string.\n",
    "    :return: The diff between the two texts.\n",
    "    \"\"\"\n",
    "    text1_lines = text1.splitlines()\n",
    "    text2_lines = text2.splitlines()\n",
    "\n",
    "    diff = difflib.unified_diff(text1_lines, text2_lines, lineterm='')\n",
    "\n",
    "    # return diff\n",
    "    return [str(d) for d in diff]\n",
    "\n",
    "# Example usage\n",
    "text_version_1 = \"This is the first version of the text.\"\n",
    "text_version_2 = \"This is the second version of the text.\"\n",
    "diff_result = compare_texts(text_version_1, text_version_2)\n",
    "print(diff_result)\n"
   ]
  },
  {
   "cell_type": "code",
   "execution_count": 32,
   "metadata": {},
   "outputs": [
    {
     "data": {
      "text/plain": [
       "['--- ',\n",
       " '+++ ',\n",
       " '@@ -9,7 +9,7 @@',\n",
       " ' ',\n",
       " ' ==The SIR model==',\n",
       " ' ',\n",
       " '-The \\'\\'\\'SIR model\\'\\'\\'<ref name=\"Harko\">{{Cite journal| vauthors = Harko T, Lobo FS, Mak MK |s2cid=14509477|title=Exact analytical solutions of the Susceptible-Infected-Recovered (SIR) epidemic model and of the SIR model with equal death and birth rates |journal=Applied Mathematics and Computation|language=en|volume=236|pages=184–194|year=2014 |doi=10.1016/j.amc.2014.03.030|bibcode=2014arXiv1403.2160H |arxiv=1403.2160 }}</ref><ref name=\"Beckley\">{{cite journal | vauthors = Beckley R, Weatherspoon C, Alexander M, Chandler M, Johnson A, Bhatt GS |date=2013 |title=Modeling epidemics with differential equations |url=http://www.tnstate.edu/mathematics/mathreu/filesreu/GroupProjectSIR.pdf |journal=Tennessee State University Internal Report |access-date=July 19, 2020}}</ref><ref name=\"KrogerSchlickeiser\">{{Cite journal| vauthors = Kröger M, Schlickeiser R |s2cid=225555567 |title=Analytical solution of the SIR-model for the temporal evolution of epidemics. Part A: Time-independent reproduction factor|journal=Journal of Physics A|language=en|year=2020|volume=53|issue=50|page=505601|doi=10.1088/1751-8121/abc65d|bibcode=2020JPhA...53X5601K|doi-access=free}}</ref><ref name=\"KrogerSchlickeiser_partB\">{{Cite journal| vauthors = Schlickeiser R, Kröger M |title=Analytical solution of the SIR-model for the temporal evolution of epidemics. Part B: Semi-time case|journal=Journal of Physics A|language=en|year=2021|volume=54|issue=17|page=175601|doi=10.1088/1751-8121/abed66|bibcode=2021JPhA...54X5601S|doi-access=free}}</ref> is one of the simplest compartmental models, and many models are derivatives of this basic form. The model consists of three compartments:',\n",
       " '+The \\'\\'\\'SIR model\\'\\'\\'<ref name=\"Harko\">{{Cite journal| vauthors = Harko T, Lobo FS, Mak MK |s2cid=14509477|title=Exact analytical solutions of the Susceptible-Infected-Recovered (SIR) epidemic model and of the SIR model with equal death and birth rates |journal=Applied Mathematics and Computation|language=en|volume=236|pages=184–194|year=2014 |doi=10.1016/j.amc.2014.03.030|bibcode=2014arXiv1403.2160H |arxiv=1403.2160 }}</ref><ref name=\"Beckley\">{{cite journal | vauthors = Beckley R, Weatherspoon C, Alexander M, Chandler M, Johnson A, Bhatt GS |date=2013 |title=Modeling epidemics with differential equations |url=http://www.tnstate.edu/mathematics/mathreu/filesreu/GroupProjectSIR.pdf |journal=Tennessee State University Internal Report |access-date=July 19, 2020}}</ref><ref name=\"KrogerSchlickeiser\">{{Cite journal| vauthors = Kröger M, Schlickeiser R |s2cid=225555567 |title=Analytical solution of the SIR-model for the temporal evolution of epidemics. Part A: Time-independent reproduction factor|journal=Journal of Physics A|language=en|year=2020|volume=53|issue=50|page=505601|doi=10.1088/1751-8121/abc65d|bibcode=2020JPhA...53X5601K|doi-access=free}}</ref><ref name=\"KrogerSchlickeiser_partB\">{{Cite journal| vauthors = Schlickeiser R, Kröger M |title=Analytical solution of the SIR-model for the temporal evolution of epidemics. Part B: Semi-time case|journal=Journal of Physics A|language=en|year=2021|volume=54|issue=17|page=175601|doi=10.1088/1751-8121/abed66|bibcode=2021JPhA...54q5601S|doi-access=free}}</ref> is one of the simplest compartmental models, and many models are derivatives of this basic form. The model consists of three compartments:',\n",
       " ' :\\'\\'\\'S\\'\\'\\': The number of \\'\\'\\'s\\'\\'\\'usceptible individuals. When a susceptible and an infectious individual come into \"infectious contact\", the susceptible individual contracts the disease and transitions to the infectious compartment.',\n",
       " \" :'''I''': The number of '''i'''nfectious individuals. These are individuals who have been infected and are capable of infecting susceptible individuals.\",\n",
       " ' :\\'\\'\\'R\\'\\'\\' for the number of \\'\\'\\'r\\'\\'\\'emoved (and immune) or deceased individuals. These are individuals who have been infected and have either recovered from the disease and entered the removed compartment, or died. It is assumed that the number of deaths is negligible with respect to the total population. This compartment may also be called \"\\'\\'\\'r\\'\\'\\'ecovered\"  or \"\\'\\'\\'r\\'\\'\\'esistant\".']"
      ]
     },
     "execution_count": 32,
     "metadata": {},
     "output_type": "execute_result"
    }
   ],
   "source": [
    "compare_texts(res[15]['*'], res[14]['*'])\n"
   ]
  }
 ],
 "metadata": {
  "kernelspec": {
   "display_name": ".venv",
   "language": "python",
   "name": "python3"
  },
  "language_info": {
   "codemirror_mode": {
    "name": "ipython",
    "version": 3
   },
   "file_extension": ".py",
   "mimetype": "text/x-python",
   "name": "python",
   "nbconvert_exporter": "python",
   "pygments_lexer": "ipython3",
   "version": "3.9.15"
  },
  "orig_nbformat": 4
 },
 "nbformat": 4,
 "nbformat_minor": 2
}
