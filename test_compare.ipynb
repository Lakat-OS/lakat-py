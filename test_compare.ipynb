{
 "cells": [
  {
   "cell_type": "code",
   "execution_count": 1,
   "metadata": {},
   "outputs": [],
   "source": [
    "from scrape.wp_get_page import WikipediaPage\n",
    "from scrape.wp_structured_text import WikipediaStructuredText\n",
    "from scrape.wp_structured_diffs import Diff\n",
    "import difflib\n",
    "from setup.db_trie import db\n",
    "from lakat.submit import content_submit\n",
    "from config.scrape_cfg import WIKIPEDIA_API_URL, EXAMPLE_ARTICLE_TITLE\n",
    "from config.bucket_cfg import DEFAULT_ATOMIC_BUCKET_SCHEMA, DEFAULT_MOLECULAR_BUCKET_SCHEMA, DEFAULT_NAME_RESOLUTION_BUCKET_SCHEMA, BUCKET_ID_TYPE_NO_REF\n",
    "from utils.signing.sign import get_public_key_from_file\n",
    "from utils.serialize import unserialize, serialize\n",
    "from scrape.wp_structured_diffs import _similar_content\n",
    "\n",
    "# db.close()\n",
    "article_title = EXAMPLE_ARTICLE_TITLE\n",
    "wp = WikipediaPage(WIKIPEDIA_API_URL)\n",
    "edit_history = wp.load_content_from_batches(\n",
    "    article_title, 0, 105, download_if_not_exist=True)\n",
    "edit_history.reverse()\n"
   ]
  },
  {
   "cell_type": "code",
   "execution_count": null,
   "metadata": {},
   "outputs": [],
   "source": [
    "# inds = list()\n",
    "# for ind in range(len(edit_history) - 1): \n",
    "ind = 53 ##65\n",
    "str_text_old = WikipediaStructuredText(edit_history[ind][\"*\"])\n",
    "str_text_new = WikipediaStructuredText(edit_history[ind+1][\"*\"])\n",
    "diff = Diff(old=str_text_old, new=str_text_new)\n",
    "df = diff.compare(similarity_threshold=0.75, zero_level_similarity_threshold=0.95)\n",
    "# if len(df[\"modified\"]) != 0 and len(df[\"rearranged\"])!=0:\n",
    "#     inds.append(ind)\n",
    "df"
   ]
  }
 ],
 "metadata": {
  "kernelspec": {
   "display_name": ".venv",
   "language": "python",
   "name": "python3"
  },
  "language_info": {
   "codemirror_mode": {
    "name": "ipython",
    "version": 3
   },
   "file_extension": ".py",
   "mimetype": "text/x-python",
   "name": "python",
   "nbconvert_exporter": "python",
   "pygments_lexer": "ipython3",
   "version": "3.9.15"
  },
  "orig_nbformat": 4
 },
 "nbformat": 4,
 "nbformat_minor": 2
}
