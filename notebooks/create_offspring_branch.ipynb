{
 "cells": [
  {
   "attachments": {},
   "cell_type": "markdown",
   "metadata": {},
   "source": [
    "## Create Offspring Branch"
   ]
  },
  {
   "cell_type": "code",
   "execution_count": 1,
   "metadata": {},
   "outputs": [],
   "source": [
    "import os \n",
    "os.chdir('..')"
   ]
  },
  {
   "cell_type": "code",
   "execution_count": 2,
   "metadata": {},
   "outputs": [],
   "source": [
    "from utils.rpc.lib import json_rpc_call\n",
    "from utils.encode.bytes import encode_bytes_to_base64_str, decode_base64_str_to_bytes\n",
    "from config.branch_cfg import TWIG_BRANCH_TYPE_ID\n",
    "from config.bucket_cfg import BUCKET_ID_TYPE_NO_REF, BUCKET_ID_TYPE_WITH_ID_REF, DEFAULT_MOLECULAR_BUCKET_SCHEMA, DEFAULT_ATOMIC_BUCKET_SCHEMA\n",
    "BYTES0 = encode_bytes_to_base64_str(bytes(0))"
   ]
  },
  {
   "attachments": {},
   "cell_type": "markdown",
   "metadata": {},
   "source": [
    "#### Create Genesis Branch"
   ]
  },
  {
   "cell_type": "code",
   "execution_count": 3,
   "metadata": {},
   "outputs": [],
   "source": [
    "signature = BYTES0\n",
    "accept_conflicts = False\n",
    "msg = 'Genesis Submit'\n",
    "name = 'Genesis Branch'\n",
    "create_branch_kwargs = dict(branch_type=TWIG_BRANCH_TYPE_ID, name=name, signature=signature, accept_conflicts=accept_conflicts, msg=msg)"
   ]
  },
  {
   "cell_type": "code",
   "execution_count": 4,
   "metadata": {},
   "outputs": [
    {
     "name": "stdout",
     "output_type": "stream",
     "text": [
      "Test 'create_genesis_branch' passed with branch ID: AVESCHbLIpIZhFx9 \n",
      "and base64 decoded branch ID: b'\\x01Q\\x12\\x08v\\xcb\"\\x92\\x19\\x84\\\\}'\n"
     ]
    }
   ],
   "source": [
    "genesis_response = json_rpc_call(method=\"create_genesis_branch\", params=create_branch_kwargs)\n",
    "# response is inside the result field\n",
    "print(\"Test 'create_genesis_branch' passed with branch ID:\", genesis_response['result'], \"\\nand base64 decoded branch ID:\", decode_base64_str_to_bytes(genesis_response['result']))"
   ]
  },
  {
   "attachments": {},
   "cell_type": "markdown",
   "metadata": {},
   "source": [
    "#### Create Offspring Branch"
   ]
  },
  {
   "cell_type": "code",
   "execution_count": 5,
   "metadata": {},
   "outputs": [],
   "source": [
    "create_offspring_branch_kwargs = dict(parent_branch_id=genesis_response['result'], **create_branch_kwargs)\n",
    "create_offspring_branch_kwargs.update(dict(name='Offspring Branch', msg='Offspring Submit'))"
   ]
  },
  {
   "cell_type": "code",
   "execution_count": 6,
   "metadata": {},
   "outputs": [
    {
     "name": "stdout",
     "output_type": "stream",
     "text": [
      "Test 'create_offspring_branch_at_head' passed with branch ID: AVESCHBPR/awevnZ \n",
      "and base64 decoded branch ID: b'\\x01Q\\x12\\x08pOG\\xf6\\xb0z\\xf9\\xd9'\n"
     ]
    }
   ],
   "source": [
    "offspring_response = json_rpc_call(method=\"create_offspring_branch_at_head\", params=create_offspring_branch_kwargs)\n",
    "# response is inside the result field\n",
    "print(\"Test 'create_offspring_branch_at_head' passed with branch ID:\", offspring_response['result'], \"\\nand base64 decoded branch ID:\", decode_base64_str_to_bytes(offspring_response['result']))"
   ]
  },
  {
   "attachments": {},
   "cell_type": "markdown",
   "metadata": {},
   "source": [
    "#### Create Offspring branch at particular submit"
   ]
  },
  {
   "cell_type": "code",
   "execution_count": 7,
   "metadata": {},
   "outputs": [],
   "source": [
    "rpc_kwargs = dict(branch_id=offspring_response[\"result\"], deserialize_buckets=False) #rpc_genesis_branch_response[\"decoded_branch_id\"], deserialize_buckets=True)\n",
    "response = json_rpc_call(method=\"get_branch_data_from_branch_id\", params=rpc_kwargs)"
   ]
  },
  {
   "cell_type": "code",
   "execution_count": 10,
   "metadata": {},
   "outputs": [
    {
     "data": {
      "text/plain": [
       "{'id': 'AVESCHBPR/awevnZ',\n",
       " 'ns': 'CLF/HHC3',\n",
       " 'name': 'Offspring Branch',\n",
       " 'parent_id': 'AVESCHbLIpIZhFx9',\n",
       " 'config': {'accept_conflicts': False, 'branch_type': 1},\n",
       " 'sprouts': [],\n",
       " 'sprout_selection': [],\n",
       " 'name_resolution': 'AVESCDSNHSSjvABhEAYIsX8ccLc=',\n",
       " 'interaction': 'AVESCDSNHSSjvABhEQYIsX8ccLc=',\n",
       " 'parent_name_resolution': 'AVESCDSNHSSjvABhEQYccLcAAAA=',\n",
       " 'parent_interaction': 'AVESCDSNHSSjvABhEAYccLcAAAA=',\n",
       " 'parent_data_trie': 'AVESCDSNHSSjvABhCwYccLcAAAA=',\n",
       " 'signature': '',\n",
       " 'creation_ts': 1708121148,\n",
       " 'submit': {'stable_head_id': 'AVESCPH+h7IbDz40DQYIsX8ccLc=',\n",
       "  'parent_submit_id': 'AVESCASBOS0KjvidDQYccLcAAAA=',\n",
       "  'submit_msg': 'Offspring Submit'},\n",
       " 'submit_trace': {'new_buckets': [], 'new_registered_names': []}}"
      ]
     },
     "execution_count": 10,
     "metadata": {},
     "output_type": "execute_result"
    }
   ],
   "source": [
    "genesis_submit_id = response[\"result\"][\"submit\"][\"parent_submit_id\"] \n",
    "response[\"result\"]"
   ]
  },
  {
   "cell_type": "code",
   "execution_count": 11,
   "metadata": {},
   "outputs": [],
   "source": [
    "create_another_offspring_branch_kwargs = dict(\n",
    "    parent_branch_id=genesis_response['result'],\n",
    "    parent_submit_id=genesis_submit_id,\n",
    "    branch_type=TWIG_BRANCH_TYPE_ID,\n",
    "    name='Another Offspring Branch',\n",
    "    signature=signature,\n",
    "    accept_conflicts=accept_conflicts,\n",
    "    msg='Another Offspring Submit')"
   ]
  },
  {
   "cell_type": "code",
   "execution_count": 12,
   "metadata": {},
   "outputs": [
    {
     "name": "stdout",
     "output_type": "stream",
     "text": [
      "Test 'create_offspring_branch_at_head' passed with branch ID: AVESCCMz2VCxLXVU \n",
      "and base64 decoded branch ID: b'\\x01Q\\x12\\x08#3\\xd9P\\xb1-uT'\n"
     ]
    }
   ],
   "source": [
    "another_offspring_response = json_rpc_call(method=\"create_offspring_branch_at_head\", params=create_offspring_branch_kwargs)\n",
    "# response is inside the result field\n",
    "print(\"Test 'create_offspring_branch_at_head' passed with branch ID:\", another_offspring_response['result'], \"\\nand base64 decoded branch ID:\", decode_base64_str_to_bytes(another_offspring_response['result']))"
   ]
  },
  {
   "cell_type": "code",
   "execution_count": null,
   "metadata": {},
   "outputs": [],
   "source": [
    "contents = [\n",
    "        {   \n",
    "            ## A CONTENT BUCKET FOR AN ARTICLE\n",
    "            \"data\": \"=Hello=\",  \n",
    "            \"schema\": DEFAULT_ATOMIC_BUCKET_SCHEMA, \n",
    "            \"parent_id\": BYTES0, \n",
    "            \"signature\": BYTES0, \n",
    "            \"refs\": []\n",
    "        },\n",
    "        {\n",
    "            ## ANOTHER CONTENT BUCKET FOR AN ARTICLE\n",
    "            \"data\": \"=World=\",  \n",
    "            \"schema\": DEFAULT_ATOMIC_BUCKET_SCHEMA, \n",
    "            \"parent_id\": BYTES0, \n",
    "            \"signature\": BYTES0, \n",
    "            \"refs\": []\n",
    "        },\n",
    "        {\n",
    "            ## A CONTEXT BUCKET (MOLECULAR) FOR THAT ARTICLE\n",
    "            \"data\": {\n",
    "                \"order\": [\n",
    "                    {\"id\": 0, \"type\": BUCKET_ID_TYPE_NO_REF},\n",
    "                    {\"id\": 1, \"type\": BUCKET_ID_TYPE_NO_REF}], \n",
    "                \"name\": \"Dummy Article Name\"},\n",
    "            \"schema\": DEFAULT_MOLECULAR_BUCKET_SCHEMA,\n",
    "            \"parent_id\": BYTES0, \n",
    "            \"signature\": BYTES0, \n",
    "            \"refs\": []\n",
    "        }\n",
    "    ]\n",
    "## NOTE: The order of the contents is important. "
   ]
  },
  {
   "cell_type": "code",
   "execution_count": null,
   "metadata": {},
   "outputs": [],
   "source": []
  },
  {
   "cell_type": "code",
   "execution_count": null,
   "metadata": {},
   "outputs": [],
   "source": []
  },
  {
   "cell_type": "code",
   "execution_count": null,
   "metadata": {},
   "outputs": [],
   "source": []
  },
  {
   "cell_type": "code",
   "execution_count": null,
   "metadata": {},
   "outputs": [],
   "source": []
  }
 ],
 "metadata": {
  "kernelspec": {
   "display_name": ".venv",
   "language": "python",
   "name": "python3"
  },
  "language_info": {
   "codemirror_mode": {
    "name": "ipython",
    "version": 3
   },
   "file_extension": ".py",
   "mimetype": "text/x-python",
   "name": "python",
   "nbconvert_exporter": "python",
   "pygments_lexer": "ipython3",
   "version": "3.9.15"
  },
  "orig_nbformat": 4
 },
 "nbformat": 4,
 "nbformat_minor": 2
}
