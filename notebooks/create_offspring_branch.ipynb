{
 "cells": [
  {
   "attachments": {},
   "cell_type": "markdown",
   "metadata": {},
   "source": [
    "## Create Offspring Branch"
   ]
  },
  {
   "cell_type": "code",
   "execution_count": null,
   "metadata": {},
   "outputs": [],
   "source": [
    "import os \n",
    "os.chdir('..')"
   ]
  },
  {
   "cell_type": "code",
   "execution_count": null,
   "metadata": {},
   "outputs": [],
   "source": [
    "from utils.rpc.lib import json_rpc_call\n",
    "from utils.encode.bytes import encode_bytes_to_base64_str, decode_base64_str_to_bytes\n",
    "from config.branch_cfg import TWIG_BRANCH_TYPE_ID\n",
    "from config.bucket_cfg import BUCKET_ID_TYPE_NO_REF, BUCKET_ID_TYPE_WITH_ID_REF, DEFAULT_MOLECULAR_BUCKET_SCHEMA, DEFAULT_ATOMIC_BUCKET_SCHEMA\n",
    "BYTES0 = encode_bytes_to_base64_str(bytes(0))"
   ]
  },
  {
   "attachments": {},
   "cell_type": "markdown",
   "metadata": {},
   "source": [
    "#### Create Genesis Branch"
   ]
  },
  {
   "cell_type": "code",
   "execution_count": null,
   "metadata": {},
   "outputs": [],
   "source": [
    "signature = BYTES0\n",
    "accept_conflicts = False\n",
    "msg = 'Genesis Submit'\n",
    "name = 'Genesis Branch'\n",
    "create_branch_kwargs = dict(branch_type=TWIG_BRANCH_TYPE_ID, name=name, signature=signature, accept_conflicts=accept_conflicts, msg=msg)"
   ]
  },
  {
   "cell_type": "code",
   "execution_count": null,
   "metadata": {},
   "outputs": [],
   "source": [
    "genesis_response = json_rpc_call(method=\"create_genesis_branch\", params=create_branch_kwargs)\n",
    "# response is inside the result field\n",
    "print(\"Test 'create_genesis_branch' passed with branch ID:\", genesis_response['result'], \"\\nand base64 decoded branch ID:\", decode_base64_str_to_bytes(genesis_response['result']))"
   ]
  },
  {
   "attachments": {},
   "cell_type": "markdown",
   "metadata": {},
   "source": [
    "#### Create Offspring Branch"
   ]
  },
  {
   "cell_type": "code",
   "execution_count": null,
   "metadata": {},
   "outputs": [],
   "source": [
    "create_offspring_branch_kwargs = dict(\n",
    "    parent_branch_id=genesis_response['result'], \n",
    "    branch_type=TWIG_BRANCH_TYPE_ID, \n",
    "    name='Offspring Branch', \n",
    "    signature=signature, \n",
    "    accept_conflicts=accept_conflicts, \n",
    "    msg='Offspring Submit')"
   ]
  },
  {
   "cell_type": "code",
   "execution_count": null,
   "metadata": {},
   "outputs": [],
   "source": [
    "offspring_response = json_rpc_call(method=\"create_offspring_branch_at_head\", params=create_offspring_branch_kwargs)\n",
    "# response is inside the result field\n",
    "print(\"Test 'create_offspring_branch_at_head' passed with branch ID:\", offspring_response['result'], \"\\nand base64 decoded branch ID:\", decode_base64_str_to_bytes(offspring_response['result']))"
   ]
  },
  {
   "attachments": {},
   "cell_type": "markdown",
   "metadata": {},
   "source": [
    "#### Create Offspring branch at particular submit"
   ]
  },
  {
   "cell_type": "code",
   "execution_count": null,
   "metadata": {},
   "outputs": [],
   "source": [
    "rpc_kwargs = dict(branch_id=offspring_response[\"result\"], deserialize_buckets=False) #rpc_genesis_branch_response[\"decoded_branch_id\"], deserialize_buckets=True)\n",
    "response = json_rpc_call(method=\"get_branch_data_from_branch_id\", params=rpc_kwargs)"
   ]
  },
  {
   "cell_type": "code",
   "execution_count": null,
   "metadata": {},
   "outputs": [],
   "source": [
    "genesis_submit_id = response[\"result\"][\"submit\"][\"parent_submit_id\"] \n",
    "response[\"result\"]"
   ]
  },
  {
   "cell_type": "code",
   "execution_count": null,
   "metadata": {},
   "outputs": [],
   "source": [
    "create_another_offspring_branch_kwargs = dict(\n",
    "    parent_branch_id=genesis_response['result'],\n",
    "    parent_submit_id=genesis_submit_id,\n",
    "    branch_type=TWIG_BRANCH_TYPE_ID,\n",
    "    name='Another Offspring Branch',\n",
    "    signature=signature,\n",
    "    accept_conflicts=accept_conflicts,\n",
    "    msg='Another Offspring Submit')"
   ]
  },
  {
   "cell_type": "code",
   "execution_count": null,
   "metadata": {},
   "outputs": [],
   "source": [
    "another_offspring_response = json_rpc_call(method=\"create_offspring_branch_at_head\", params=create_offspring_branch_kwargs)\n",
    "# response is inside the result field\n",
    "print(\"Test 'create_offspring_branch_at_head' passed with branch ID:\", another_offspring_response['result'], \"\\nand base64 decoded branch ID:\", decode_base64_str_to_bytes(another_offspring_response['result']))"
   ]
  }
 ],
 "metadata": {
  "kernelspec": {
   "display_name": ".venv",
   "language": "python",
   "name": "python3"
  },
  "language_info": {
   "codemirror_mode": {
    "name": "ipython",
    "version": 3
   },
   "file_extension": ".py",
   "mimetype": "text/x-python",
   "name": "python",
   "nbconvert_exporter": "python",
   "pygments_lexer": "ipython3",
   "version": "3.9.15"
  },
  "orig_nbformat": 4
 },
 "nbformat": 4,
 "nbformat_minor": 2
}
