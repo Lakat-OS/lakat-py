{
 "cells": [
  {
   "cell_type": "code",
   "execution_count": 1,
   "metadata": {},
   "outputs": [],
   "source": [
    "from initialization.wp_get_page import WikipediaPage\n",
    "from initialization.wp_structured_text import WikipediaStructuredText\n",
    "from initialization.wp_structured_diffs import Diff\n",
    "from lakat.submit import content_submit\n",
    "from config.scrape_cfg import WIKIPEDIA_API_URL, EXAMPLE_ARTICLE_TITLE\n",
    "from config.bucket_cfg import DEFAULT_ATOMIC_BUCKET_SCHEMA, DEFAULT_MOLECULAR_BUCKET_SCHEMA, DEFAULT_NAME_RESOLUTION_BUCKET_SCHEMA, BUCKET_ID_TYPE_NO_REF, BUCKET_ID_TYPE_WITH_ID_REF\n",
    "from config.db_cfg import TRIE_TYPE\n",
    "from utils.trie.trie import MerkleTrie\n",
    "from db.mockdb import MOCK_DB\n",
    "from config.db_cfg import DB_FOLDER\n",
    "from config.env import DEV_CROP_FILENAME_AFTER\n",
    "import os\n",
    "from setup import db_trie as db_tr\n",
    "from utils.signing.sign import get_public_key_from_file\n",
    "from utils.serialize import unserialize, serialize\n",
    "from initialization.test_branch_creation import branch_creation\n",
    "from initialization.test_wp_submissions import (first_submit, submit_new_edit)\n"
   ]
  },
  {
   "cell_type": "code",
   "execution_count": 2,
   "metadata": {},
   "outputs": [],
   "source": [
    "# db_tr.db.close()"
   ]
  },
  {
   "cell_type": "code",
   "execution_count": 3,
   "metadata": {},
   "outputs": [
    {
     "name": "stdout",
     "output_type": "stream",
     "text": [
      "article_title:  Compartmental models in epidemiology\n"
     ]
    }
   ],
   "source": [
    "\n",
    "# db.close()\n",
    "article_title = EXAMPLE_ARTICLE_TITLE\n",
    "print('article_title: ', article_title)\n",
    "\n",
    "wp = WikipediaPage(WIKIPEDIA_API_URL)\n",
    "edit_history = wp.load_content_from_batches(\n",
    "    article_title, 0, 105, download_if_not_exist=True)\n",
    "edit_history.reverse()\n",
    "\n",
    "key_file_prefix=\"lakat\"\n",
    "public_key = get_public_key_from_file(key_file_prefix=key_file_prefix)\n",
    "# create a name registry NR (optional)"
   ]
  },
  {
   "cell_type": "code",
   "execution_count": 4,
   "metadata": {},
   "outputs": [],
   "source": [
    "branchId = branch_creation(public_key=public_key, verbose=False)"
   ]
  },
  {
   "cell_type": "code",
   "execution_count": 5,
   "metadata": {},
   "outputs": [],
   "source": [
    "new_part_id_to_bucket_id, res = first_submit(edit=edit_history[0], public_key=public_key, branchId=branchId)\n"
   ]
  },
  {
   "cell_type": "code",
   "execution_count": 6,
   "metadata": {},
   "outputs": [],
   "source": [
    "article_id = res[\"bucket_ids\"][-1] ## hack TODO! Change this."
   ]
  },
  {
   "cell_type": "code",
   "execution_count": 7,
   "metadata": {},
   "outputs": [],
   "source": [
    "new_part_id_to_bucket_id, res = submit_new_edit(\n",
    "    public_key, \n",
    "    branchId, prev_edit=edit_history[0], new_edit=edit_history[1], article_id=article_id, part_id_to_bucket_id=new_part_id_to_bucket_id)"
   ]
  },
  {
   "cell_type": "code",
   "execution_count": 8,
   "metadata": {},
   "outputs": [],
   "source": [
    "\n",
    "new_part_id_to_bucket_id, res = submit_new_edit(\n",
    "    public_key, \n",
    "    branchId, prev_edit=edit_history[1], new_edit=edit_history[2], article_id=article_id, part_id_to_bucket_id=new_part_id_to_bucket_id)"
   ]
  },
  {
   "attachments": {},
   "cell_type": "markdown",
   "metadata": {},
   "source": [
    "### Create a new mock db from the old one"
   ]
  },
  {
   "cell_type": "code",
   "execution_count": 14,
   "metadata": {},
   "outputs": [],
   "source": [
    "\n",
    "\n",
    "db_name = \"test_2\"\n",
    "\n",
    "# db = DB(name=DB_NAME)\n",
    "db_path = os.path.abspath(os.path.join(os.getcwd(), DB_FOLDER))\n",
    "db_mock = MOCK_DB(path=db_path, name=db_name, create=True, crop_filename_after=DEV_CROP_FILENAME_AFTER)\n",
    "# TODO: SHOULD be created only on branch creation\n",
    "another_trie = MerkleTrie(db=db_tr.db, branchId=\"\")"
   ]
  },
  {
   "cell_type": "code",
   "execution_count": 15,
   "metadata": {},
   "outputs": [],
   "source": [
    "another_trie.load_trie_from_db(root_hash='QmeqQn')"
   ]
  },
  {
   "cell_type": "code",
   "execution_count": 22,
   "metadata": {},
   "outputs": [
    {
     "data": {
      "text/plain": [
       "{'516d5': {'a': {'6': {'3': {'3761': '{\"Qmdt93\": \"Compartmental models in epidemiology\"}'},\n",
       "    'f': {'5969': b''}},\n",
       "   '4': {'e5468': b''}},\n",
       "  '8': {'47544a': b''},\n",
       "  '2': {'5': {'2': {'3478': 'QmY6yg'}, '6': {'3351': b''}},\n",
       "   '6': {'b6463': b''}},\n",
       "  '4': {'6': {'2': {'3374': b''}, '8': {'7563': b''}}, '4': {'13254': b''}},\n",
       "  '3': {'636343': b''},\n",
       "  '9': {'37': {'5869': b''}, '36': {'7967': b''}},\n",
       "  '0': {'4c516b': b''}},\n",
       " '516d6': {'6': {'39': {'6762': b''}, '35': {'6854': b''}},\n",
       "  '1': {'76367a': b''},\n",
       "  '5': {'4': {'45a6e': b''}, '6': {'15543': b''}},\n",
       "  '4': {'743933': b''},\n",
       "  '2': {'6b': {'3736': b''}, '65': {'6971': b''}}},\n",
       " '516d4': {'e6d4479': b''}}"
      ]
     },
     "execution_count": 22,
     "metadata": {},
     "output_type": "execute_result"
    }
   ],
   "source": [
    "another_trie.get_json_representation()"
   ]
  },
  {
   "cell_type": "code",
   "execution_count": 9,
   "metadata": {},
   "outputs": [
    {
     "data": {
      "text/plain": [
       "{'bucket_ids': ['QmTtoe', 'QmdhqV'],\n",
       " 'molecule_ids': ['QmdhqV'],\n",
       " 'branch_id': 'QmRR4x',\n",
       " 'branch_state': 'QmZCW4',\n",
       " 'submit_id': 'QmTjMx',\n",
       " 'submit_trac_id': 'QmfLdp',\n",
       " 'registered_names': [],\n",
       " 'nr_regs': -1,\n",
       " 'name_registration_deployed': False,\n",
       " 'msg': \"/* Carrier state */ Image tweak. By '82.148.33.8'.\"}"
      ]
     },
     "execution_count": 9,
     "metadata": {},
     "output_type": "execute_result"
    }
   ],
   "source": [
    "res"
   ]
  },
  {
   "cell_type": "code",
   "execution_count": 11,
   "metadata": {},
   "outputs": [
    {
     "data": {
      "text/plain": [
       "b'{\"children\": {\"5\": \"QmTFQa\"}, \"value\": null, \"interaction\": null, \"path\": \"\"}'"
      ]
     },
     "execution_count": 11,
     "metadata": {},
     "output_type": "execute_result"
    }
   ],
   "source": [
    "db_tr.db.get(key='QmeqQn'.encode('utf-8'), entry_type=TRIE_TYPE)"
   ]
  },
  {
   "cell_type": "code",
   "execution_count": null,
   "metadata": {},
   "outputs": [],
   "source": []
  }
 ],
 "metadata": {
  "kernelspec": {
   "display_name": ".venv",
   "language": "python",
   "name": "python3"
  },
  "language_info": {
   "codemirror_mode": {
    "name": "ipython",
    "version": 3
   },
   "file_extension": ".py",
   "mimetype": "text/x-python",
   "name": "python",
   "nbconvert_exporter": "python",
   "pygments_lexer": "ipython3",
   "version": "3.9.15"
  },
  "orig_nbformat": 4
 },
 "nbformat": 4,
 "nbformat_minor": 2
}
