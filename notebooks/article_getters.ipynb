{
 "cells": [
  {
   "attachments": {},
   "cell_type": "markdown",
   "metadata": {},
   "source": [
    "## Getters for the Articles"
   ]
  },
  {
   "cell_type": "code",
   "execution_count": 1,
   "metadata": {},
   "outputs": [],
   "source": [
    "import os \n",
    "os.chdir('..')"
   ]
  },
  {
   "cell_type": "code",
   "execution_count": 2,
   "metadata": {},
   "outputs": [],
   "source": [
    "from utils.format.schema import check_argument, convert_to_bytes_based_on_schema, convert_from_bytes_based_on_schema\n",
    "import inspection.branch as inspection_branch\n",
    "import inspection.articles as inspection_articles\n",
    "from utils.encode.language import decode_bytes, encode_string_standard\n",
    "from initialization.notebooks.genesis_branch import test_create_genesis_branch_with_initial_submit\n",
    "import lakat.storage.local_storage as lakat_storage_functions\n",
    "from setup.storage import name_tries\n",
    "# lakat_storage_functions.restart_db()\n"
   ]
  },
  {
   "cell_type": "code",
   "execution_count": 3,
   "metadata": {},
   "outputs": [
    {
     "data": {
      "text/plain": [
       "{'branch_id': b'\\x01Q\\x12\\x08\\xc3\\xb3\\xda\\xe3x\\x04\\xdd\\xe1',\n",
       " 'decoded_branch_id': 'AVESCMOz2uN4BN3h',\n",
       " 'branch_head_id': b'\\x01Q\\x12\\x08\\xc3\\xb3\\xda\\xe3x\\x04\\xdd\\xe1\\n\\x06zS)\\x00\\x00\\x00',\n",
       " 'decoded_branch_head_id': 'AVESCMOz2uN4BN3hCgZ6UykAAAA='}"
      ]
     },
     "execution_count": 3,
     "metadata": {},
     "output_type": "execute_result"
    }
   ],
   "source": [
    "response = test_create_genesis_branch_with_initial_submit(debug=False)\n",
    "response"
   ]
  },
  {
   "cell_type": "code",
   "execution_count": 4,
   "metadata": {},
   "outputs": [],
   "source": [
    "branch_id = response[\"branch_id\"] # or a branch id that you know exists in the database   \n",
    "article = inspection_articles.get_article_from_article_name(branch_id=branch_id, name=encode_string_standard('Dummy Article Name'))\n"
   ]
  },
  {
   "cell_type": "code",
   "execution_count": 5,
   "metadata": {},
   "outputs": [
    {
     "name": "stdout",
     "output_type": "stream",
     "text": [
      "\n",
      "Hello\n",
      "World\n"
     ]
    }
   ],
   "source": [
    "print(decode_bytes(article))"
   ]
  },
  {
   "cell_type": "code",
   "execution_count": 6,
   "metadata": {},
   "outputs": [
    {
     "data": {
      "text/plain": [
       "['encode_string_standard',\n",
       " 'get_article_from_article_name',\n",
       " 'get_article_from_article_name_schema',\n",
       " 'get_article_ids_from_branch_id',\n",
       " 'get_article_ids_from_last_n_submits',\n",
       " 'get_article_ids_until_submit_id',\n",
       " 'join_encoded_bytes',\n",
       " 'lakat_storage',\n",
       " 'lakat_trie_storage',\n",
       " 'random']"
      ]
     },
     "execution_count": 6,
     "metadata": {},
     "output_type": "execute_result"
    }
   ],
   "source": [
    "dir(inspection_articles)[-10:]"
   ]
  },
  {
   "cell_type": "code",
   "execution_count": 7,
   "metadata": {},
   "outputs": [
    {
     "data": {
      "text/plain": [
       "([{'name': b'\\x01\\x12Dummy Article Name',\n",
       "   'article_id': b'\\x01Q\\x12\\x08\\xe7!\\tsEd\\x92:\\x02',\n",
       "   'submit_id': b'\\x01Q\\x12\\x08\\x9c\\x1f`\\x16\\xcb\\xb0\\xf8\\x0e\\r\\x06zS)\\x00\\x00\\x00',\n",
       "   'branch_id': b'\\x01Q\\x12\\x08\\xc3\\xb3\\xda\\xe3x\\x04\\xdd\\xe1'}],\n",
       " True)"
      ]
     },
     "execution_count": 7,
     "metadata": {},
     "output_type": "execute_result"
    }
   ],
   "source": [
    "# 'get_article_ids_from_branch_id',\n",
    "# 'get_article_ids_from_last_n_submits',\n",
    "# 'get_article_ids_until_submit_id',\n",
    "response_2 = inspection_articles.get_article_ids_from_branch_id(branch_id=branch_id)\n",
    "response_2"
   ]
  },
  {
   "attachments": {},
   "cell_type": "markdown",
   "metadata": {},
   "source": [
    "#### Via RPC Calls"
   ]
  },
  {
   "cell_type": "code",
   "execution_count": 3,
   "metadata": {},
   "outputs": [],
   "source": [
    "import requests\n",
    "import json\n",
    "from config.rpc_cfg import RPC_PORT\n",
    "from config.scrape_cfg import EXAMPLE_ARTICLE_TITLE\n",
    "def json_rpc_call(method, params=None):\n",
    "    url = f\"http://localhost:{RPC_PORT}/\"\n",
    "    headers = {'content-type': 'application/json'}\n",
    "    payload = {\n",
    "        \"method\": method,\n",
    "        \"params\": params,\n",
    "        \"jsonrpc\": \"2.0\",\n",
    "        \"id\": 0,\n",
    "    }\n",
    "    encoded_payload = json.dumps(payload).encode('utf-8')\n",
    "    response = requests.post(url, data=encoded_payload, headers=headers)\n",
    "    # print(response)#\n",
    "    return response.json()"
   ]
  },
  {
   "cell_type": "code",
   "execution_count": 7,
   "metadata": {},
   "outputs": [],
   "source": [
    "rpc_kwargs = dict(branch_id='AVESCBIV3kLa501s', name='Dummy Article Name') #rpc_genesis_branch_response[\"decoded_branch_id\"], deserialize_buckets=True)\n",
    "response = json_rpc_call(method=\"get_article_from_article_name\", params=rpc_kwargs)\n"
   ]
  },
  {
   "cell_type": "code",
   "execution_count": 8,
   "metadata": {},
   "outputs": [
    {
     "data": {
      "text/plain": [
       "'\\nHello\\nWorld'"
      ]
     },
     "execution_count": 8,
     "metadata": {},
     "output_type": "execute_result"
    }
   ],
   "source": [
    "response[\"result\"]"
   ]
  },
  {
   "cell_type": "code",
   "execution_count": null,
   "metadata": {},
   "outputs": [],
   "source": []
  }
 ],
 "metadata": {
  "kernelspec": {
   "display_name": ".venv",
   "language": "python",
   "name": "python3"
  },
  "language_info": {
   "codemirror_mode": {
    "name": "ipython",
    "version": 3
   },
   "file_extension": ".py",
   "mimetype": "text/x-python",
   "name": "python",
   "nbconvert_exporter": "python",
   "pygments_lexer": "ipython3",
   "version": "3.9.15"
  },
  "orig_nbformat": 4
 },
 "nbformat": 4,
 "nbformat_minor": 2
}
