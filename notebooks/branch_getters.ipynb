{
 "cells": [
  {
   "attachments": {},
   "cell_type": "markdown",
   "metadata": {},
   "source": [
    "## Branch Getters"
   ]
  },
  {
   "cell_type": "code",
   "execution_count": 1,
   "metadata": {},
   "outputs": [],
   "source": [
    "import os \n",
    "os.chdir('..')"
   ]
  },
  {
   "cell_type": "code",
   "execution_count": 2,
   "metadata": {},
   "outputs": [
    {
     "ename": "IOError",
     "evalue": "b'IO error: lock /tmp/lakat_test//LOCK: Resource temporarily unavailable'",
     "output_type": "error",
     "traceback": [
      "\u001b[0;31m---------------------------------------------------------------------------\u001b[0m",
      "\u001b[0;31mIOError\u001b[0m                                   Traceback (most recent call last)",
      "Cell \u001b[0;32mIn[2], line 2\u001b[0m\n\u001b[1;32m      1\u001b[0m \u001b[39mfrom\u001b[39;00m \u001b[39mutils\u001b[39;00m\u001b[39m.\u001b[39;00m\u001b[39mformat\u001b[39;00m\u001b[39m.\u001b[39;00m\u001b[39mschema\u001b[39;00m \u001b[39mimport\u001b[39;00m check_argument, convert_to_bytes_based_on_schema, convert_from_bytes_based_on_schema\n\u001b[0;32m----> 2\u001b[0m \u001b[39mfrom\u001b[39;00m \u001b[39minitialization\u001b[39;00m\u001b[39m.\u001b[39;00m\u001b[39mnotebooks\u001b[39;00m\u001b[39m.\u001b[39;00m\u001b[39mgenesis_branch\u001b[39;00m \u001b[39mimport\u001b[39;00m test_create_genesis_branch_with_initial_submit\n\u001b[1;32m      3\u001b[0m \u001b[39mfrom\u001b[39;00m \u001b[39minitialization\u001b[39;00m\u001b[39m.\u001b[39;00m\u001b[39mnotebooks\u001b[39;00m\u001b[39m.\u001b[39;00m\u001b[39mgenesis_branch_rpc\u001b[39;00m \u001b[39mimport\u001b[39;00m test_rpc_create_genesis_branch_with_initial_submit\n\u001b[1;32m      4\u001b[0m \u001b[39mimport\u001b[39;00m \u001b[39minspection\u001b[39;00m\u001b[39m.\u001b[39;00m\u001b[39mbranch\u001b[39;00m \u001b[39mas\u001b[39;00m \u001b[39minspection_branch\u001b[39;00m\n",
      "File \u001b[0;32m~/Projects/Lakat/lakat-py/initialization/notebooks/genesis_branch.py:1\u001b[0m\n\u001b[0;32m----> 1\u001b[0m \u001b[39mimport\u001b[39;00m \u001b[39mlakat\u001b[39;00m\u001b[39m.\u001b[39;00m\u001b[39mbranch\u001b[39;00m\u001b[39m.\u001b[39;00m\u001b[39mfunctions\u001b[39;00m \u001b[39mas\u001b[39;00m \u001b[39mlakat_branch_functions\u001b[39;00m\n\u001b[1;32m      2\u001b[0m \u001b[39mimport\u001b[39;00m \u001b[39mlakat\u001b[39;00m\u001b[39m.\u001b[39;00m\u001b[39msubmit\u001b[39;00m\u001b[39m.\u001b[39;00m\u001b[39mfunctions\u001b[39;00m \u001b[39mas\u001b[39;00m \u001b[39mlakat_submit_functions\u001b[39;00m\n\u001b[1;32m      3\u001b[0m \u001b[39mimport\u001b[39;00m \u001b[39mlakat\u001b[39;00m\u001b[39m.\u001b[39;00m\u001b[39mstorage\u001b[39;00m\u001b[39m.\u001b[39;00m\u001b[39mlocal_storage\u001b[39;00m \u001b[39mas\u001b[39;00m \u001b[39mlakat_storage_functions\u001b[39;00m\n",
      "File \u001b[0;32m~/Projects/Lakat/lakat-py/lakat/branch/functions.py:20\u001b[0m\n\u001b[1;32m     18\u001b[0m \u001b[39m# from typing import Mapping, Optional, Tuple, Union, List\u001b[39;00m\n\u001b[1;32m     19\u001b[0m \u001b[39mfrom\u001b[39;00m \u001b[39mlakat\u001b[39;00m\u001b[39m.\u001b[39;00m\u001b[39mcheck\u001b[39;00m \u001b[39mimport\u001b[39;00m check_inputs\n\u001b[0;32m---> 20\u001b[0m \u001b[39mfrom\u001b[39;00m \u001b[39mlakat\u001b[39;00m\u001b[39m.\u001b[39;00m\u001b[39mstorage\u001b[39;00m\u001b[39m.\u001b[39;00m\u001b[39mlocal_storage\u001b[39;00m \u001b[39mimport\u001b[39;00m (stage_to_db, stage_many_to_db, commit_to_db)\n\u001b[1;32m     21\u001b[0m \u001b[39mfrom\u001b[39;00m \u001b[39mlakat\u001b[39;00m\u001b[39m.\u001b[39;00m\u001b[39mstorage\u001b[39;00m\u001b[39m.\u001b[39;00m\u001b[39mtrie_storage\u001b[39;00m \u001b[39mimport\u001b[39;00m (\n\u001b[1;32m     22\u001b[0m     create_data_trie, create_interaction_trie, create_name_trie,\n\u001b[1;32m     23\u001b[0m     stage_data_trie, stage_interaction_trie, stage_name_trie,\n\u001b[1;32m     24\u001b[0m     stage_data_trie_root, stage_interaction_trie_root, stage_name_trie_root,\n\u001b[1;32m     25\u001b[0m     commit_name_trie_changes, commit_data_trie_changes, commit_interaction_trie_changes)\n\u001b[1;32m     30\u001b[0m \u001b[39mdef\u001b[39;00m \u001b[39mcreate_genesis_branch\u001b[39m(branch_type: \u001b[39mint\u001b[39m, name: \u001b[39mbytes\u001b[39m, signature: \u001b[39mbytes\u001b[39m, accept_conflicts: \u001b[39mbool\u001b[39m, msg: \u001b[39mbytes\u001b[39m):\n\u001b[1;32m     31\u001b[0m \n\u001b[1;32m     32\u001b[0m     \u001b[39m## CHECK INPUT TYPES\u001b[39;00m\n",
      "File \u001b[0;32m~/Projects/Lakat/lakat-py/lakat/storage/local_storage.py:5\u001b[0m\n\u001b[1;32m      3\u001b[0m \u001b[39mfrom\u001b[39;00m \u001b[39mconfig\u001b[39;00m\u001b[39m.\u001b[39;00m\u001b[39mencode_cfg\u001b[39;00m \u001b[39mimport\u001b[39;00m DEFAULT_CODEC\n\u001b[1;32m      4\u001b[0m \u001b[39mfrom\u001b[39;00m \u001b[39mtyping\u001b[39;00m \u001b[39mimport\u001b[39;00m List, Tuple\n\u001b[0;32m----> 5\u001b[0m \u001b[39mfrom\u001b[39;00m \u001b[39msetup\u001b[39;00m \u001b[39mimport\u001b[39;00m storage\n\u001b[1;32m      6\u001b[0m \u001b[39mfrom\u001b[39;00m \u001b[39mlakat\u001b[39;00m\u001b[39m.\u001b[39;00m\u001b[39merrors\u001b[39;00m \u001b[39mimport\u001b[39;00m ERR_N_TRIE_1\n\u001b[1;32m      8\u001b[0m \u001b[39m# clear db and start a new db\u001b[39;00m\n",
      "File \u001b[0;32m~/Projects/Lakat/lakat-py/setup/storage.py:12\u001b[0m\n\u001b[1;32m     10\u001b[0m db_path \u001b[39m=\u001b[39m os\u001b[39m.\u001b[39mpath\u001b[39m.\u001b[39mabspath(os\u001b[39m.\u001b[39mpath\u001b[39m.\u001b[39mjoin(os\u001b[39m.\u001b[39mgetcwd(), DB_FOLDER))\n\u001b[1;32m     11\u001b[0m \u001b[39m# db_interface = MOCK_DB(path=db_path, name=DB_NAME, crop_filename_after=0)\u001b[39;00m\n\u001b[0;32m---> 12\u001b[0m db_interface \u001b[39m=\u001b[39m DB(name\u001b[39m=\u001b[39;49mDB_NAME, create\u001b[39m=\u001b[39;49m\u001b[39mTrue\u001b[39;49;00m)\n\u001b[1;32m     13\u001b[0m \u001b[39m# db_interface = PRIMITIVE_MOCK_DB()\u001b[39;00m\n\u001b[1;32m     14\u001b[0m \u001b[39m# Trie = MerkleTrie\u001b[39;00m\n\u001b[1;32m     15\u001b[0m name_tries : Mapping[\u001b[39mbytes\u001b[39m, MerkleTrie] \u001b[39m=\u001b[39m \u001b[39mdict\u001b[39m()\n",
      "File \u001b[0;32m~/Projects/Lakat/lakat-py/db/local_db.py:13\u001b[0m, in \u001b[0;36mDB.__init__\u001b[0;34m(self, name, create)\u001b[0m\n\u001b[1;32m     11\u001b[0m \u001b[39mself\u001b[39m\u001b[39m.\u001b[39mstaged \u001b[39m=\u001b[39m {}  \u001b[39m# Dictionary to hold staged changes\u001b[39;00m\n\u001b[1;32m     12\u001b[0m \u001b[39mif\u001b[39;00m create:\n\u001b[0;32m---> 13\u001b[0m     \u001b[39mself\u001b[39m\u001b[39m.\u001b[39mdb \u001b[39m=\u001b[39m \u001b[39mself\u001b[39;49m\u001b[39m.\u001b[39;49mcreate(name)\n",
      "File \u001b[0;32m~/Projects/Lakat/lakat-py/db/local_db.py:16\u001b[0m, in \u001b[0;36mDB.create\u001b[0;34m(self, name)\u001b[0m\n\u001b[1;32m     15\u001b[0m \u001b[39mdef\u001b[39;00m \u001b[39mcreate\u001b[39m(\u001b[39mself\u001b[39m, name: \u001b[39mstr\u001b[39m):\n\u001b[0;32m---> 16\u001b[0m     \u001b[39mreturn\u001b[39;00m plyvel\u001b[39m.\u001b[39;49mDB(\u001b[39mf\u001b[39;49m\u001b[39m'\u001b[39;49m\u001b[39m/tmp/\u001b[39;49m\u001b[39m{\u001b[39;49;00mname\u001b[39m}\u001b[39;49;00m\u001b[39m/\u001b[39;49m\u001b[39m'\u001b[39;49m, create_if_missing\u001b[39m=\u001b[39;49m\u001b[39mTrue\u001b[39;49;00m)\n",
      "File \u001b[0;32mplyvel/_plyvel.pyx:247\u001b[0m, in \u001b[0;36mplyvel._plyvel.DB.__init__\u001b[0;34m()\u001b[0m\n",
      "File \u001b[0;32mplyvel/_plyvel.pyx:88\u001b[0m, in \u001b[0;36mplyvel._plyvel.raise_for_status\u001b[0;34m()\u001b[0m\n",
      "\u001b[0;31mIOError\u001b[0m: b'IO error: lock /tmp/lakat_test//LOCK: Resource temporarily unavailable'"
     ]
    }
   ],
   "source": [
    "from utils.format.schema import check_argument, convert_to_bytes_based_on_schema, convert_from_bytes_based_on_schema\n",
    "from initialization.notebooks.genesis_branch import test_create_genesis_branch_with_initial_submit\n",
    "from initialization.notebooks.genesis_branch_rpc import test_rpc_create_genesis_branch_with_initial_submit\n",
    "import inspection.branch as inspection_branch"
   ]
  },
  {
   "cell_type": "code",
   "execution_count": 3,
   "metadata": {},
   "outputs": [],
   "source": [
    "test_genesis_response = test_create_genesis_branch_with_initial_submit(debug=False)"
   ]
  },
  {
   "attachments": {},
   "cell_type": "markdown",
   "metadata": {},
   "source": [
    "### GETTERS WITHOUT RPC SERVER CALLS"
   ]
  },
  {
   "attachments": {},
   "cell_type": "markdown",
   "metadata": {},
   "source": [
    "#### Get Branch Name From Branch Id"
   ]
  },
  {
   "cell_type": "code",
   "execution_count": 4,
   "metadata": {},
   "outputs": [
    {
     "name": "stdout",
     "output_type": "stream",
     "text": [
      "arguments are valid according to schema:  True\n",
      "converted_kwargs:  {'branch_id': b'\\x01Q\\x12\\x02}\\xbf'}\n",
      "decoded response:  Genesis Branch\n"
     ]
    }
   ],
   "source": [
    "kwargs = dict(branch_id=test_genesis_response[\"decoded_branch_id\"])\n",
    "arguments_valid_schema = check_argument(arg=kwargs, schema=inspection_branch.get_branch_name_from_branch_id_schema)\n",
    "print(\"arguments are valid according to schema: \", arguments_valid_schema)\n",
    "converted_kwargs = convert_to_bytes_based_on_schema(schema=inspection_branch.get_branch_name_from_branch_id_schema, data=kwargs)\n",
    "print(\"converted_kwargs: \", converted_kwargs)\n",
    "response = inspection_branch.get_branch_name_from_branch_id(**converted_kwargs)\n",
    "decoded_response = convert_from_bytes_based_on_schema(schema=inspection_branch.get_branch_name_from_branch_id_schema[\"response\"], data=response)\n",
    "print(\"decoded response: \", decoded_response)"
   ]
  },
  {
   "attachments": {},
   "cell_type": "markdown",
   "metadata": {},
   "source": [
    "#### Get Branch Data from Branch Id"
   ]
  },
  {
   "cell_type": "code",
   "execution_count": 9,
   "metadata": {},
   "outputs": [
    {
     "name": "stdout",
     "output_type": "stream",
     "text": [
      "arguments are valid according to schema:  True\n",
      "converted_kwargs:  {'branch_id': b'\\x01Q\\x12\\x02\\x04z', 'deserialize_buckets': False}\n"
     ]
    },
    {
     "data": {
      "text/plain": [
       "{'id': 'AVESAgR6',\n",
       " 'ns': 'FL0AAA==',\n",
       " 'name': 'Genesis Branch',\n",
       " 'parent_id': '',\n",
       " 'stable_head': {'parent_submit_id': 'AVESAs9tDQQUvQAA',\n",
       "  'submit_msg': 'Initial Submit'},\n",
       " 'config': {'accept_conflicts': False, 'branch_type': 1},\n",
       " 'sprouts': [],\n",
       " 'sprout_selection': [],\n",
       " 'name_resolution': 'AVESAsTgEAQUvQAA',\n",
       " 'interaction': 'AVESAjSNEQQUvQAA',\n",
       " 'signature': '',\n",
       " 'creation_ts': 1705187625,\n",
       " 'submit_trace': {'new_buckets': ['AVESAtrKAQ==',\n",
       "   'AVESAm0/AQ==',\n",
       "   'AVESAsOaAg=='],\n",
       "  'new_registered_names': [{'name': 'Dummy Article Name',\n",
       "    'id': 'AVESAsOaAg=='}]}}"
      ]
     },
     "execution_count": 9,
     "metadata": {},
     "output_type": "execute_result"
    }
   ],
   "source": [
    "bd_kwargs = dict(branch_id=test_genesis_response[\"decoded_branch_id\"], deserialize_buckets=False)\n",
    "db_arguments_valid_schema = check_argument(arg=bd_kwargs, schema=inspection_branch.get_branch_data_from_branch_id_schema)\n",
    "print(\"arguments are valid according to schema: \", db_arguments_valid_schema)\n",
    "converted_bd_kwargs = convert_to_bytes_based_on_schema(schema=inspection_branch.get_branch_data_from_branch_id_schema, data=bd_kwargs)\n",
    "print(\"converted_kwargs: \", converted_bd_kwargs)\n",
    "bd_response = inspection_branch.get_branch_data_from_branch_id(**converted_bd_kwargs)\n",
    "decoded_db_response = convert_from_bytes_based_on_schema(schema=inspection_branch.get_branch_data_from_branch_id_schema[\"response\"], data=bd_response)\n",
    "decoded_db_response\n",
    "# bd_response\n"
   ]
  },
  {
   "attachments": {},
   "cell_type": "markdown",
   "metadata": {},
   "source": [
    "### Getters via RPC server call"
   ]
  },
  {
   "cell_type": "code",
   "execution_count": 2,
   "metadata": {},
   "outputs": [],
   "source": [
    "import requests\n",
    "import json\n",
    "from config.rpc_cfg import RPC_PORT"
   ]
  },
  {
   "cell_type": "code",
   "execution_count": 3,
   "metadata": {},
   "outputs": [],
   "source": [
    "def json_rpc_call(method, params=None):\n",
    "    url = f\"http://localhost:{RPC_PORT}/\"\n",
    "    headers = {'content-type': 'application/json'}\n",
    "    payload = {\n",
    "        \"method\": method,\n",
    "        \"params\": params,\n",
    "        \"jsonrpc\": \"2.0\",\n",
    "        \"id\": 0,\n",
    "    }\n",
    "    encoded_payload = json.dumps(payload).encode('utf-8')\n",
    "    response = requests.post(url, data=encoded_payload, headers=headers)\n",
    "    # print(response)#\n",
    "    return response.json()"
   ]
  },
  {
   "cell_type": "code",
   "execution_count": 6,
   "metadata": {},
   "outputs": [
    {
     "data": {
      "text/plain": [
       "{'branch_head_state_id': b'\\x01Q\\x12\\x02\\xf65\\n\\x04\\x1c\\xdb\\x00\\x00',\n",
       " 'decoded_branch_head_state_id': 'AVESAvY1CgQc2wAA',\n",
       " 'branch_id': b'\\x01Q\\x12\\x02\\xf65',\n",
       " 'decoded_branch_id': 'AVESAvY1'}"
      ]
     },
     "execution_count": 6,
     "metadata": {},
     "output_type": "execute_result"
    }
   ],
   "source": [
    "rpc_genesis_branch_response = test_rpc_create_genesis_branch_with_initial_submit(debug=False)\n",
    "rpc_genesis_branch_response"
   ]
  },
  {
   "cell_type": "markdown",
   "metadata": {},
   "source": [
    "#### Get Branch Name Route"
   ]
  },
  {
   "cell_type": "code",
   "execution_count": 4,
   "metadata": {},
   "outputs": [
    {
     "name": "stdout",
     "output_type": "stream",
     "text": [
      "Test 'get_branch_name_from_branch_id' passed with branch name: Wikipedia Community\n"
     ]
    }
   ],
   "source": [
    "rpc_kwargs = dict(branch_id='AVESCC6JnjrcgEU0') #rpc_genesis_branch_response[\"decoded_branch_id\"])\n",
    "response = json_rpc_call(method=\"get_branch_name_from_branch_id\", params=rpc_kwargs)\n",
    "name = response['result']\n",
    "print(\"Test 'get_branch_name_from_branch_id' passed with branch name:\", name)"
   ]
  },
  {
   "attachments": {},
   "cell_type": "markdown",
   "metadata": {},
   "source": [
    "#### Get Branch Data Route"
   ]
  },
  {
   "cell_type": "code",
   "execution_count": 11,
   "metadata": {},
   "outputs": [],
   "source": [
    "rpc_kwargs = dict(branch_id='AVESCC6JnjrcgEU0', deserialize_buckets=True) #rpc_genesis_branch_response[\"decoded_branch_id\"], deserialize_buckets=True)\n",
    "response = json_rpc_call(method=\"get_branch_data_from_branch_id\", params=rpc_kwargs)"
   ]
  },
  {
   "cell_type": "code",
   "execution_count": 13,
   "metadata": {},
   "outputs": [],
   "source": [
    "articles = [bucket \n",
    "    for bucket in response[\"result\"][\"submit_trace\"][\"new_buckets\"]\n",
    "    if bucket[\"schema_id\"]==2]"
   ]
  },
  {
   "cell_type": "code",
   "execution_count": 15,
   "metadata": {},
   "outputs": [
    {
     "data": {
      "text/plain": [
       "['AVESCKPh2Z6evBoyAQ==',\n",
       " 'AVESCEInlEDtsAPYAQ==',\n",
       " 'AVESCKGnaTaaOsyyAQ==',\n",
       " 'AVESCMhnGewCGLVhAQ==',\n",
       " 'AVESCKG+Nts4I8VPAQ==',\n",
       " 'AVESCLi4FZ6mEVpmAQ==',\n",
       " 'AVESCPR4KZCRiYYpAQ==',\n",
       " 'AVESCNUhxs7mtR48AQ==',\n",
       " 'AVESCE4yz5HogoxuAQ==',\n",
       " 'AVESCHY2WSyY1qPTAQ==',\n",
       " 'AVESCPamgE53tRAzAQ==',\n",
       " 'AVESCBZlOJegzIFMAQ==',\n",
       " 'AVESCEJ74F/tDHLaAQ==',\n",
       " 'AVESCE2gTihcHdASAQ==',\n",
       " 'AVESCCfPgx+zN0tDAQ==',\n",
       " 'AVESCIEGFG6UambdAQ==',\n",
       " 'AVESCHwM68bcH1LeAQ==',\n",
       " 'AVESCHVnQEZfcqQAAQ==',\n",
       " 'AVESCChdXZaUKoynAQ==',\n",
       " 'AVESCCkCag6JhFmKAQ==',\n",
       " 'AVESCBxoHsojdne0AQ==',\n",
       " 'AVESCHNM4nRHgyGHAQ==',\n",
       " 'AVESCEe+2vUue67ZAQ==',\n",
       " 'AVESCBSCuFZKeg6QAQ==',\n",
       " 'AVESCODhqOGy4oYbAQ==',\n",
       " 'AVESCCp2ynNvj6W+AQ==',\n",
       " 'AVESCOt8NZKvaNWZAQ==',\n",
       " 'AVESCEqadiuBDl9iAQ==',\n",
       " 'AVESCEpH7TKePUDmAQ==',\n",
       " 'AVESCNIT78XJPY7EAQ==',\n",
       " 'AVESCL7LJ6UnHykaAQ==',\n",
       " 'AVESCCRJf9To4y/NAQ==',\n",
       " 'AVESCJp4NXJ/+m2QAQ==',\n",
       " 'AVESCCt78YRN/xslAQ==',\n",
       " 'AVESCGI0wKkHbOKjAQ==',\n",
       " 'AVESCFlmYPzbOdiuAQ==',\n",
       " 'AVESCNwOVEEJPOn2AQ==',\n",
       " 'AVESCNh29K294/rnAQ==',\n",
       " 'AVESCCNUTawJgRJ0AQ==',\n",
       " 'AVESCGGtP9l5fvX7AQ==',\n",
       " 'AVESCMubfQZ2LiLBAQ==',\n",
       " 'AVESCMEBgiggUNXfAQ==',\n",
       " 'AVESCABCDqkx7et4AQ==',\n",
       " 'AVESCJamuq/6Q4LeAQ==',\n",
       " 'AVESCD6Yydwjp6WHAQ==',\n",
       " 'AVESCA3XAJRlt2jDAQ==',\n",
       " 'AVESCNGIqYXbTVw+AQ==',\n",
       " 'AVESCE8LLtxdO7MNAQ==',\n",
       " 'AVESCNkzJjF1cjT4AQ==']"
      ]
     },
     "execution_count": 15,
     "metadata": {},
     "output_type": "execute_result"
    }
   ],
   "source": [
    "articles[0][\"data\"]"
   ]
  },
  {
   "cell_type": "code",
   "execution_count": 16,
   "metadata": {},
   "outputs": [
    {
     "data": {
      "text/plain": [
       "1"
      ]
     },
     "execution_count": 16,
     "metadata": {},
     "output_type": "execute_result"
    }
   ],
   "source": [
    "from utils.encode.bytes import decode_base64_str_to_bytes\n",
    "from utils.encode.hashing import get_namespace_from_lakat_cid\n",
    "bytes_example = decode_base64_str_to_bytes('AVESCKG+Nts4I8VPAQ==')\n",
    "get_namespace_from_lakat_cid(bytes_example)"
   ]
  }
 ],
 "metadata": {
  "kernelspec": {
   "display_name": ".venv",
   "language": "python",
   "name": "python3"
  },
  "language_info": {
   "codemirror_mode": {
    "name": "ipython",
    "version": 3
   },
   "file_extension": ".py",
   "mimetype": "text/x-python",
   "name": "python",
   "nbconvert_exporter": "python",
   "pygments_lexer": "ipython3",
   "version": "3.9.15"
  },
  "orig_nbformat": 4
 },
 "nbformat": 4,
 "nbformat_minor": 2
}
