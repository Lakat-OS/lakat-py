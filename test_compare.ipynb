{
 "cells": [
  {
   "cell_type": "code",
   "execution_count": 1,
   "metadata": {},
   "outputs": [],
   "source": [
    "from initialization.wp_get_page import WikipediaPage\n",
    "from initialization.wp_structured_text import WikipediaStructuredText\n",
    "from initialization.wp_structured_diffs import Diff\n",
    "import difflib\n",
    "from setup.db_trie import db\n",
    "from lakat.submit import content_submit\n",
    "from config.scrape_cfg import WIKIPEDIA_API_URL, EXAMPLE_ARTICLE_TITLE\n",
    "from config.bucket_cfg import DEFAULT_ATOMIC_BUCKET_SCHEMA, DEFAULT_MOLECULAR_BUCKET_SCHEMA, DEFAULT_NAME_RESOLUTION_BUCKET_SCHEMA, BUCKET_ID_TYPE_NO_REF, BUCKET_ID_TYPE_WITH_ID_REF\n",
    "from utils.signing.sign import get_public_key_from_file\n",
    "from utils.serialize import unserialize, serialize\n",
    "from initialization.test_branch_creation import branch_creation\n",
    "from initialization.test_wp_submissions import first_submit, submit_new_edit\n",
    "\n"
   ]
  },
  {
   "cell_type": "code",
   "execution_count": 2,
   "metadata": {},
   "outputs": [],
   "source": [
    "# db.close()"
   ]
  },
  {
   "cell_type": "code",
   "execution_count": 3,
   "metadata": {},
   "outputs": [
    {
     "name": "stdout",
     "output_type": "stream",
     "text": [
      "article_title:  Compartmental models in epidemiology\n"
     ]
    }
   ],
   "source": [
    "\n",
    "# db.close()\n",
    "article_title = EXAMPLE_ARTICLE_TITLE\n",
    "print('article_title: ', article_title)\n",
    "\n",
    "wp = WikipediaPage(WIKIPEDIA_API_URL)\n",
    "edit_history = wp.load_content_from_batches(\n",
    "    article_title, 0, 105, download_if_not_exist=True)\n",
    "edit_history.reverse()\n",
    "\n",
    "key_file_prefix=\"lakat\"\n",
    "public_key = get_public_key_from_file(key_file_prefix=key_file_prefix)\n",
    "# create a name registry NR (optional)"
   ]
  },
  {
   "cell_type": "code",
   "execution_count": 4,
   "metadata": {},
   "outputs": [],
   "source": [
    "branchId = branch_creation(public_key=public_key, verbose=False)"
   ]
  },
  {
   "cell_type": "code",
   "execution_count": 4,
   "metadata": {},
   "outputs": [],
   "source": [
    "new_part_id_to_bucket_id, res = first_submit(edit=edit_history[0], public_key=public_key, branchId=branchId)\n"
   ]
  },
  {
   "cell_type": "code",
   "execution_count": 6,
   "metadata": {},
   "outputs": [],
   "source": [
    "article_id = res[\"bucket_ids\"][-1] ## hack TODO! Change this."
   ]
  },
  {
   "cell_type": "code",
   "execution_count": 7,
   "metadata": {},
   "outputs": [],
   "source": [
    "new_part_id_to_bucket_id, res = submit_new_edit(\n",
    "    public_key, \n",
    "    branchId, prev_edit=edit_history[0], new_edit=edit_history[1], article_id=article_id, part_id_to_bucket_id=new_part_id_to_bucket_id)"
   ]
  },
  {
   "cell_type": "code",
   "execution_count": 8,
   "metadata": {},
   "outputs": [],
   "source": [
    "\n",
    "new_part_id_to_bucket_id, res = submit_new_edit(\n",
    "    public_key, \n",
    "    branchId, prev_edit=edit_history[1], new_edit=edit_history[2], article_id=article_id, part_id_to_bucket_id=new_part_id_to_bucket_id)"
   ]
  },
  {
   "cell_type": "code",
   "execution_count": null,
   "metadata": {},
   "outputs": [],
   "source": []
  }
 ],
 "metadata": {
  "kernelspec": {
   "display_name": ".venv",
   "language": "python",
   "name": "python3"
  },
  "language_info": {
   "codemirror_mode": {
    "name": "ipython",
    "version": 3
   },
   "file_extension": ".py",
   "mimetype": "text/x-python",
   "name": "python",
   "nbconvert_exporter": "python",
   "pygments_lexer": "ipython3",
   "version": "3.9.15"
  },
  "orig_nbformat": 4
 },
 "nbformat": 4,
 "nbformat_minor": 2
}
