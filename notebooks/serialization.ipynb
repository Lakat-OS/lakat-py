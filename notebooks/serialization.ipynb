{
 "cells": [
  {
   "attachments": {},
   "cell_type": "markdown",
   "metadata": {},
   "source": [
    "## Test Serializer"
   ]
  },
  {
   "cell_type": "code",
   "execution_count": null,
   "metadata": {},
   "outputs": [],
   "source": [
    "import json, os\n",
    "from ipld import marshal, unmarshal\n",
    "import rlp\n",
    "import json\n",
    "import base64"
   ]
  },
  {
   "cell_type": "code",
   "execution_count": null,
   "metadata": {},
   "outputs": [],
   "source": [
    "class LakatSerializer:\n",
    "    \n",
    "    def serialize(o) -> bytes :\n",
    "        return marshal(o)\n",
    "\n",
    "    def deserialize(data: bytes) -> any :\n",
    "        return unmarshal(data)\n",
    "    \n",
    "class BytesEncoder(json.JSONEncoder):\n",
    "    def default(self, obj):\n",
    "        if isinstance(obj, bytes):\n",
    "            return base64.b64encode(obj).decode('utf-8')\n",
    "        # Let the base class default method raise the TypeError\n",
    "        return json.JSONEncoder.default(self, obj)\n",
    "    \n",
    "\n",
    "def custom_json_decoder(obj):\n",
    "    \"\"\"\n",
    "    Custom decoder function for JSON objects.\n",
    "    Converts Base64 encoded strings back into bytes.\n",
    "    \"\"\"\n",
    "    if isinstance(obj, dict):\n",
    "        for key, value in obj.items():\n",
    "            if isinstance(value, str):\n",
    "                try:\n",
    "                    obj[key] = base64.b64decode(value)\n",
    "                except (ValueError, TypeError):\n",
    "                    pass\n",
    "    return obj\n",
    "\n",
    "def serialize(obj):\n",
    "    \"\"\"\n",
    "    Serialize a Python object into bytes.\n",
    "    \n",
    "    :param obj: Python object to serialize.\n",
    "    :return: Bytes representation of the object.\n",
    "    \"\"\"\n",
    "    json_string = json.dumps(obj, cls=BytesEncoder)\n",
    "    return json_string.encode('utf-8')\n",
    "\n",
    "def unserialize(bytes_obj):\n",
    "    \"\"\"\n",
    "    Unserialize bytes back into a Python object.\n",
    "    \n",
    "    :param bytes_obj: Bytes object to unserialize.\n",
    "    :return: Original Python object.\n",
    "    \"\"\"\n",
    "    return json.loads(bytes_obj.decode('utf-8'), object_hook=custom_json_decoder)\n",
    "\n",
    "\n",
    "def jsondump(obj, file):\n",
    "    json.dump(obj, file, cls=BytesEncoder, indent=2)\n",
    "\n",
    "\n",
    "def jsonload(file):\n",
    "    return json.load(file, object_hook=custom_json_decoder)"
   ]
  },
  {
   "cell_type": "code",
   "execution_count": 5,
   "metadata": {},
   "outputs": [],
   "source": [
    "# print 20 fruits\n",
    "fruits = ['apple', 'banana', 'cherry', 'dragonfruit', 'elderberry', 'fig', 'grape', 'honeydew', 'imbe', 'jackfruit', 'kiwi', 'lemon', 'mango', 'nectarine', 'orange', 'papaya', 'quince', 'raspberry', 'strawberry', 'tangerine']"
   ]
  },
  {
   "cell_type": "code",
   "execution_count": 12,
   "metadata": {},
   "outputs": [
    {
     "name": "stdout",
     "output_type": "stream",
     "text": [
      "bob_serialized: b'\\xa3dnamecBobcage\\x18 elikes\\x94eapplefbananafcherrykdragonfruitjelderberrycfigegrapehhoneydewdimbeijackfruitdkiwielemonemangoinectarineforangefpapayafquinceiraspberryjstrawberryitangerine'\n",
      "bob_multihash: b'QmQgkr1e1kP3R6H1nPeCobjhC6iT9isDezUdL8qShmL85S'\n",
      "bob_multihash (decoded): QmQgk\n",
      "Bob's CID: z3tyXPDz4z\n",
      "Charlie's CID: QmbCFxvC1bFes6MQePeKqTZJ52VMyehYGj7aDByCLQmyMg\n"
     ]
    }
   ],
   "source": [
    "import cbor2\n",
    "import hashlib\n",
    "import multihash\n",
    "import base58\n",
    "import cid\n",
    "\n",
    "def compute_multihash(data):\n",
    "    # Compute SHA-256 hash using hashlib\n",
    "    sha256_hash = hashlib.sha256(data).digest()\n",
    "\n",
    "    # Use multihash to encode the hash in multihash format\n",
    "    encoded_multihash = multihash.encode(sha256_hash, 'sha2-256')\n",
    "\n",
    "    # Base58 encode the multihash\n",
    "    return base58.b58encode(encoded_multihash)\n",
    "\n",
    "# Serialize the objects using CBOR\n",
    "\n",
    "bob_serialized = cbor2.dumps({\"name\": \"Bob\", \"age\": 32, \"likes\":fruits})\n",
    "charlie_serialized = cbor2.dumps({\"name\": \"Charlie\", \"age\": 36})\n",
    "\n",
    "print('bob_serialized:', bob_serialized)\n",
    "# Compute the base58-encoded multihashes\n",
    "bob_multihash = compute_multihash(bob_serialized)\n",
    "charlie_multihash = compute_multihash(charlie_serialized)\n",
    "\n",
    "print('bob_multihash:', bob_multihash)\n",
    "print('bob_multihash (decoded):', bob_multihash.decode()[0:5])\n",
    "# Create CIDs from the base58-encoded multihashes\n",
    "bob_cid = cid.make_cid(1, 'cbor', bob_multihash[0:5])\n",
    "charlie_cid = cid.make_cid(charlie_multihash)\n",
    "\n",
    "# Print the CIDs\n",
    "print(\"Bob's CID:\", bob_cid)\n",
    "print(\"Charlie's CID:\", charlie_cid)\n"
   ]
  },
  {
   "cell_type": "code",
   "execution_count": 42,
   "metadata": {},
   "outputs": [],
   "source": [
    "ALGORITHM = 'sha2-256'\n",
    "ENCODING_FUNCTION = 'utf-8'\n",
    "MH_BRANCHID_PREFIX_LENGTH = 8\n",
    "\n",
    "def get_hashing_algorithm(algorithm):\n",
    "    if algorithm.startswith('sha2-'):\n",
    "        hash_length = int(algorithm.split('-')[1])\n",
    "        return 'sha' + str(hash_length)\n",
    "    else:\n",
    "        return algorithm\n",
    "\n",
    "def __get_multihash_from_bytes(bytes_data):\n",
    "    hashlib_algorithm = get_hashing_algorithm(ALGORITHM)\n",
    "    sha256_hash = hashlib.__getattribute__(hashlib_algorithm)(bytes_data).digest()\n",
    "    return multihash.encode(sha256_hash, ALGORITHM)\n",
    "\n",
    "def get_multihash(data: str):\n",
    "    bytes_data = data.encode(ENCODING_FUNCTION)\n",
    "    return __get_multihash_from_bytes(bytes_data)\n",
    "\n",
    "# def _get_branch_modified_multihash_from_prefix_length(data: str, branchId: str, prefix_length: int):\n",
    "#     multihash = get_multihash(data)\n",
    "#     return multihash[0:2] + b'\\x00' + multihash[3:]\n",
    "\n",
    "# def get_branch_modified_multihash(data: str, branchId: str):\n",
    "#     return _get_branch_modified_multihash_from_prefix_length(data, branchId, MH_BRANCHID_PREFIX_LENGTH)\n",
    "\n",
    "# sha256_hash, encoded_multihash"
   ]
  },
  {
   "cell_type": "code",
   "execution_count": 36,
   "metadata": {},
   "outputs": [
    {
     "data": {
      "text/plain": [
       "b'\\xcc\\xad\\xd9\\x9b\\x16\\xcd= \\x0c\"\\xd6\\xdbE\\xd8\\xb6c\\x0e\\xf3\\xd96vq\\'4~\\xc8\\xa7j\\xb9\\x92\\xc2\\xea'"
      ]
     },
     "execution_count": 36,
     "metadata": {},
     "output_type": "execute_result"
    }
   ],
   "source": [
    "# hashlib.__getattribute__('sha256')('hallo'.encode()).digest()\n",
    "# hashlib.algorithms_guaranteed\n",
    "sha256_hash = hashlib.sha256(b'blabla').digest()\n",
    "# type(sha256_hash), \n",
    "sha256_hash"
   ]
  },
  {
   "cell_type": "code",
   "execution_count": 37,
   "metadata": {},
   "outputs": [
    {
     "name": "stdout",
     "output_type": "stream",
     "text": [
      "num-num-mis-zum-zum-siv-ron-num-her-zum-ron-mis-num-tac-kec-her-lar-tac-lar-tac-num-mis-lar-siv-lar-lar-lar-zum-siv-zum-lar-tac-mis-siv-siv-siv-yul-mis-lar-her-mis-tac-ron-kec-her-kec-yul-mis-ron-tac-kec-siv-lar-tac-ron-kec-num-tac-kec-lar-yul-yul-mis-her-zum-lar-tac-her-kec-mis-num-yul-num-lar-lar-her-her\n"
     ]
    }
   ],
   "source": [
    "import hashlib\n",
    "\n",
    "# Define a mapping of numbers to syllables\n",
    "syllables = ['kec', 'num', 'her', 'lar', 'mis', 'ron', 'siv', 'tac', 'yul', 'zum']\n",
    "\n",
    "def hash_to_syllables(data):\n",
    "    # Hash the data using SHA-256\n",
    "    hash_digest = hashlib.sha256(data.encode()).digest()\n",
    "\n",
    "    # Convert the hash to a large integer\n",
    "    hash_int = int.from_bytes(hash_digest, byteorder='big')\n",
    "\n",
    "    # Convert the integer to a sequence of syllables\n",
    "    syllable_sequence = []\n",
    "    while hash_int > 0:\n",
    "        hash_int, idx = divmod(hash_int, len(syllables))\n",
    "        syllable_sequence.append(syllables[idx])\n",
    "\n",
    "    return '-'.join(syllable_sequence)\n",
    "\n",
    "# Example usage\n",
    "data = \"Hello, world!\"\n",
    "syllable_representation = hash_to_syllables(data)\n",
    "print(syllable_representation)\n"
   ]
  },
  {
   "cell_type": "code",
   "execution_count": 38,
   "metadata": {},
   "outputs": [
    {
     "name": "stdout",
     "output_type": "stream",
     "text": [
      "Number: 12345, Word: caqix, Reversed Number: 12345\n"
     ]
    }
   ],
   "source": [
    "import itertools\n",
    "\n",
    "vowels = 'aeiou'\n",
    "consonants = 'bcdfghjklmnpqrstvwxyz'\n",
    "\n",
    "# Generate CVCVC words\n",
    "def generate_cvcvc_words():\n",
    "    return [''.join(word) for word in itertools.product(consonants, vowels, consonants, vowels, consonants)]\n",
    "\n",
    "cvcvc_words = generate_cvcvc_words()\n",
    "\n",
    "# Forward mapping: Number to Word\n",
    "def number_to_word(number):\n",
    "    return cvcvc_words[number]\n",
    "\n",
    "# Reverse mapping: Word to Number\n",
    "def word_to_number(word):\n",
    "    def get_index(letter, group):\n",
    "        return group.index(letter)\n",
    "\n",
    "    c1, v1, c2, v2, c3 = word\n",
    "    return (get_index(c1, consonants) * len(vowels) * len(consonants) * len(vowels) * len(consonants) +\n",
    "            get_index(v1, vowels) * len(consonants) * len(vowels) * len(consonants) +\n",
    "            get_index(c2, consonants) * len(vowels) * len(consonants) +\n",
    "            get_index(v2, vowels) * len(consonants) +\n",
    "            get_index(c3, consonants))\n",
    "\n",
    "# Example usage\n",
    "num = 12345\n",
    "word = number_to_word(num)\n",
    "reversed_num = word_to_number(word)\n",
    "\n",
    "print(f\"Number: {num}, Word: {word}, Reversed Number: {reversed_num}\")\n"
   ]
  },
  {
   "cell_type": "code",
   "execution_count": 40,
   "metadata": {},
   "outputs": [
    {
     "data": {
      "text/plain": [
       "(231525, 231525)"
      ]
     },
     "execution_count": 40,
     "metadata": {},
     "output_type": "execute_result"
    }
   ],
   "source": [
    "len(cvcvc_wordbs), 21*5*21*5*21"
   ]
  },
  {
   "cell_type": "code",
   "execution_count": 56,
   "metadata": {},
   "outputs": [
    {
     "name": "stdout",
     "output_type": "stream",
     "text": [
      "Number: 123456789, Word Sequence: bahal-gumut, Reversed Number: 123456789\n"
     ]
    }
   ],
   "source": [
    "import itertools\n",
    "\n",
    "vowels = 'aeiou'\n",
    "consonants = 'bcdfghjklmnpqrstvwxyz'\n",
    "\n",
    "# Generate CVCVC words\n",
    "def generate_cvcvc_words():\n",
    "    return [''.join(word) for word in itertools.product(consonants, vowels, consonants, vowels, consonants)]\n",
    "\n",
    "cvcvc_words = generate_cvcvc_words()\n",
    "\n",
    "# Adjusted the size of CVCVC words list to avoid index out of range\n",
    "words_count = len(cvcvc_words)\n",
    "\n",
    "# Forward mapping: Number to Word Sequence\n",
    "def number_to_word_sequence(number):\n",
    "    word_sequence = []\n",
    "    while number > 0:\n",
    "        number, idx = divmod(number, words_count)\n",
    "        word_sequence.append(cvcvc_words[idx])\n",
    "    return '-'.join(reversed(word_sequence))\n",
    "\n",
    "def get_index(letter, group):\n",
    "        return group.index(letter)\n",
    "\n",
    "def single_word_to_number(word):\n",
    "        c1, v1, c2, v2, c3 = word\n",
    "        return (get_index(c1, consonants) * len(vowels) * len(consonants) * len(vowels) * len(consonants) +\n",
    "                get_index(v1, vowels) * len(consonants) * len(vowels) * len(consonants) +\n",
    "                get_index(c2, consonants) * len(vowels) * len(consonants) +\n",
    "                get_index(v2, vowels) * len(consonants) +\n",
    "                get_index(c3, consonants))\n",
    "\n",
    "# Reverse mapping: Word Sequence to Number\n",
    "def word_sequence_to_number(word_sequence):\n",
    "    words = word_sequence.split('-')\n",
    "    number = 0\n",
    "    for word in words:\n",
    "        number = number * words_count + single_word_to_number(word)\n",
    "    return number\n",
    "\n",
    "# Example usage\n",
    "num = 123456789\n",
    "word_sequence = number_to_word_sequence(num)\n",
    "reversed_num = word_sequence_to_number(word_sequence)\n",
    "\n",
    "print(f\"Number: {num}, Word Sequence: {word_sequence}, Reversed Number: {reversed_num}\")\n"
   ]
  },
  {
   "cell_type": "code",
   "execution_count": 49,
   "metadata": {},
   "outputs": [],
   "source": [
    "def hash_to_int(data: str, crop: int = 10) -> int:\n",
    "    # Hash the data using SHA-256\n",
    "    hash_digest = hashlib.sha256(data.encode()).digest()\n",
    "    cropped_hash = hash_digest[:crop]\n",
    "    # Convert the hash to a large integer\n",
    "    hash_int = int.from_bytes(cropped_hash, byteorder='big')\n",
    "    return hash_int, cropped_hash"
   ]
  },
  {
   "cell_type": "code",
   "execution_count": 54,
   "metadata": {},
   "outputs": [
    {
     "data": {
      "text/plain": [
       "('d3751d33f9cd5049c4af2b462735457e4d3baf130bcbb87f389e349fbaeb',\n",
       " 'badir-suroc-yelil-hobod-wifij-lakuw-rotev-zoyah-gexaj-cepos-tanix-xunad-pumon-wijak')"
      ]
     },
     "execution_count": 54,
     "metadata": {},
     "output_type": "execute_result"
    }
   ],
   "source": [
    "hash_int, cropped_hash = hash_to_int('hallo', crop=30)\n",
    "cropped_hash.hex(), number_to_word_sequence(hash_int)"
   ]
  },
  {
   "cell_type": "code",
   "execution_count": 66,
   "metadata": {},
   "outputs": [
    {
     "data": {
      "text/plain": [
       "(b\"\\x12 \\xd3u\\x1d3\\xf9\\xcdPI\\xc4\\xaf+F'5E~M;\\xaf\\x13\\x0b\\xcb\\xb8\\x7f8\\x9e4\\x9f\\xba\\xeb \\xb9\",\n",
       " b\"\\x12 \\xd3u\\x1d3\\xf9\\xcdPI\\xc4\\xaf+F'5E~M;\\xaf\\x13\\x0b\\xcb\\xb8\\x7f8\\x9e4\\x9f\\xba\\xeb \\xb9\")"
      ]
     },
     "execution_count": 66,
     "metadata": {},
     "output_type": "execute_result"
    }
   ],
   "source": [
    "data = b'hallo'\n",
    "sha256_hash = hashlib.sha256(data).digest()\n",
    "\n",
    "base58.b58encode(sha256_hash)\n",
    "# Use multihash to encode the hash in multihash format\n",
    "encoded_multihash = multihash.encode(sha256_hash, 'sha2-256')\n",
    "\n",
    "# Base58 encode the multihash\n",
    "a = base58.b58encode(encoded_multihash).decode('utf-8')\n",
    "b = a.encode('utf-8')\n",
    "c = base58.b58decode(a)\n",
    "c, encoded_multihash"
   ]
  },
  {
   "cell_type": "code",
   "execution_count": 69,
   "metadata": {},
   "outputs": [
    {
     "data": {
      "text/plain": [
       "bytes"
      ]
     },
     "execution_count": 69,
     "metadata": {},
     "output_type": "execute_result"
    }
   ],
   "source": [
    "data = b'hallo'\n",
    "sha256_hash = hashlib.sha256(data).digest()\n",
    "# base58.b58encode(sha256_hash)\n",
    "type(sha256_hash)"
   ]
  },
  {
   "cell_type": "code",
   "execution_count": 68,
   "metadata": {},
   "outputs": [
    {
     "data": {
      "text/plain": [
       "1.7956536638176726"
      ]
     },
     "execution_count": 68,
     "metadata": {},
     "output_type": "execute_result"
    }
   ],
   "source": [
    "import numpy as np\n",
    "4* np.log(256) / np.log(words_count)"
   ]
  },
  {
   "cell_type": "code",
   "execution_count": 93,
   "metadata": {},
   "outputs": [
    {
     "name": "stdout",
     "output_type": "stream",
     "text": [
      "b'QmQgkr1e1kP3R6H1nPeCobjhC6iT9isDezUdL8qShmL85S' b'\\x12 \"\\xdd\\xed\\xa9k\\xfc\\xe9\\xd2\\xe4\\xae\\xea\\x11\\xa9 o\\xdc\\xa9/\\x7fx\\xf3\\x15\\xbeBi\\xd9\\x1a\"\\xa9\\x1c.\\xf5'\n",
      "z3obfhD5TwPHFAzezqGaZcfc24on6nHZeWDgqjyyFrnQ5DjEvp3Mez53Kow51SuHBY zadi4X2DiXgkh1pkRWSFPttRoYDPCDDM8SCMEoy4bsc66B1Ka\n"
     ]
    },
    {
     "data": {
      "text/plain": [
       "(CIDv1(version=1, codec=cbor, multihash=b'QmQgkr1e1kP3R6H1nPeC..'),\n",
       " b'QmQgkr1e1kP3R6H1nPeCobjhC6iT9isDezUdL8qShmL85S',\n",
       " 'cbor')"
      ]
     },
     "execution_count": 93,
     "metadata": {},
     "output_type": "execute_result"
    }
   ],
   "source": [
    "import cbor2\n",
    "import hashlib\n",
    "import multihash\n",
    "import base58\n",
    "import cid\n",
    "\n",
    "def compute_multihash(data):\n",
    "    # Compute SHA-256 hash using hashlib\n",
    "    sha256_hash = hashlib.sha256(data).digest()\n",
    "\n",
    "    # Use multihash to encode the hash in multihash format\n",
    "    encoded_multihash = multihash.encode(sha256_hash, 'sha2-256')\n",
    "\n",
    "    # Base58 encode the multihash\n",
    "    return base58.b58encode(encoded_multihash)\n",
    "\n",
    "# Serialize the objects using CBOR\n",
    "\n",
    "bob_serialized = cbor2.dumps({\"name\": \"Bob\", \"age\": 32, \"likes\":fruits})\n",
    "charlie_serialized = cbor2.dumps({\"name\": \"Charlie\", \"age\": 36})\n",
    "\n",
    "# Compute the base58-encoded multihashes\n",
    "bob_multihash = compute_multihash(bob_serialized)\n",
    "charlie_multihash = compute_multihash(charlie_serialized)\n",
    "\n",
    "bob_sha256_hash = hashlib.sha256(bob_serialized).digest()\n",
    "bob_encoded_multihash = multihash.encode(bob_sha256_hash, 'sha2-256')\n",
    "\n",
    "print(bob_multihash, bob_encoded_multihash)\n",
    "# Create CIDs from the base58-encoded multihashes\n",
    "bob_cid = cid.make_cid(1, 'cbor', bob_multihash)\n",
    "bob_cid_not_encoded = cid.make_cid(1, 'cbor', bob_encoded_multihash)\n",
    "\n",
    "print(bob_cid, bob_cid_not_encoded)\n",
    "# Print the CIDs\n",
    "# print(\"Bob's CID:\", bob_cid)\n",
    "# print(\"Bob's CID not encoded:\", bob_cid_not_encoded)\n",
    "bob_cid, bob_cid.multihash, bob_cid.codec\n",
    "\n"
   ]
  },
  {
   "cell_type": "code",
   "execution_count": 103,
   "metadata": {},
   "outputs": [
    {
     "data": {
      "text/plain": [
       "(b'\\xa0', b'\\xa0', b'\\xf6', b'`', b'\\xf4', b'\\x80', b'\\xd9\\x01\\x02\\x80')"
      ]
     },
     "execution_count": 103,
     "metadata": {},
     "output_type": "execute_result"
    }
   ],
   "source": [
    "# # cid.is_cid(bob_cid_not_encoded)\n",
    "# # cid.cid(bob_cid)\n",
    "# [ c for c in multihash.constants.HASH_CODES.keys() if 'c' in c.lower()]\n",
    "# multicodec\n",
    "cbor2.dumps({}),cbor2.dumps(dict()), cbor2.dumps(None), cbor2.dumps(\"\"), cbor2.dumps(False), cbor2.dumps([]), cbor2.dumps(set())"
   ]
  }
 ],
 "metadata": {
  "kernelspec": {
   "display_name": ".venv",
   "language": "python",
   "name": "python3"
  },
  "language_info": {
   "codemirror_mode": {
    "name": "ipython",
    "version": 3
   },
   "file_extension": ".py",
   "mimetype": "text/x-python",
   "name": "python",
   "nbconvert_exporter": "python",
   "pygments_lexer": "ipython3",
   "version": "3.9.15"
  },
  "orig_nbformat": 4
 },
 "nbformat": 4,
 "nbformat_minor": 2
}
