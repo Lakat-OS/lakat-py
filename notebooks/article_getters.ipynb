{
 "cells": [
  {
   "attachments": {},
   "cell_type": "markdown",
   "metadata": {},
   "source": [
    "## Getters for the Articles"
   ]
  },
  {
   "cell_type": "code",
   "execution_count": 1,
   "metadata": {},
   "outputs": [],
   "source": [
    "import os \n",
    "os.chdir('..')"
   ]
  },
  {
   "cell_type": "code",
   "execution_count": 2,
   "metadata": {},
   "outputs": [],
   "source": [
    "from utils.format.schema import check_argument, convert_to_bytes_based_on_schema, convert_from_bytes_based_on_schema\n",
    "import inspection.branch as inspection_branch\n",
    "import inspection.articles as inspection_articles\n",
    "from utils.encode.language import decode_bytes, encode_string_standard\n",
    "from initialization.notebooks.genesis_branch import test_create_genesis_branch_with_initial_submit\n",
    "import lakat.storage.local_storage as lakat_storage_functions\n",
    "from setup.storage import name_tries\n",
    "# lakat_storage_functions.restart_db()\n"
   ]
  },
  {
   "cell_type": "code",
   "execution_count": 3,
   "metadata": {},
   "outputs": [
    {
     "data": {
      "text/plain": [
       "{'branch_id': b'\\x01Q\\x12\\x08\\x91\\xf5\\x94\\xa3N\\x95\\x0b|',\n",
       " 'decoded_branch_id': 'AVESCJH1lKNOlQt8',\n",
       " 'branch_head_id': {'branch_id': b'\\x01Q\\x12\\x08\\x91\\xf5\\x94\\xa3N\\x95\\x0b|',\n",
       "  'bucket_refs': [b'\\x01Q\\x12\\x08\\xf5\\xa7\\x06V\\x91\\xf4=l\\x01',\n",
       "   b'\\x01Q\\x12\\x08I\\xc9\\x10\\x0b\\t\\x07\\xa2V\\x01',\n",
       "   b'\\x01Q\\x12\\x08\\xe1\\x15\\xde\\xe3A\\x95\\xeb\\xda\\x02'],\n",
       "  'registered_names': [{'name': b'\\x01\\x12Dummy Article Name',\n",
       "    'id': b'\\x01Q\\x12\\x08\\xe1\\x15\\xde\\xe3A\\x95\\xeb\\xda\\x02'}],\n",
       "  'submit_trace_id': b'\\x01Q\\x12\\x08M\\xe7al\\x8a\\x0f;\\x04\\x0e\\x06W\\x9c\\x05\\x00\\x00\\x00',\n",
       "  'submit_id': b'\\x01Q\\x12\\x08i\\xa0\\xde\\xd6\\xb7\\x8b\\xc7\\xe3\\r\\x06W\\x9c\\x05\\x00\\x00\\x00',\n",
       "  'branch_state_id': b'\\x01Q\\x12\\x08\\x7f\\x1b0\\xdb\\xc2\\x85\\x1fy'},\n",
       " 'decoded_branch_head_id': {'branch_id': 'AVESCJH1lKNOlQt8',\n",
       "  'bucket_refs': ['AVESCPWnBlaR9D1sAQ==',\n",
       "   'AVESCEnJEAsJB6JWAQ==',\n",
       "   'AVESCOEV3uNBlevaAg=='],\n",
       "  'registered_names': [{'name': 'Dummy Article Name',\n",
       "    'id': 'AVESCOEV3uNBlevaAg=='}],\n",
       "  'submit_trace_id': 'AVESCE3nYWyKDzsEDgZXnAUAAAA=',\n",
       "  'submit_id': 'AVESCGmg3ta3i8fjDQZXnAUAAAA=',\n",
       "  'branch_state_id': 'AVESCH8bMNvChR95'}}"
      ]
     },
     "execution_count": 3,
     "metadata": {},
     "output_type": "execute_result"
    }
   ],
   "source": [
    "response = test_create_genesis_branch_with_initial_submit(debug=False)\n",
    "response"
   ]
  },
  {
   "cell_type": "code",
   "execution_count": 16,
   "metadata": {},
   "outputs": [
    {
     "name": "stdout",
     "output_type": "stream",
     "text": [
      "\n",
      "Hello\n",
      "World\n"
     ]
    }
   ],
   "source": [
    "branch_id = response[\"branch_id\"] # or a branch id that you know exists in the database   \n",
    "good_article_response = inspection_articles.get_article_from_article_name(branch_id=branch_id, name=encode_string_standard('Dummy Article Name'))\n",
    "print(decode_bytes(good_article_response[\"article\"]))\n"
   ]
  },
  {
   "cell_type": "code",
   "execution_count": 15,
   "metadata": {},
   "outputs": [
    {
     "name": "stdout",
     "output_type": "stream",
     "text": [
      " 404\n"
     ]
    }
   ],
   "source": [
    "bad_article_response = inspection_articles.get_article_from_article_name(branch_id=branch_id, name=encode_string_standard('Dummy Article Name 2'))\n",
    "print(decode_bytes(bad_article_response[\"article\"]), bad_article_response[\"response_code\"])"
   ]
  },
  {
   "cell_type": "code",
   "execution_count": 17,
   "metadata": {},
   "outputs": [
    {
     "data": {
      "text/plain": [
       "([{'name': b'\\x01\\x12Dummy Article Name',\n",
       "   'article_id': b'\\x01Q\\x12\\x08\\xe1\\x15\\xde\\xe3A\\x95\\xeb\\xda\\x02',\n",
       "   'submit_id': b'\\x01Q\\x12\\x08i\\xa0\\xde\\xd6\\xb7\\x8b\\xc7\\xe3\\r\\x06W\\x9c\\x05\\x00\\x00\\x00',\n",
       "   'branch_id': b'\\x01Q\\x12\\x08\\x91\\xf5\\x94\\xa3N\\x95\\x0b|'}],\n",
       " True)"
      ]
     },
     "execution_count": 17,
     "metadata": {},
     "output_type": "execute_result"
    }
   ],
   "source": [
    "# 'get_article_ids_from_branch_id',\n",
    "# 'get_article_ids_from_last_n_submits',\n",
    "# 'get_article_ids_until_submit_id',\n",
    "response_2 = inspection_articles.get_article_ids_from_branch_id(branch_id=branch_id)\n",
    "response_2"
   ]
  },
  {
   "attachments": {},
   "cell_type": "markdown",
   "metadata": {},
   "source": [
    "#### Via RPC Calls"
   ]
  },
  {
   "cell_type": "code",
   "execution_count": 2,
   "metadata": {},
   "outputs": [],
   "source": [
    "import requests\n",
    "import json\n",
    "from config.rpc_cfg import RPC_PORT\n",
    "from config.scrape_cfg import EXAMPLE_ARTICLE_TITLE\n",
    "def json_rpc_call(method, params=None):\n",
    "    url = f\"http://localhost:{RPC_PORT}/\"\n",
    "    headers = {'content-type': 'application/json'}\n",
    "    payload = {\n",
    "        \"method\": method,\n",
    "        \"params\": params,\n",
    "        \"jsonrpc\": \"2.0\",\n",
    "        \"id\": 0,\n",
    "    }\n",
    "    encoded_payload = json.dumps(payload).encode('utf-8')\n",
    "    response = requests.post(url, data=encoded_payload, headers=headers)\n",
    "    # print(response)#\n",
    "    return response.json()"
   ]
  },
  {
   "cell_type": "code",
   "execution_count": 3,
   "metadata": {},
   "outputs": [],
   "source": [
    "rpc_kwargs = dict(branch_id='AVESCBIV3kLa501s', name='Dummy Article Name') #rpc_genesis_branch_response[\"decoded_branch_id\"], deserialize_buckets=True)\n",
    "response = json_rpc_call(method=\"get_article_from_article_name\", params=rpc_kwargs)\n"
   ]
  },
  {
   "cell_type": "code",
   "execution_count": 6,
   "metadata": {},
   "outputs": [
    {
     "ename": "KeyError",
     "evalue": "'result'",
     "output_type": "error",
     "traceback": [
      "\u001b[0;31m---------------------------------------------------------------------------\u001b[0m",
      "\u001b[0;31mKeyError\u001b[0m                                  Traceback (most recent call last)",
      "Cell \u001b[0;32mIn[6], line 1\u001b[0m\n\u001b[0;32m----> 1\u001b[0m response[\u001b[39m\"\u001b[39;49m\u001b[39mresult\u001b[39;49m\u001b[39m\"\u001b[39;49m]\n",
      "\u001b[0;31mKeyError\u001b[0m: 'result'"
     ]
    }
   ],
   "source": [
    "response[\"result\"]"
   ]
  },
  {
   "cell_type": "code",
   "execution_count": 7,
   "metadata": {},
   "outputs": [
    {
     "data": {
      "text/plain": [
       "{'error': {'code': -32000,\n",
       "  'message': 'Server error',\n",
       "  'data': {'type': 'TypeError',\n",
       "   'args': [\"'NoneType' object is not iterable\"],\n",
       "   'message': \"'NoneType' object is not iterable\"}},\n",
       " 'id': 0,\n",
       " 'jsonrpc': '2.0'}"
      ]
     },
     "execution_count": 7,
     "metadata": {},
     "output_type": "execute_result"
    }
   ],
   "source": [
    "response"
   ]
  }
 ],
 "metadata": {
  "kernelspec": {
   "display_name": ".venv",
   "language": "python",
   "name": "python3"
  },
  "language_info": {
   "codemirror_mode": {
    "name": "ipython",
    "version": 3
   },
   "file_extension": ".py",
   "mimetype": "text/x-python",
   "name": "python",
   "nbconvert_exporter": "python",
   "pygments_lexer": "ipython3",
   "version": "3.9.15"
  },
  "orig_nbformat": 4
 },
 "nbformat": 4,
 "nbformat_minor": 2
}
