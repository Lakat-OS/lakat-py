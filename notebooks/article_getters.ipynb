{
 "cells": [
  {
   "attachments": {},
   "cell_type": "markdown",
   "metadata": {},
   "source": [
    "## Getters for the Articles"
   ]
  },
  {
   "cell_type": "code",
   "execution_count": 1,
   "metadata": {},
   "outputs": [],
   "source": [
    "import os \n",
    "os.chdir('..')"
   ]
  },
  {
   "cell_type": "code",
   "execution_count": 2,
   "metadata": {},
   "outputs": [
    {
     "name": "stdout",
     "output_type": "stream",
     "text": [
      "index json file is created\n"
     ]
    }
   ],
   "source": [
    "from utils.format.schema import check_argument, convert_to_bytes_based_on_schema, convert_from_bytes_based_on_schema\n",
    "import inspection.branch as inspection_branch\n",
    "import inspection.articles as inspection_articles\n",
    "from utils.encode.bytes import decode_base64_str_to_bytes, encode_bytes_to_base64_str, key_encoder, key_decoder\n",
    "from utils.encode.hashing import parse_lakat_cid\n",
    "from utils.encode.language import decode_bytes, encode_string_standard\n",
    "from initialization.genesis_branch import test_create_genesis_branch_with_initial_submit\n",
    "import lakat.storage.local_storage as lakat_storage_functions\n",
    "from setup.storage import name_tries\n",
    "# lakat_storage_functions.restart_db()\n"
   ]
  },
  {
   "cell_type": "code",
   "execution_count": 3,
   "metadata": {},
   "outputs": [
    {
     "data": {
      "text/plain": [
       "{'branch_id': b'\\x01Q\\x12\\x02\\xe1P',\n",
       " 'decoded_branch_id': 'AVESAuFQ',\n",
       " 'branch_head_id': b'\\x01Q\\x12\\x02~\\xd3\\n\\x04z\\x84\\x00\\x00',\n",
       " 'decoded_branch_head_id': 'AVESAn7TCgR6hAAA'}"
      ]
     },
     "execution_count": 3,
     "metadata": {},
     "output_type": "execute_result"
    }
   ],
   "source": [
    "response = test_create_genesis_branch_with_initial_submit(debug=False)\n",
    "response"
   ]
  },
  {
   "cell_type": "code",
   "execution_count": 4,
   "metadata": {},
   "outputs": [],
   "source": [
    "branch_id = response[\"branch_id\"] # or a branch id that you know exists in the database   \n",
    "article = inspection_articles.get_article_from_article_name(branch_id=branch_id, name=encode_string_standard('Dummy Article Name'))\n"
   ]
  },
  {
   "cell_type": "code",
   "execution_count": 6,
   "metadata": {},
   "outputs": [
    {
     "name": "stdout",
     "output_type": "stream",
     "text": [
      "\n",
      "Hello\n",
      "World\n"
     ]
    }
   ],
   "source": [
    "print(decode_bytes(article))"
   ]
  }
 ],
 "metadata": {
  "kernelspec": {
   "display_name": ".venv",
   "language": "python",
   "name": "python3"
  },
  "language_info": {
   "codemirror_mode": {
    "name": "ipython",
    "version": 3
   },
   "file_extension": ".py",
   "mimetype": "text/x-python",
   "name": "python",
   "nbconvert_exporter": "python",
   "pygments_lexer": "ipython3",
   "version": "3.9.15"
  },
  "orig_nbformat": 4
 },
 "nbformat": 4,
 "nbformat_minor": 2
}
