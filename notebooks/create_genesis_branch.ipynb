{
 "cells": [
  {
   "attachments": {},
   "cell_type": "markdown",
   "metadata": {},
   "source": [
    "## Create Genesis Branch"
   ]
  },
  {
   "attachments": {},
   "cell_type": "markdown",
   "metadata": {},
   "source": [
    "This notebooks creates a genesis branch of type \"twig\"\n",
    "\n",
    "First we switch to the root folder.\n",
    "Then we load necessary modules, functions and variables. Then we load the keyword arguments for the function call, as someone would enter them for an rpc call. They are checked for validity. Then the base64 encoded entries and other entries are converted into bytes form using the schema of the function call. Then the function call is made. Its response is then re-translated into base64 (at least all the values that are bytes).  "
   ]
  },
  {
   "cell_type": "code",
   "execution_count": 1,
   "metadata": {},
   "outputs": [],
   "source": [
    "import os \n",
    "os.chdir('..')"
   ]
  },
  {
   "cell_type": "code",
   "execution_count": 8,
   "metadata": {},
   "outputs": [],
   "source": [
    "import lakat.branch.functions as lakat_branch_functions\n",
    "from utils.format.schema import check_argument, convert_to_bytes_based_on_schema, convert_from_bytes_based_on_schema\n",
    "from utils.encode.bytes import encode_bytes_to_base64_str, decode_base64_str_to_bytes\n",
    "from config.branch_cfg import PROPER_BRANCH_TYPE_ID, TWIG_BRANCH_TYPE_ID\n",
    "import lakat.storage.local_storage as lakat_storage_functions\n",
    "lakat_storage_functions.restart_db_with_name(\"hallo\")"
   ]
  },
  {
   "cell_type": "code",
   "execution_count": 3,
   "metadata": {},
   "outputs": [
    {
     "name": "stdout",
     "output_type": "stream",
     "text": [
      "keyword arguments:  {'branch_type': 1, 'name': 'Genesis Branch', 'signature': '', 'accept_conflicts': False, 'msg': 'Genesis Submit'}\n"
     ]
    }
   ],
   "source": [
    "# some fake signature encoded in bytes64 \n",
    "signature = encode_bytes_to_base64_str(bytes(0))\n",
    "accept_conflicts = False\n",
    "msg = 'Genesis Submit'\n",
    "name = 'Genesis Branch'\n",
    "kwargs = dict(branch_type=TWIG_BRANCH_TYPE_ID, name=name, signature=signature, accept_conflicts=accept_conflicts, msg=msg)\n",
    "print('keyword arguments: ', kwargs)"
   ]
  },
  {
   "attachments": {},
   "cell_type": "markdown",
   "metadata": {},
   "source": [
    "### Create genesis branch without RPC server call"
   ]
  },
  {
   "cell_type": "code",
   "execution_count": 4,
   "metadata": {},
   "outputs": [
    {
     "data": {
      "text/plain": [
       "True"
      ]
     },
     "execution_count": 4,
     "metadata": {},
     "output_type": "execute_result"
    }
   ],
   "source": [
    "# check if the arguments are valid\n",
    "check_argument(arg=kwargs, schema=lakat_branch_functions.create_genesis_branch_schema)"
   ]
  },
  {
   "cell_type": "code",
   "execution_count": 5,
   "metadata": {},
   "outputs": [
    {
     "name": "stdout",
     "output_type": "stream",
     "text": [
      "converted_kwargs {'branch_type': 1, 'name': b'\\x01\\x0eGenesis Branch', 'signature': b'', 'accept_conflicts': False, 'msg': b'\\x01\\x0eGenesis Submit'}\n"
     ]
    }
   ],
   "source": [
    "# convert string and base64 encoded arguments to bytes\n",
    "converted_kwargs = convert_to_bytes_based_on_schema(schema=lakat_branch_functions.create_genesis_branch_schema, data=kwargs)\n",
    "print(\"converted_kwargs\", converted_kwargs)"
   ]
  },
  {
   "cell_type": "code",
   "execution_count": 6,
   "metadata": {},
   "outputs": [
    {
     "name": "stdout",
     "output_type": "stream",
     "text": [
      "Committing changes: {b'\\x01Q\\x12\\x08\\xda\\x13\\x1a\\xd8\\xf3\\xfdX\\xad': b\"\\x01Q\\x12\\x08\\xda\\x13\\x1a\\xd8\\xf3\\xfdX\\xad\\n\\x06'\\xa7\\x17\\x00\\x00\\x00\", b\"\\x01Q\\x12\\x08xD\\xb8v\\x97\\xc9h\\xf0\\x0c\\x06'\\xa7\\x17\\x00\\x00\\x00\": b'\\xa4jbranchType\\x01oacceptConflicts\\xf4nacceptedProofs\\x80mconsensusRoot@', b\"\\x01Q\\x12\\x08@\\xd8\\x96\\xe4I\\x15\\x0f\\x8e\\x0e\\x06'\\xa7\\x17\\x00\\x00\\x00\": b\"\\xadfconfigT\\x01Q\\x12\\x08xD\\xb8v\\x97\\xc9h\\xf0\\x0c\\x06'\\xa7\\x17\\x00\\x00\\x00mnewBranchHeadT\\x01Q\\x12\\x08\\xda\\x13\\x1a\\xd8\\xf3\\xfdX\\xad\\n\\x06'\\xa7\\x17\\x00\\x00\\x00lchangesTrace\\x80lpullRequests\\x80nnameResolution\\x80rnameResolutionRootT\\x01Q\\x12\\x084\\x8d\\x1d$\\xa3\\xbc\\x00a\\x10\\x06'\\xa7\\x17\\x00\\x00\\x00hnameTrie\\x80hdataTrie\\x80lreviewsTrace\\x80ksocialTrace\\x80jsocialRootT\\x01Q\\x12\\x084\\x8d\\x1d$\\xa3\\xbc\\x00a\\x11\\x06'\\xa7\\x17\\x00\\x00\\x00gsprouts\\x80tsproutSelectionTrace\\x80\", b\"\\x01Q\\x12\\x08\\xe4\\x99\\xe9\\xf6$\\xdb\\x8a\\xbf\\r\\x06'\\xa7\\x17\\x00\\x00\\x00\": b\"\\xa4pparent_submit_id@jsubmit_msgP\\x01\\x0eGenesis Submititrie_rootT\\x01Q\\x12\\x084\\x8d\\x1d$\\xa3\\xbc\\x00a\\x0b\\x06'\\xa7\\x17\\x00\\x00\\x00lsubmit_traceT\\x01Q\\x12\\x08@\\xd8\\x96\\xe4I\\x15\\x0f\\x8e\\x0e\\x06'\\xa7\\x17\\x00\\x00\\x00\", b\"\\x01Q\\x12\\x08\\xda\\x13\\x1a\\xd8\\xf3\\xfdX\\xad\\n\\x06'\\xa7\\x17\\x00\\x00\\x00\": b\"\\xacbidL\\x01Q\\x12\\x08\\xda\\x13\\x1a\\xd8\\xf3\\xfdX\\xadbnsF'\\xa7\\x17\\x00\\x00\\x00dnameP\\x01\\x0eGenesis Branchiparent_id@kstable_headT\\x01Q\\x12\\x08\\xe4\\x99\\xe9\\xf6$\\xdb\\x8a\\xbf\\r\\x06'\\xa7\\x17\\x00\\x00\\x00fconfigT\\x01Q\\x12\\x08xD\\xb8v\\x97\\xc9h\\xf0\\x0c\\x06'\\xa7\\x17\\x00\\x00\\x00gsprouts\\x80psprout_selection\\x80oname_resolutionT\\x01Q\\x12\\x084\\x8d\\x1d$\\xa3\\xbc\\x00a\\x10\\x06'\\xa7\\x17\\x00\\x00\\x00kinteractionT\\x01Q\\x12\\x084\\x8d\\x1d$\\xa3\\xbc\\x00a\\x11\\x06'\\xa7\\x17\\x00\\x00\\x00isignature@kcreation_ts\\x1ae\\xa4gw\", b\"\\x01Q\\x12\\x084\\x8d\\x1d$\\xa3\\xbc\\x00a\\x10\\x06'\\xa7\\x17\\x00\\x00\\x00\": b'\\xa3evalue\\xf6hchildren\\xa0dpath\\x80', b\"\\x01Q\\x12\\x084\\x8d\\x1d$\\xa3\\xbc\\x00a\\x0b\\x06'\\xa7\\x17\\x00\\x00\\x00\": b'\\xa3evalue\\xf6hchildren\\xa0dpath\\x80', b\"\\x01Q\\x12\\x084\\x8d\\x1d$\\xa3\\xbc\\x00a\\x11\\x06'\\xa7\\x17\\x00\\x00\\x00\": b'\\xa3evalue\\xf6hchildren\\xa0dpath\\x80'}\n"
     ]
    }
   ],
   "source": [
    "response = lakat_branch_functions.create_genesis_branch(**converted_kwargs)"
   ]
  },
  {
   "cell_type": "code",
   "execution_count": null,
   "metadata": {},
   "outputs": [],
   "source": [
    "# response is the branch id of the genesis branch. We can use the schema to decode the response\n",
    "decoded_response = convert_from_bytes_based_on_schema(schema=lakat_branch_functions.create_genesis_branch_schema[\"response\"], data=response)\n",
    "print(\"original response: \", response, \"\\ndecoded  response: \", decoded_response)"
   ]
  },
  {
   "attachments": {},
   "cell_type": "markdown",
   "metadata": {},
   "source": [
    "### Create genesis branch via RPC server call"
   ]
  },
  {
   "attachments": {},
   "cell_type": "markdown",
   "metadata": {},
   "source": [
    "First start the server via `python main.py` (first need to install the dependencies from the *requirements.txt*) or start the docker container exposed on port `3355`."
   ]
  },
  {
   "cell_type": "code",
   "execution_count": null,
   "metadata": {},
   "outputs": [],
   "source": [
    "import requests\n",
    "import json\n",
    "from config.rpc_cfg import RPC_PORT"
   ]
  },
  {
   "cell_type": "code",
   "execution_count": null,
   "metadata": {},
   "outputs": [],
   "source": [
    "def json_rpc_call(method, params=None):\n",
    "    url = f\"http://localhost:{RPC_PORT}/\"\n",
    "    headers = {'content-type': 'application/json'}\n",
    "    payload = {\n",
    "        \"method\": method,\n",
    "        \"params\": params,\n",
    "        \"jsonrpc\": \"2.0\",\n",
    "        \"id\": 0,\n",
    "    }\n",
    "    encoded_payload = json.dumps(payload).encode('utf-8')\n",
    "    response = requests.post(url, data=encoded_payload, headers=headers)\n",
    "    # print(response)#\n",
    "    return response.json()"
   ]
  },
  {
   "cell_type": "code",
   "execution_count": null,
   "metadata": {},
   "outputs": [],
   "source": [
    "# convert the keyword arguments to a list of values for the rpc call\n",
    "rpc_call_list = list(kwargs.values())\n",
    "# make the rpc call and get the response\n",
    "response = json_rpc_call(method=\"create_genesis_branch\", params=rpc_call_list)\n",
    "# response is inside the result field\n",
    "branch_id = response['result']\n",
    "print(\"Test 'create_genesis_branch' passed with branch ID:\", branch_id)"
   ]
  }
 ],
 "metadata": {
  "kernelspec": {
   "display_name": ".venv",
   "language": "python",
   "name": "python3"
  },
  "language_info": {
   "codemirror_mode": {
    "name": "ipython",
    "version": 3
   },
   "file_extension": ".py",
   "mimetype": "text/x-python",
   "name": "python",
   "nbconvert_exporter": "python",
   "pygments_lexer": "ipython3",
   "version": "3.9.15"
  },
  "orig_nbformat": 4
 },
 "nbformat": 4,
 "nbformat_minor": 2
}
