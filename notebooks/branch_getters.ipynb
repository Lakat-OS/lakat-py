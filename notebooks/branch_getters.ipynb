{
 "cells": [
  {
   "attachments": {},
   "cell_type": "markdown",
   "metadata": {},
   "source": [
    "## Branch Getters"
   ]
  },
  {
   "cell_type": "code",
   "execution_count": 1,
   "metadata": {},
   "outputs": [],
   "source": [
    "import os \n",
    "os.chdir('..')"
   ]
  },
  {
   "cell_type": "code",
   "execution_count": 2,
   "metadata": {},
   "outputs": [],
   "source": [
    "from utils.format.schema import check_argument, convert_to_bytes_based_on_schema, convert_from_bytes_based_on_schema\n",
    "import lakat.storage.getters as getters\n",
    "import lakat.storage.getters_schema as getters_schema"
   ]
  },
  {
   "attachments": {},
   "cell_type": "markdown",
   "metadata": {},
   "source": [
    "### GETTERS WITHOUT RPC SERVER CALLS"
   ]
  },
  {
   "cell_type": "code",
   "execution_count": 3,
   "metadata": {},
   "outputs": [],
   "source": [
    "branch_id = 'AVESAldR' ## replace with actual id \n",
    "kwargs = dict(branch_id=branch_id)\n",
    "#get_article_id_from_article_name"
   ]
  },
  {
   "cell_type": "code",
   "execution_count": 4,
   "metadata": {},
   "outputs": [
    {
     "data": {
      "text/plain": [
       "True"
      ]
     },
     "execution_count": 4,
     "metadata": {},
     "output_type": "execute_result"
    }
   ],
   "source": [
    "check_argument(arg=kwargs, schema=getters_schema.get_branch_name_from_branch_id)"
   ]
  },
  {
   "cell_type": "code",
   "execution_count": 5,
   "metadata": {},
   "outputs": [
    {
     "data": {
      "text/plain": [
       "{'branch_id': b'\\x01Q\\x12\\x02WQ'}"
      ]
     },
     "execution_count": 5,
     "metadata": {},
     "output_type": "execute_result"
    }
   ],
   "source": [
    "converted_kwargs = convert_to_bytes_based_on_schema(schema=getters_schema.get_branch_name_from_branch_id, data=kwargs)\n",
    "converted_kwargs"
   ]
  },
  {
   "cell_type": "code",
   "execution_count": 6,
   "metadata": {},
   "outputs": [],
   "source": [
    "response = getters.get_branch_name_from_branch_id(**converted_kwargs)\n",
    "decoded_response = convert_from_bytes_based_on_schema(schema=getters_schema.get_branch_name_from_branch_id[\"response\"], data=response)"
   ]
  },
  {
   "cell_type": "code",
   "execution_count": 7,
   "metadata": {},
   "outputs": [
    {
     "data": {
      "text/plain": [
       "'Genesis Branch'"
      ]
     },
     "execution_count": 7,
     "metadata": {},
     "output_type": "execute_result"
    }
   ],
   "source": [
    "decoded_response"
   ]
  },
  {
   "attachments": {},
   "cell_type": "markdown",
   "metadata": {},
   "source": [
    "### Getters via RPC server call"
   ]
  },
  {
   "cell_type": "code",
   "execution_count": 8,
   "metadata": {},
   "outputs": [],
   "source": [
    "import requests\n",
    "import json\n",
    "from config.rpc_cfg import RPC_PORT"
   ]
  },
  {
   "cell_type": "code",
   "execution_count": 9,
   "metadata": {},
   "outputs": [],
   "source": [
    "def json_rpc_call(method, params=None):\n",
    "    url = f\"http://localhost:{RPC_PORT}/\"\n",
    "    headers = {'content-type': 'application/json'}\n",
    "    payload = {\n",
    "        \"method\": method,\n",
    "        \"params\": params,\n",
    "        \"jsonrpc\": \"2.0\",\n",
    "        \"id\": 0,\n",
    "    }\n",
    "    encoded_payload = json.dumps(payload).encode('utf-8')\n",
    "    response = requests.post(url, data=encoded_payload, headers=headers)\n",
    "    # print(response)#\n",
    "    return response.json()"
   ]
  },
  {
   "cell_type": "code",
   "execution_count": 10,
   "metadata": {},
   "outputs": [],
   "source": [
    "branch_id = 'AVESAvtC'\n",
    "kwargs = dict(branch_id=branch_id)"
   ]
  },
  {
   "cell_type": "code",
   "execution_count": 11,
   "metadata": {},
   "outputs": [
    {
     "name": "stdout",
     "output_type": "stream",
     "text": [
      "Test 'get_branch_name_from_branch_id' passed with branch name: Genesis Branch\n"
     ]
    }
   ],
   "source": [
    "kwargs_rpc = list(kwargs.values())\n",
    "response = json_rpc_call(method=\"get_branch_name_from_branch_id\", params=kwargs_rpc)\n",
    "# response is inside the result key\n",
    "name = response['result']\n",
    "print(\"Test 'get_branch_name_from_branch_id' passed with branch name:\", name)"
   ]
  },
  {
   "cell_type": "code",
   "execution_count": null,
   "metadata": {},
   "outputs": [],
   "source": []
  }
 ],
 "metadata": {
  "kernelspec": {
   "display_name": ".venv",
   "language": "python",
   "name": "python3"
  },
  "language_info": {
   "codemirror_mode": {
    "name": "ipython",
    "version": 3
   },
   "file_extension": ".py",
   "mimetype": "text/x-python",
   "name": "python",
   "nbconvert_exporter": "python",
   "pygments_lexer": "ipython3",
   "version": "3.9.15"
  },
  "orig_nbformat": 4
 },
 "nbformat": 4,
 "nbformat_minor": 2
}
