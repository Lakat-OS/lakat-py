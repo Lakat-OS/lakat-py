{
 "cells": [
  {
   "attachments": {},
   "cell_type": "markdown",
   "metadata": {},
   "source": [
    "## Branch Getters"
   ]
  },
  {
   "cell_type": "code",
   "execution_count": 1,
   "metadata": {},
   "outputs": [],
   "source": [
    "import os \n",
    "os.chdir('..')"
   ]
  },
  {
   "cell_type": "code",
   "execution_count": 2,
   "metadata": {},
   "outputs": [],
   "source": [
    "from utils.format.schema import check_argument, convert_to_bytes_based_on_schema, convert_from_bytes_based_on_schema\n",
    "from initialization.notebooks.genesis_branch import test_create_genesis_branch_with_initial_submit\n",
    "from initialization.notebooks.genesis_branch_rpc import test_rpc_create_genesis_branch_with_initial_submit\n",
    "import inspection.branch as inspection_branch"
   ]
  },
  {
   "cell_type": "code",
   "execution_count": 3,
   "metadata": {},
   "outputs": [],
   "source": [
    "test_genesis_response = test_create_genesis_branch_with_initial_submit(debug=False)"
   ]
  },
  {
   "cell_type": "code",
   "execution_count": null,
   "metadata": {},
   "outputs": [],
   "source": [
    "{\n",
    "  'branch_state_id': 'b\\'\\\\x00\\\\x00\\\\x00\\\\x00\\\\x00\\\\x00\\\\x00\\\\x00\\'',\n",
    "  'bucket_refs': [\n",
    "      'AVESCKAONZepUFOCAQ==',\n",
    "      'AVESCAAV3J+WmQo7AQ==',\n",
    "      'AVESCF2JGJe/rJbyAg=='],\n",
    "  'new_registered_names': [\n",
    "     {'name': 'Dummy Article Name', 'id': 'AVESCF2JGJe/rJbyAg=='},\n",
    "     {'name': 'Dummy Article Name 2', 'id': 'AVESCF2JGJe/rJbyAf=='}] \n",
    "}"
   ]
  },
  {
   "cell_type": "code",
   "execution_count": 8,
   "metadata": {},
   "outputs": [
    {
     "data": {
      "text/plain": [
       "{'branch_id': b'\\x01Q\\x12\\x08o\\xb5+~\\xa6\\x96\\xa0\\xc8',\n",
       " 'decoded_branch_id': 'AVESCG+1K36mlqDI',\n",
       " 'branch_head_id': b'\\x01Q\\x12\\x08o\\xb5+~\\xa6\\x96\\xa0\\xc8\\n\\x06I\\xc0\\xd2\\x00\\x00\\x00',\n",
       " 'decoded_branch_head_id': 'AVESCG+1K36mlqDICgZJwNIAAAA='}"
      ]
     },
     "execution_count": 8,
     "metadata": {},
     "output_type": "execute_result"
    }
   ],
   "source": [
    "test_genesis_response\n"
   ]
  },
  {
   "cell_type": "code",
   "execution_count": 4,
   "metadata": {},
   "outputs": [],
   "source": [
    "from lakat.storage.branch_storage import get_local_branches"
   ]
  },
  {
   "attachments": {},
   "cell_type": "markdown",
   "metadata": {},
   "source": [
    "### GETTERS WITHOUT RPC SERVER CALLS"
   ]
  },
  {
   "attachments": {},
   "cell_type": "markdown",
   "metadata": {},
   "source": [
    "#### Get Branches"
   ]
  },
  {
   "cell_type": "code",
   "execution_count": 4,
   "metadata": {},
   "outputs": [
    {
     "data": {
      "text/plain": [
       "['AVESCPMY3MvuauOI']"
      ]
     },
     "execution_count": 4,
     "metadata": {},
     "output_type": "execute_result"
    }
   ],
   "source": [
    "resp = inspection_branch.get_local_branches()\n",
    "convert_from_bytes_based_on_schema(schema=inspection_branch.get_local_branches_schema[\"response\"], data=resp)"
   ]
  },
  {
   "attachments": {},
   "cell_type": "markdown",
   "metadata": {},
   "source": [
    "#### Get Branch Name From Branch Id"
   ]
  },
  {
   "cell_type": "code",
   "execution_count": 4,
   "metadata": {},
   "outputs": [
    {
     "name": "stdout",
     "output_type": "stream",
     "text": [
      "arguments are valid according to schema:  True\n",
      "converted_kwargs:  {'branch_id': b'\\x01Q\\x12\\x02}\\xbf'}\n",
      "decoded response:  Genesis Branch\n"
     ]
    }
   ],
   "source": [
    "kwargs = dict(branch_id=test_genesis_response[\"decoded_branch_id\"])\n",
    "arguments_valid_schema = check_argument(arg=kwargs, schema=inspection_branch.get_branch_name_from_branch_id_schema)\n",
    "print(\"arguments are valid according to schema: \", arguments_valid_schema)\n",
    "converted_kwargs = convert_to_bytes_based_on_schema(schema=inspection_branch.get_branch_name_from_branch_id_schema, data=kwargs)\n",
    "print(\"converted_kwargs: \", converted_kwargs)\n",
    "response = inspection_branch.get_branch_name_from_branch_id(**converted_kwargs)\n",
    "decoded_response = convert_from_bytes_based_on_schema(schema=inspection_branch.get_branch_name_from_branch_id_schema[\"response\"], data=response)\n",
    "print(\"decoded response: \", decoded_response)"
   ]
  },
  {
   "attachments": {},
   "cell_type": "markdown",
   "metadata": {},
   "source": [
    "#### Get Branch Data from Branch Id"
   ]
  },
  {
   "cell_type": "code",
   "execution_count": null,
   "metadata": {},
   "outputs": [],
   "source": []
  },
  {
   "cell_type": "code",
   "execution_count": 5,
   "metadata": {},
   "outputs": [
    {
     "name": "stdout",
     "output_type": "stream",
     "text": [
      "arguments are valid according to schema:  True\n",
      "converted_kwargs:  {'branch_id': b'\\x01Q\\x12\\x08o\\xb5+~\\xa6\\x96\\xa0\\xc8', 'deserialize_buckets': False}\n"
     ]
    },
    {
     "data": {
      "text/plain": [
       "{'id': 'AVESCG+1K36mlqDI',\n",
       " 'ns': 'ScDSAAAA',\n",
       " 'name': 'Genesis Branch',\n",
       " 'parent_id': '',\n",
       " 'stable_head': {'parent_submit_id': 'AVESCDDA9SEW3XWuDQZJwNIAAAA=',\n",
       "  'submit_msg': 'Initial Submit'},\n",
       " 'config': {'accept_conflicts': False, 'branch_type': 1},\n",
       " 'sprouts': [],\n",
       " 'sprout_selection': [],\n",
       " 'name_resolution': 'AVESCBezYOQCPmKdEAZJwNIAAAA=',\n",
       " 'interaction': 'AVESCDSNHSSjvABhEQZJwNIAAAA=',\n",
       " 'signature': '',\n",
       " 'creation_ts': 1705659257,\n",
       " 'submit_trace': {'new_buckets': ['AVESCKAONZepUFOCAQ==',\n",
       "   'AVESCAAV3J+WmQo7AQ==',\n",
       "   'AVESCF2JGJe/rJbyAg=='],\n",
       "  'new_registered_names': [{'name': 'Dummy Article Name',\n",
       "    'id': 'AVESCF2JGJe/rJbyAg=='}]}}"
      ]
     },
     "execution_count": 5,
     "metadata": {},
     "output_type": "execute_result"
    }
   ],
   "source": [
    "bd_kwargs = dict(branch_id=test_genesis_response[\"decoded_branch_id\"], deserialize_buckets=False)\n",
    "db_arguments_valid_schema = check_argument(arg=bd_kwargs, schema=inspection_branch.get_branch_data_from_branch_id_schema)\n",
    "print(\"arguments are valid according to schema: \", db_arguments_valid_schema)\n",
    "converted_bd_kwargs = convert_to_bytes_based_on_schema(schema=inspection_branch.get_branch_data_from_branch_id_schema, data=bd_kwargs)\n",
    "print(\"converted_kwargs: \", converted_bd_kwargs)\n",
    "bd_response = inspection_branch.get_branch_data_from_branch_id(**converted_bd_kwargs)\n",
    "decoded_db_response = convert_from_bytes_based_on_schema(schema=inspection_branch.get_branch_data_from_branch_id_schema[\"response\"], data=bd_response)\n",
    "decoded_db_response\n",
    "# bd_response\n"
   ]
  },
  {
   "cell_type": "code",
   "execution_count": 7,
   "metadata": {},
   "outputs": [
    {
     "data": {
      "text/plain": [
       "{'new_buckets': ['AVESCKAONZepUFOCAQ==',\n",
       "  'AVESCAAV3J+WmQo7AQ==',\n",
       "  'AVESCF2JGJe/rJbyAg=='],\n",
       " 'new_registered_names': [{'name': 'Dummy Article Name',\n",
       "   'id': 'AVESCF2JGJe/rJbyAg=='}]}"
      ]
     },
     "execution_count": 7,
     "metadata": {},
     "output_type": "execute_result"
    }
   ],
   "source": [
    "decoded_db_response[\"submit_trace\"]"
   ]
  },
  {
   "attachments": {},
   "cell_type": "markdown",
   "metadata": {},
   "source": [
    "### Getters via RPC server call"
   ]
  },
  {
   "cell_type": "code",
   "execution_count": 2,
   "metadata": {},
   "outputs": [],
   "source": [
    "import requests\n",
    "import json\n",
    "from config.rpc_cfg import RPC_PORT"
   ]
  },
  {
   "cell_type": "code",
   "execution_count": 3,
   "metadata": {},
   "outputs": [],
   "source": [
    "def json_rpc_call(method, params=None):\n",
    "    url = f\"http://localhost:{RPC_PORT}/\"\n",
    "    headers = {'content-type': 'application/json'}\n",
    "    payload = {\n",
    "        \"method\": method,\n",
    "        \"params\": params,\n",
    "        \"jsonrpc\": \"2.0\",\n",
    "        \"id\": 0,\n",
    "    }\n",
    "    encoded_payload = json.dumps(payload).encode('utf-8')\n",
    "    response = requests.post(url, data=encoded_payload, headers=headers)\n",
    "    # print(response)#\n",
    "    return response.json()"
   ]
  },
  {
   "cell_type": "code",
   "execution_count": 6,
   "metadata": {},
   "outputs": [
    {
     "data": {
      "text/plain": [
       "{'branch_head_state_id': b'\\x01Q\\x12\\x08\\x12\\x15\\xdeB\\xda\\xe7Ml\\n\\x06\\x1e-U\\x00\\x00\\x00',\n",
       " 'decoded_branch_head_state_id': 'AVESCBIV3kLa501sCgYeLVUAAAA=',\n",
       " 'branch_id': b'\\x01Q\\x12\\x08\\x12\\x15\\xdeB\\xda\\xe7Ml',\n",
       " 'decoded_branch_id': 'AVESCBIV3kLa501s'}"
      ]
     },
     "execution_count": 6,
     "metadata": {},
     "output_type": "execute_result"
    }
   ],
   "source": [
    "rpc_genesis_branch_response = test_rpc_create_genesis_branch_with_initial_submit(debug=False)\n",
    "rpc_genesis_branch_response"
   ]
  },
  {
   "cell_type": "markdown",
   "metadata": {},
   "source": [
    "#### Get Branch Name Route"
   ]
  },
  {
   "cell_type": "code",
   "execution_count": 7,
   "metadata": {},
   "outputs": [
    {
     "name": "stdout",
     "output_type": "stream",
     "text": [
      "Test 'get_branch_name_from_branch_id' passed with branch name: Genesis Branch\n"
     ]
    }
   ],
   "source": [
    "rpc_kwargs = dict(branch_id='AVESCBIV3kLa501s') #rpc_genesis_branch_response[\"decoded_branch_id\"])\n",
    "response = json_rpc_call(method=\"get_branch_name_from_branch_id\", params=rpc_kwargs)\n",
    "name = response['result']\n",
    "print(\"Test 'get_branch_name_from_branch_id' passed with branch name:\", name)"
   ]
  },
  {
   "attachments": {},
   "cell_type": "markdown",
   "metadata": {},
   "source": [
    "#### Get Branch Data Route"
   ]
  },
  {
   "cell_type": "code",
   "execution_count": 8,
   "metadata": {},
   "outputs": [],
   "source": [
    "response = json_rpc_call(method=\"get_local_branches\", params=[])"
   ]
  },
  {
   "cell_type": "code",
   "execution_count": 9,
   "metadata": {},
   "outputs": [
    {
     "data": {
      "text/plain": [
       "{'result': ['AVESCJ/p64sKKFyI', 'AVESCBIV3kLa501s'], 'id': 0, 'jsonrpc': '2.0'}"
      ]
     },
     "execution_count": 9,
     "metadata": {},
     "output_type": "execute_result"
    }
   ],
   "source": [
    "response"
   ]
  },
  {
   "cell_type": "code",
   "execution_count": 12,
   "metadata": {},
   "outputs": [],
   "source": [
    "rpc_kwargs = dict(branch_id='AVESCBIV3kLa501s', deserialize_buckets=False) #rpc_genesis_branch_response[\"decoded_branch_id\"], deserialize_buckets=True)\n",
    "response = json_rpc_call(method=\"get_branch_data_from_branch_id\", params=rpc_kwargs)"
   ]
  },
  {
   "cell_type": "code",
   "execution_count": 14,
   "metadata": {},
   "outputs": [
    {
     "data": {
      "text/plain": [
       "{'id': 'AVESCBIV3kLa501s',\n",
       " 'ns': 'Hi1VAAAA',\n",
       " 'name': 'Genesis Branch',\n",
       " 'parent_id': '',\n",
       " 'stable_head': {'parent_submit_id': 'AVESCFGQfq5CCTHzDQYeLVUAAAA=',\n",
       "  'submit_msg': 'Initial Submit'},\n",
       " 'config': {'accept_conflicts': False, 'branch_type': 1},\n",
       " 'sprouts': [],\n",
       " 'sprout_selection': [],\n",
       " 'name_resolution': 'AVESCH7XrV3+P9okEAYeLVUAAAA=',\n",
       " 'interaction': 'AVESCDSNHSSjvABhEQYeLVUAAAA=',\n",
       " 'signature': '',\n",
       " 'creation_ts': 1705495367,\n",
       " 'submit_trace': {'new_buckets': ['AVESCMskVHXNt7CuAQ==',\n",
       "   'AVESCLT33IJJF4cLAQ==',\n",
       "   'AVESCK+I050hVtZOAg=='],\n",
       "  'new_registered_names': [{'name': 'Dummy Article Name',\n",
       "    'id': 'AVESCK+I050hVtZOAg=='}]}}"
      ]
     },
     "execution_count": 14,
     "metadata": {},
     "output_type": "execute_result"
    }
   ],
   "source": [
    "response[\"result\"]"
   ]
  },
  {
   "cell_type": "code",
   "execution_count": 13,
   "metadata": {},
   "outputs": [],
   "source": [
    "articles = [bucket \n",
    "    for bucket in response[\"result\"][\"submit_trace\"][\"new_buckets\"]\n",
    "    if bucket[\"schema_id\"]==2]"
   ]
  },
  {
   "cell_type": "code",
   "execution_count": 15,
   "metadata": {},
   "outputs": [
    {
     "data": {
      "text/plain": [
       "['AVESCKPh2Z6evBoyAQ==',\n",
       " 'AVESCEInlEDtsAPYAQ==',\n",
       " 'AVESCKGnaTaaOsyyAQ==',\n",
       " 'AVESCMhnGewCGLVhAQ==',\n",
       " 'AVESCKG+Nts4I8VPAQ==',\n",
       " 'AVESCLi4FZ6mEVpmAQ==',\n",
       " 'AVESCPR4KZCRiYYpAQ==',\n",
       " 'AVESCNUhxs7mtR48AQ==',\n",
       " 'AVESCE4yz5HogoxuAQ==',\n",
       " 'AVESCHY2WSyY1qPTAQ==',\n",
       " 'AVESCPamgE53tRAzAQ==',\n",
       " 'AVESCBZlOJegzIFMAQ==',\n",
       " 'AVESCEJ74F/tDHLaAQ==',\n",
       " 'AVESCE2gTihcHdASAQ==',\n",
       " 'AVESCCfPgx+zN0tDAQ==',\n",
       " 'AVESCIEGFG6UambdAQ==',\n",
       " 'AVESCHwM68bcH1LeAQ==',\n",
       " 'AVESCHVnQEZfcqQAAQ==',\n",
       " 'AVESCChdXZaUKoynAQ==',\n",
       " 'AVESCCkCag6JhFmKAQ==',\n",
       " 'AVESCBxoHsojdne0AQ==',\n",
       " 'AVESCHNM4nRHgyGHAQ==',\n",
       " 'AVESCEe+2vUue67ZAQ==',\n",
       " 'AVESCBSCuFZKeg6QAQ==',\n",
       " 'AVESCODhqOGy4oYbAQ==',\n",
       " 'AVESCCp2ynNvj6W+AQ==',\n",
       " 'AVESCOt8NZKvaNWZAQ==',\n",
       " 'AVESCEqadiuBDl9iAQ==',\n",
       " 'AVESCEpH7TKePUDmAQ==',\n",
       " 'AVESCNIT78XJPY7EAQ==',\n",
       " 'AVESCL7LJ6UnHykaAQ==',\n",
       " 'AVESCCRJf9To4y/NAQ==',\n",
       " 'AVESCJp4NXJ/+m2QAQ==',\n",
       " 'AVESCCt78YRN/xslAQ==',\n",
       " 'AVESCGI0wKkHbOKjAQ==',\n",
       " 'AVESCFlmYPzbOdiuAQ==',\n",
       " 'AVESCNwOVEEJPOn2AQ==',\n",
       " 'AVESCNh29K294/rnAQ==',\n",
       " 'AVESCCNUTawJgRJ0AQ==',\n",
       " 'AVESCGGtP9l5fvX7AQ==',\n",
       " 'AVESCMubfQZ2LiLBAQ==',\n",
       " 'AVESCMEBgiggUNXfAQ==',\n",
       " 'AVESCABCDqkx7et4AQ==',\n",
       " 'AVESCJamuq/6Q4LeAQ==',\n",
       " 'AVESCD6Yydwjp6WHAQ==',\n",
       " 'AVESCA3XAJRlt2jDAQ==',\n",
       " 'AVESCNGIqYXbTVw+AQ==',\n",
       " 'AVESCE8LLtxdO7MNAQ==',\n",
       " 'AVESCNkzJjF1cjT4AQ==']"
      ]
     },
     "execution_count": 15,
     "metadata": {},
     "output_type": "execute_result"
    }
   ],
   "source": [
    "articles[0][\"data\"]"
   ]
  },
  {
   "cell_type": "code",
   "execution_count": 16,
   "metadata": {},
   "outputs": [
    {
     "data": {
      "text/plain": [
       "1"
      ]
     },
     "execution_count": 16,
     "metadata": {},
     "output_type": "execute_result"
    }
   ],
   "source": [
    "from utils.encode.bytes import decode_base64_str_to_bytes\n",
    "from utils.encode.hashing import get_namespace_from_lakat_cid\n",
    "bytes_example = decode_base64_str_to_bytes('AVESCKG+Nts4I8VPAQ==')\n",
    "get_namespace_from_lakat_cid(bytes_example)"
   ]
  }
 ],
 "metadata": {
  "kernelspec": {
   "display_name": ".venv",
   "language": "python",
   "name": "python3"
  },
  "language_info": {
   "codemirror_mode": {
    "name": "ipython",
    "version": 3
   },
   "file_extension": ".py",
   "mimetype": "text/x-python",
   "name": "python",
   "nbconvert_exporter": "python",
   "pygments_lexer": "ipython3",
   "version": "3.9.15"
  },
  "orig_nbformat": 4
 },
 "nbformat": 4,
 "nbformat_minor": 2
}
