{
 "cells": [
  {
   "attachments": {},
   "cell_type": "markdown",
   "metadata": {},
   "source": [
    "# Create A Genesis Branch And Submit"
   ]
  },
  {
   "attachments": {},
   "cell_type": "markdown",
   "metadata": {},
   "source": [
    "First change to root directory"
   ]
  },
  {
   "cell_type": "code",
   "execution_count": 1,
   "metadata": {},
   "outputs": [],
   "source": [
    "import os \n",
    "os.chdir('..')"
   ]
  },
  {
   "attachments": {},
   "cell_type": "markdown",
   "metadata": {},
   "source": [
    "Load some rpc gadgets to send calls"
   ]
  },
  {
   "cell_type": "code",
   "execution_count": 2,
   "metadata": {},
   "outputs": [],
   "source": [
    "from utils.rpc import lib as rpc_lib\n",
    "from utils.encode.bytes import encode_bytes_to_base64_str\n",
    "from config.branch_cfg import TWIG_BRANCH_TYPE_ID\n",
    "from config.bucket_cfg import BUCKET_ID_TYPE_NO_REF, BUCKET_ID_TYPE_WITH_ID_REF, DEFAULT_MOLECULAR_BUCKET_SCHEMA, DEFAULT_ATOMIC_BUCKET_SCHEMA"
   ]
  },
  {
   "cell_type": "code",
   "execution_count": 3,
   "metadata": {},
   "outputs": [],
   "source": [
    "# Some useful constants\n",
    "BYTES0 = encode_bytes_to_base64_str(bytes(0))"
   ]
  },
  {
   "cell_type": "code",
   "execution_count": 4,
   "metadata": {},
   "outputs": [],
   "source": [
    "# Some useful print functions\n",
    "def print_response_in_human_readable_format(response):\n",
    "    print(\"The branch id is {branch_id}.\\nThere were {nr_buckets} buckets submitted (same order as in the contents argument):{refs}.\\nThe following Article Names have been registered:{names}.\\nThe submit id (hash) is {submit_id}.\\nThe submit trace id is {submit_trace_id}.\".format(\n",
    "        **response, \n",
    "        nr_buckets=len(response[\"bucket_refs\"]),\n",
    "        refs=(\"\\n\\t\" if response[\"bucket_refs\"] else \"\") + \",\\n\\t\".join(response[\"bucket_refs\"]),\n",
    "        names=(\"\\n\\t\" if response[\"registered_names\"] else \"\") + \",\\n\\t\".join([f\"{n['name']} (at {n['id']})\" for n in response['registered_names']])))"
   ]
  },
  {
   "attachments": {},
   "cell_type": "markdown",
   "metadata": {},
   "source": [
    "### Create Genesis Branch\n",
    "Make the parameters for a genesis branch creation"
   ]
  },
  {
   "cell_type": "code",
   "execution_count": 5,
   "metadata": {},
   "outputs": [],
   "source": [
    "# some fake signature encoded in bytes64 \n",
    "signature = BYTES0\n",
    "accept_conflicts = False\n",
    "msg = 'Genesis Submit'\n",
    "name = 'Genesis Branch'\n",
    "kwargs = dict(\n",
    "    branch_type=TWIG_BRANCH_TYPE_ID, \n",
    "    name='Genesis Branch', \n",
    "    signature=signature, \n",
    "    accept_conflicts=True, \n",
    "    msg='Genesis Submit')"
   ]
  },
  {
   "cell_type": "code",
   "execution_count": 6,
   "metadata": {},
   "outputs": [
    {
     "name": "stdout",
     "output_type": "stream",
     "text": [
      "The response is the branch_id: AVESCMio/7qCyofj\n"
     ]
    }
   ],
   "source": [
    "create_genesis_response = rpc_lib.json_rpc_call(method='create_genesis_branch', params=kwargs)\n",
    "print(f\"The response is the branch_id: {create_genesis_response['result']}\")"
   ]
  },
  {
   "cell_type": "code",
   "execution_count": 7,
   "metadata": {},
   "outputs": [],
   "source": [
    "branch_id = create_genesis_response['result']"
   ]
  },
  {
   "attachments": {},
   "cell_type": "markdown",
   "metadata": {},
   "source": [
    "### Send a first submit\n",
    "Make the parameters for the first submit"
   ]
  },
  {
   "cell_type": "code",
   "execution_count": 8,
   "metadata": {},
   "outputs": [],
   "source": [
    "contents = [\n",
    "        {   \n",
    "            ## A CONTENT BUCKET FOR AN ARTICLE\n",
    "            \"data\": \"=Hello=\",  \n",
    "            \"schema\": DEFAULT_ATOMIC_BUCKET_SCHEMA, \n",
    "            \"parent_id\": BYTES0, \n",
    "            \"signature\": BYTES0, \n",
    "            \"refs\": []\n",
    "        },\n",
    "        {\n",
    "            ## ANOTHER CONTENT BUCKET FOR AN ARTICLE\n",
    "            \"data\": \"=World=\",  \n",
    "            \"schema\": DEFAULT_ATOMIC_BUCKET_SCHEMA, \n",
    "            \"parent_id\": BYTES0, \n",
    "            \"signature\": BYTES0, \n",
    "            \"refs\": []\n",
    "        },\n",
    "        {\n",
    "            ## A CONTEXT BUCKET (MOLECULAR) FOR THAT ARTICLE\n",
    "            \"data\": {\n",
    "                \"order\": [\n",
    "                    {\"id\": 0, \"type\": BUCKET_ID_TYPE_NO_REF},\n",
    "                    {\"id\": 1, \"type\": BUCKET_ID_TYPE_NO_REF}], \n",
    "                \"name\": \"Dummy Article Name\"},\n",
    "            \"schema\": DEFAULT_MOLECULAR_BUCKET_SCHEMA,\n",
    "            \"parent_id\": BYTES0, \n",
    "            \"signature\": BYTES0, \n",
    "            \"refs\": []\n",
    "        },\n",
    "        {\n",
    "            ## A CONTENT BUCKET FOR ANOTHER ARTICLE\n",
    "            \"data\": \"=About Lakat=\\nContent of 'About Lakat'\",  \n",
    "            \"schema\": DEFAULT_ATOMIC_BUCKET_SCHEMA, \n",
    "            \"parent_id\": BYTES0, \n",
    "            \"signature\": BYTES0, \n",
    "            \"refs\": []\n",
    "        },\n",
    "        {\n",
    "            ## A CONTEXT BUCKET (MOLECULAR) FOR THAT OTHER ARTICLE\n",
    "            \"data\": {\n",
    "                \"order\": [{\"id\": 3, \"type\": BUCKET_ID_TYPE_NO_REF}], \n",
    "                \"name\": \"Lakat\"},\n",
    "            \"schema\": DEFAULT_MOLECULAR_BUCKET_SCHEMA,\n",
    "            \"parent_id\": BYTES0, \n",
    "            \"signature\": BYTES0, \n",
    "            \"refs\": []\n",
    "        }\n",
    "    ]\n",
    "## NOTE: The order of the contents is important. "
   ]
  },
  {
   "cell_type": "code",
   "execution_count": 9,
   "metadata": {},
   "outputs": [],
   "source": [
    "# the submit keyword arguments\n",
    "submit_kwargs = dict(\n",
    "    branch_id=branch_id, \n",
    "    contents=contents, \n",
    "    public_key=BYTES0, \n",
    "    proof=BYTES0, \n",
    "    msg=\"First Submit\")\n",
    "\n",
    "# make the call\n",
    "first_submit_response = rpc_lib.json_rpc_call(method=\"submit_content_to_twig\", params=submit_kwargs)\n",
    "\n",
    "# branch_response\n",
    "first_submit_response_data = first_submit_response['result']"
   ]
  },
  {
   "cell_type": "code",
   "execution_count": 10,
   "metadata": {},
   "outputs": [
    {
     "name": "stdout",
     "output_type": "stream",
     "text": [
      "The branch id is AVESCNNQaRo+cgJy.\n",
      "There were 5 buckets submitted (same order as in the contents argument):\n",
      "\tAVESCGp7iZczl9/AAQ==,\n",
      "\tAVESCODub3fbyGe3AQ==,\n",
      "\tAVESCH5cjfo3Iat4Ag==,\n",
      "\tAVESCCu3ilHmiDblAQ==,\n",
      "\tAVESCEuQDYZqyJs6Ag==.\n",
      "The following Article Names have been registered:\n",
      "\tDummy Article Name (at AVESCH5cjfo3Iat4Ag==),\n",
      "\tLakat (at AVESCEuQDYZqyJs6Ag==).\n",
      "The submit id (hash) is AVESCOI4G4JHcfX+DQae5XUAAAA=.\n",
      "The submit trace id is AVESCGwfahQlxfg/Dgae5XUAAAA=.\n"
     ]
    }
   ],
   "source": [
    "print_response_in_human_readable_format(first_submit_response_data)"
   ]
  },
  {
   "cell_type": "code",
   "execution_count": 11,
   "metadata": {},
   "outputs": [],
   "source": [
    "bucket_ids = first_submit_response_data[\"bucket_refs\"]"
   ]
  },
  {
   "attachments": {},
   "cell_type": "markdown",
   "metadata": {},
   "source": [
    "### Make another submission"
   ]
  },
  {
   "cell_type": "code",
   "execution_count": 12,
   "metadata": {},
   "outputs": [],
   "source": [
    "second_contents = [\n",
    "        {\n",
    "            ## CHANGE =World= TO =Universe=\n",
    "            \"data\": \"=Universe=\",  \n",
    "            \"schema\": DEFAULT_ATOMIC_BUCKET_SCHEMA, \n",
    "            \"parent_id\": bucket_ids[1], # the id of the second bucket, the one we want to change\n",
    "            \"signature\": BYTES0, \n",
    "            \"refs\": []\n",
    "        },\n",
    "        {\n",
    "            ## ALSO UPDATE THE CONTEXT BUCKET (MOLECULAR) FOR THAT ARTICLE\n",
    "            ## NOTE: The second entry of the \"order\" has a reference type\n",
    "            \"data\": {\n",
    "                \"order\": [\n",
    "                    {\"id\": 0, \"type\": BUCKET_ID_TYPE_NO_REF},\n",
    "                    {\"id\": bucket_ids[1], \"type\": BUCKET_ID_TYPE_WITH_ID_REF},\n",
    "                    {\"id\": 2, \"type\": BUCKET_ID_TYPE_NO_REF}], # NOTE: id can also be after this id.\n",
    "                \"name\": \"\"}, # NOTE: no need to supply a name anymore (without effect)\n",
    "            \"schema\": DEFAULT_MOLECULAR_BUCKET_SCHEMA,\n",
    "            \"parent_id\": bucket_ids[2], ## Enter here the parent id of the article \n",
    "            \"signature\": BYTES0, \n",
    "            \"refs\": []\n",
    "        },\n",
    "        {\n",
    "            ## Add another section to the previous article.\n",
    "            \"data\": \"=Authors=\\nThe creator\",  \n",
    "            \"schema\": DEFAULT_ATOMIC_BUCKET_SCHEMA, \n",
    "            \"parent_id\": BYTES0, \n",
    "            \"signature\": BYTES0, \n",
    "            \"refs\": []\n",
    "        }\n",
    "    ]\n",
    "## NOTE: The order of the contents is important. "
   ]
  },
  {
   "cell_type": "code",
   "execution_count": 13,
   "metadata": {},
   "outputs": [],
   "source": [
    "# the submit keyword arguments\n",
    "second_submit_kwargs = dict(\n",
    "    branch_id=branch_id, \n",
    "    contents=second_contents, \n",
    "    public_key=BYTES0, \n",
    "    proof=BYTES0, \n",
    "    msg=\"Second Submit\")\n",
    "\n",
    "# make the call\n",
    "second_submit_response = rpc_lib.json_rpc_call(method=\"submit_content_to_twig\", params=second_submit_kwargs)\n",
    "\n",
    "# branch_response\n",
    "second_submit_response_data = second_submit_response['result']"
   ]
  },
  {
   "cell_type": "code",
   "execution_count": 14,
   "metadata": {},
   "outputs": [
    {
     "name": "stdout",
     "output_type": "stream",
     "text": [
      "The branch id is AVESCNNQaRo+cgJy.\n",
      "There were 3 buckets submitted (same order as in the contents argument):\n",
      "\tAVESCFMUFpQjAsRAAQ==,\n",
      "\tAVESCI0zGlhdWFHVAg==,\n",
      "\tAVESCMjLJ6YAcmDJAQ==.\n",
      "The following Article Names have been registered:.\n",
      "The submit id (hash) is AVESCGzYdrzqMebRDQae5XUAAAA=.\n",
      "The submit trace id is AVESCNSoNHl5WtMYDgae5XUAAAA=.\n"
     ]
    }
   ],
   "source": [
    "print_response_in_human_readable_format(second_submit_response_data)"
   ]
  },
  {
   "attachments": {},
   "cell_type": "markdown",
   "metadata": {},
   "source": [
    "### Article Getters"
   ]
  },
  {
   "attachments": {},
   "cell_type": "markdown",
   "metadata": {},
   "source": [
    "Get Article From Article Name"
   ]
  },
  {
   "cell_type": "code",
   "execution_count": 15,
   "metadata": {},
   "outputs": [
    {
     "name": "stdout",
     "output_type": "stream",
     "text": [
      "\n",
      "=Universe=\n",
      "=World=\n",
      "=Authors=\n",
      "The creator\n"
     ]
    }
   ],
   "source": [
    "# get_article_from_article_name returns the latest version of the article\n",
    "rpc_kwargs = dict(branch_id=branch_id, name='Dummy Article Name') \n",
    "get_article_response = rpc_lib.json_rpc_call(method=\"get_article_from_article_name\", params=rpc_kwargs)\n",
    "get_article_response_data = get_article_response[\"result\"]\n",
    "print(get_article_response_data)"
   ]
  },
  {
   "cell_type": "code",
   "execution_count": 16,
   "metadata": {},
   "outputs": [
    {
     "name": "stdout",
     "output_type": "stream",
     "text": [
      "\n",
      "=Hello=\n",
      "=World=\n"
     ]
    }
   ],
   "source": [
    "# get_article_from_id returns the article at the given id\n",
    "get_article_from_id_kwargs = dict(bucket_id=first_submit_response_data[\"bucket_refs\"][2]) \n",
    "get_article_from_article_id_response = rpc_lib.json_rpc_call(\n",
    "    method=\"get_article_from_article_id\", params=get_article_from_id_kwargs)\n",
    "get_article_from_article_id_response_data = get_article_from_article_id_response[\"result\"]\n",
    "print(get_article_from_article_id_response_data)"
   ]
  },
  {
   "cell_type": "code",
   "execution_count": 17,
   "metadata": {},
   "outputs": [],
   "source": [
    "get_branch_data_kwargs = dict(\n",
    "    branch_id=branch_id, \n",
    "    deserialize_buckets=True) \n",
    "branch_data_response = rpc_lib.json_rpc_call(\n",
    "    method=\"get_branch_data_from_branch_id\", params=get_branch_data_kwargs)\n",
    "branch_data_response_data = branch_data_response[\"result\"]"
   ]
  },
  {
   "cell_type": "code",
   "execution_count": 18,
   "metadata": {},
   "outputs": [
    {
     "data": {
      "text/plain": [
       "[{'schema_id': 1,\n",
       "  'signature': '',\n",
       "  'public_key': '',\n",
       "  'parent_bucket': 'AVESCODub3fbyGe3AQ==',\n",
       "  'root_bucket': 'AVESCODub3fbyGe3AQ==',\n",
       "  'data': '=Universe=',\n",
       "  'refs': [],\n",
       "  'timestamp': 1705751583},\n",
       " {'schema_id': 2,\n",
       "  'signature': '',\n",
       "  'public_key': '',\n",
       "  'parent_bucket': 'AVESCH5cjfo3Iat4Ag==',\n",
       "  'root_bucket': 'AVESCH5cjfo3Iat4Ag==',\n",
       "  'data': ['AVESCFMUFpQjAsRAAQ==',\n",
       "   'AVESCODub3fbyGe3AQ==',\n",
       "   'AVESCMjLJ6YAcmDJAQ=='],\n",
       "  'refs': [],\n",
       "  'timestamp': 1705751583},\n",
       " {'schema_id': 1,\n",
       "  'signature': '',\n",
       "  'public_key': '',\n",
       "  'parent_bucket': '',\n",
       "  'root_bucket': '',\n",
       "  'data': '=Authors=\\nThe creator',\n",
       "  'refs': [],\n",
       "  'timestamp': 1705751583}]"
      ]
     },
     "execution_count": 18,
     "metadata": {},
     "output_type": "execute_result"
    }
   ],
   "source": [
    "branch_data_response_data[\"submit_trace\"][\"new_buckets\"]"
   ]
  },
  {
   "attachments": {},
   "cell_type": "markdown",
   "metadata": {},
   "source": [
    "### Inspect Buckets"
   ]
  },
  {
   "cell_type": "code",
   "execution_count": 19,
   "metadata": {},
   "outputs": [],
   "source": [
    "original_article_id = first_submit_response_data[\"bucket_refs\"][2]\n",
    "updated_article_id = second_submit_response_data[\"bucket_refs\"][1]"
   ]
  },
  {
   "cell_type": "code",
   "execution_count": 20,
   "metadata": {},
   "outputs": [],
   "source": [
    "updated_article_id = second_submit_response_data[\"bucket_refs\"][1]\n",
    "get_bucket_kwargs = dict(bucket_id=updated_article_id) \n",
    "bucket_data_response = rpc_lib.json_rpc_call(\n",
    "    method=\"get_bucket_from_bucket_id\", params=get_bucket_kwargs)\n",
    "bucket_data_response_data = bucket_data_response[\"result\"]"
   ]
  },
  {
   "cell_type": "code",
   "execution_count": 21,
   "metadata": {},
   "outputs": [
    {
     "name": "stdout",
     "output_type": "stream",
     "text": [
      "original_article_id:\n",
      " AVESCH5cjfo3Iat4Ag==\n",
      "\n",
      "updated_article_id:\n",
      " AVESCI0zGlhdWFHVAg==\n",
      "\n",
      "get_bucket_kwargs:\n",
      " {'bucket_id': 'AVESCI0zGlhdWFHVAg=='}\n",
      "\n",
      "bucket_data_response_data:\n",
      " {'schema_id': 2, 'signature': '', 'public_key': '', 'parent_bucket': 'AVESCH5cjfo3Iat4Ag==', 'root_bucket': 'AVESCH5cjfo3Iat4Ag==', 'data': ['AVESCFMUFpQjAsRAAQ==', 'AVESCODub3fbyGe3AQ==', 'AVESCMjLJ6YAcmDJAQ=='], 'refs': [], 'timestamp': 1705751583}\n"
     ]
    }
   ],
   "source": [
    "print('original_article_id:\\n', original_article_id) \n",
    "print('\\nupdated_article_id:\\n', updated_article_id)\n",
    "print('\\nget_bucket_kwargs:\\n', get_bucket_kwargs)\n",
    "print('\\nbucket_data_response_data:\\n', bucket_data_response_data)"
   ]
  },
  {
   "cell_type": "code",
   "execution_count": 22,
   "metadata": {},
   "outputs": [
    {
     "name": "stdout",
     "output_type": "stream",
     "text": [
      "{'id': 'AVESCI0zGlhdWFHVAg==', 'data': {'schema_id': 2, 'signature': '', 'public_key': '', 'parent_bucket': 'AVESCH5cjfo3Iat4Ag==', 'root_bucket': 'AVESCH5cjfo3Iat4Ag==', 'data': ['AVESCFMUFpQjAsRAAQ==', 'AVESCODub3fbyGe3AQ==', 'AVESCMjLJ6YAcmDJAQ=='], 'refs': [], 'timestamp': 1705751583}}\n"
     ]
    }
   ],
   "source": [
    "get_bucket_head_kwargs = dict(\n",
    "    branch_id=branch_id,\n",
    "    bucket_id=updated_article_id, ## NOTE: this is the id of the updated article\n",
    "    deserialize_bucket=True) \n",
    "bucket_head_data_response = rpc_lib.json_rpc_call(\n",
    "    method=\"get_bucket_head_from_bucket_id\", params=get_bucket_head_kwargs)\n",
    "bucket_head_data_response_data = bucket_head_data_response[\"result\"]\n",
    "print(bucket_head_data_response_data)"
   ]
  },
  {
   "cell_type": "code",
   "execution_count": 23,
   "metadata": {},
   "outputs": [
    {
     "name": "stdout",
     "output_type": "stream",
     "text": [
      "{'id': 'AVESCI0zGlhdWFHVAg==', 'data': {'schema_id': 2, 'signature': '', 'public_key': '', 'parent_bucket': 'AVESCH5cjfo3Iat4Ag==', 'root_bucket': 'AVESCH5cjfo3Iat4Ag==', 'data': ['AVESCFMUFpQjAsRAAQ==', 'AVESCODub3fbyGe3AQ==', 'AVESCMjLJ6YAcmDJAQ=='], 'refs': [], 'timestamp': 1705751583}}\n"
     ]
    }
   ],
   "source": [
    "get_bucket_head_kwargs = dict(\n",
    "    branch_id=branch_id,\n",
    "    bucket_id=original_article_id,  ## NOTE: We use the original article id\n",
    "    deserialize_bucket=True) \n",
    "bucket_head_data_response = rpc_lib.json_rpc_call(\n",
    "    method=\"get_bucket_head_from_bucket_id\", params=get_bucket_head_kwargs)\n",
    "bucket_head_data_response_data = bucket_head_data_response[\"result\"]\n",
    "print(bucket_head_data_response_data)"
   ]
  }
 ],
 "metadata": {
  "kernelspec": {
   "display_name": ".venv",
   "language": "python",
   "name": "python3"
  },
  "language_info": {
   "codemirror_mode": {
    "name": "ipython",
    "version": 3
   },
   "file_extension": ".py",
   "mimetype": "text/x-python",
   "name": "python",
   "nbconvert_exporter": "python",
   "pygments_lexer": "ipython3",
   "version": "3.9.15"
  },
  "orig_nbformat": 4
 },
 "nbformat": 4,
 "nbformat_minor": 2
}
