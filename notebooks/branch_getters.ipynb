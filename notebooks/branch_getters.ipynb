{
 "cells": [
  {
   "attachments": {},
   "cell_type": "markdown",
   "metadata": {},
   "source": [
    "## Branch Getters"
   ]
  },
  {
   "cell_type": "code",
   "execution_count": 1,
   "metadata": {},
   "outputs": [],
   "source": [
    "import os \n",
    "os.chdir('..')"
   ]
  },
  {
   "cell_type": "code",
   "execution_count": 2,
   "metadata": {},
   "outputs": [],
   "source": [
    "from utils.format.schema import check_argument, convert_to_bytes_based_on_schema, convert_from_bytes_based_on_schema\n",
    "from initialization.notebooks.genesis_branch import test_create_genesis_branch_with_initial_submit\n",
    "from initialization.notebooks.genesis_branch_rpc import test_rpc_create_genesis_branch_with_initial_submit\n",
    "import inspection.branch as inspection_branch"
   ]
  },
  {
   "cell_type": "code",
   "execution_count": 3,
   "metadata": {},
   "outputs": [],
   "source": [
    "test_genesis_response = test_create_genesis_branch_with_initial_submit(debug=False)"
   ]
  },
  {
   "cell_type": "code",
   "execution_count": 8,
   "metadata": {},
   "outputs": [],
   "source": [
    "from lakat.storage.branch_storage import get_local_branches"
   ]
  },
  {
   "attachments": {},
   "cell_type": "markdown",
   "metadata": {},
   "source": [
    "### GETTERS WITHOUT RPC SERVER CALLS"
   ]
  },
  {
   "attachments": {},
   "cell_type": "markdown",
   "metadata": {},
   "source": [
    "#### Get Branches"
   ]
  },
  {
   "cell_type": "code",
   "execution_count": 4,
   "metadata": {},
   "outputs": [
    {
     "data": {
      "text/plain": [
       "['AVESCPMY3MvuauOI']"
      ]
     },
     "execution_count": 4,
     "metadata": {},
     "output_type": "execute_result"
    }
   ],
   "source": [
    "resp = inspection_branch.get_local_branches()\n",
    "convert_from_bytes_based_on_schema(schema=inspection_branch.get_local_branches_schema[\"response\"], data=resp)"
   ]
  },
  {
   "attachments": {},
   "cell_type": "markdown",
   "metadata": {},
   "source": [
    "#### Get Branch Name From Branch Id"
   ]
  },
  {
   "cell_type": "code",
   "execution_count": 4,
   "metadata": {},
   "outputs": [
    {
     "name": "stdout",
     "output_type": "stream",
     "text": [
      "arguments are valid according to schema:  True\n",
      "converted_kwargs:  {'branch_id': b'\\x01Q\\x12\\x02}\\xbf'}\n",
      "decoded response:  Genesis Branch\n"
     ]
    }
   ],
   "source": [
    "kwargs = dict(branch_id=test_genesis_response[\"decoded_branch_id\"])\n",
    "arguments_valid_schema = check_argument(arg=kwargs, schema=inspection_branch.get_branch_name_from_branch_id_schema)\n",
    "print(\"arguments are valid according to schema: \", arguments_valid_schema)\n",
    "converted_kwargs = convert_to_bytes_based_on_schema(schema=inspection_branch.get_branch_name_from_branch_id_schema, data=kwargs)\n",
    "print(\"converted_kwargs: \", converted_kwargs)\n",
    "response = inspection_branch.get_branch_name_from_branch_id(**converted_kwargs)\n",
    "decoded_response = convert_from_bytes_based_on_schema(schema=inspection_branch.get_branch_name_from_branch_id_schema[\"response\"], data=response)\n",
    "print(\"decoded response: \", decoded_response)"
   ]
  },
  {
   "attachments": {},
   "cell_type": "markdown",
   "metadata": {},
   "source": [
    "#### Get Branch Data from Branch Id"
   ]
  },
  {
   "cell_type": "code",
   "execution_count": 9,
   "metadata": {},
   "outputs": [
    {
     "name": "stdout",
     "output_type": "stream",
     "text": [
      "arguments are valid according to schema:  True\n",
      "converted_kwargs:  {'branch_id': b'\\x01Q\\x12\\x02\\x04z', 'deserialize_buckets': False}\n"
     ]
    },
    {
     "data": {
      "text/plain": [
       "{'id': 'AVESAgR6',\n",
       " 'ns': 'FL0AAA==',\n",
       " 'name': 'Genesis Branch',\n",
       " 'parent_id': '',\n",
       " 'stable_head': {'parent_submit_id': 'AVESAs9tDQQUvQAA',\n",
       "  'submit_msg': 'Initial Submit'},\n",
       " 'config': {'accept_conflicts': False, 'branch_type': 1},\n",
       " 'sprouts': [],\n",
       " 'sprout_selection': [],\n",
       " 'name_resolution': 'AVESAsTgEAQUvQAA',\n",
       " 'interaction': 'AVESAjSNEQQUvQAA',\n",
       " 'signature': '',\n",
       " 'creation_ts': 1705187625,\n",
       " 'submit_trace': {'new_buckets': ['AVESAtrKAQ==',\n",
       "   'AVESAm0/AQ==',\n",
       "   'AVESAsOaAg=='],\n",
       "  'new_registered_names': [{'name': 'Dummy Article Name',\n",
       "    'id': 'AVESAsOaAg=='}]}}"
      ]
     },
     "execution_count": 9,
     "metadata": {},
     "output_type": "execute_result"
    }
   ],
   "source": [
    "bd_kwargs = dict(branch_id=test_genesis_response[\"decoded_branch_id\"], deserialize_buckets=False)\n",
    "db_arguments_valid_schema = check_argument(arg=bd_kwargs, schema=inspection_branch.get_branch_data_from_branch_id_schema)\n",
    "print(\"arguments are valid according to schema: \", db_arguments_valid_schema)\n",
    "converted_bd_kwargs = convert_to_bytes_based_on_schema(schema=inspection_branch.get_branch_data_from_branch_id_schema, data=bd_kwargs)\n",
    "print(\"converted_kwargs: \", converted_bd_kwargs)\n",
    "bd_response = inspection_branch.get_branch_data_from_branch_id(**converted_bd_kwargs)\n",
    "decoded_db_response = convert_from_bytes_based_on_schema(schema=inspection_branch.get_branch_data_from_branch_id_schema[\"response\"], data=bd_response)\n",
    "decoded_db_response\n",
    "# bd_response\n"
   ]
  },
  {
   "attachments": {},
   "cell_type": "markdown",
   "metadata": {},
   "source": [
    "### Getters via RPC server call"
   ]
  },
  {
   "cell_type": "code",
   "execution_count": 5,
   "metadata": {},
   "outputs": [],
   "source": [
    "import requests\n",
    "import json\n",
    "from config.rpc_cfg import RPC_PORT"
   ]
  },
  {
   "cell_type": "code",
   "execution_count": 6,
   "metadata": {},
   "outputs": [],
   "source": [
    "def json_rpc_call(method, params=None):\n",
    "    url = f\"http://localhost:{RPC_PORT}/\"\n",
    "    headers = {'content-type': 'application/json'}\n",
    "    payload = {\n",
    "        \"method\": method,\n",
    "        \"params\": params,\n",
    "        \"jsonrpc\": \"2.0\",\n",
    "        \"id\": 0,\n",
    "    }\n",
    "    encoded_payload = json.dumps(payload).encode('utf-8')\n",
    "    response = requests.post(url, data=encoded_payload, headers=headers)\n",
    "    # print(response)#\n",
    "    return response.json()"
   ]
  },
  {
   "cell_type": "code",
   "execution_count": 6,
   "metadata": {},
   "outputs": [
    {
     "data": {
      "text/plain": [
       "{'branch_head_state_id': b'\\x01Q\\x12\\x02\\xf65\\n\\x04\\x1c\\xdb\\x00\\x00',\n",
       " 'decoded_branch_head_state_id': 'AVESAvY1CgQc2wAA',\n",
       " 'branch_id': b'\\x01Q\\x12\\x02\\xf65',\n",
       " 'decoded_branch_id': 'AVESAvY1'}"
      ]
     },
     "execution_count": 6,
     "metadata": {},
     "output_type": "execute_result"
    }
   ],
   "source": [
    "rpc_genesis_branch_response = test_rpc_create_genesis_branch_with_initial_submit(debug=False)\n",
    "rpc_genesis_branch_response"
   ]
  },
  {
   "cell_type": "markdown",
   "metadata": {},
   "source": [
    "#### Get Branch Name Route"
   ]
  },
  {
   "cell_type": "code",
   "execution_count": 11,
   "metadata": {},
   "outputs": [
    {
     "name": "stdout",
     "output_type": "stream",
     "text": [
      "Test 'get_branch_name_from_branch_id' passed with branch name: Wikipedia Community\n"
     ]
    }
   ],
   "source": [
    "rpc_kwargs = dict(branch_id='AVESCMSwnVrrXQpj') #rpc_genesis_branch_response[\"decoded_branch_id\"])\n",
    "response = json_rpc_call(method=\"get_branch_name_from_branch_id\", params=rpc_kwargs)\n",
    "name = response['result']\n",
    "print(\"Test 'get_branch_name_from_branch_id' passed with branch name:\", name)"
   ]
  },
  {
   "attachments": {},
   "cell_type": "markdown",
   "metadata": {},
   "source": [
    "#### Get Branch Data Route"
   ]
  },
  {
   "cell_type": "code",
   "execution_count": 9,
   "metadata": {},
   "outputs": [],
   "source": [
    "response = json_rpc_call(method=\"get_local_branches\", params=[])"
   ]
  },
  {
   "cell_type": "code",
   "execution_count": 10,
   "metadata": {},
   "outputs": [
    {
     "data": {
      "text/plain": [
       "{'result': ['AVESCMSwnVrrXQpj'], 'id': 0, 'jsonrpc': '2.0'}"
      ]
     },
     "execution_count": 10,
     "metadata": {},
     "output_type": "execute_result"
    }
   ],
   "source": [
    "response"
   ]
  },
  {
   "cell_type": "code",
   "execution_count": 12,
   "metadata": {},
   "outputs": [],
   "source": [
    "rpc_kwargs = dict(branch_id='AVESCMSwnVrrXQpj', deserialize_buckets=True) #rpc_genesis_branch_response[\"decoded_branch_id\"], deserialize_buckets=True)\n",
    "response = json_rpc_call(method=\"get_branch_data_from_branch_id\", params=rpc_kwargs)"
   ]
  },
  {
   "cell_type": "code",
   "execution_count": 13,
   "metadata": {},
   "outputs": [
    {
     "data": {
      "text/plain": [
       "{'result': {'id': 'AVESCMSwnVrrXQpj',\n",
       "  'ns': 'ruQFAAAA',\n",
       "  'name': 'Wikipedia Community',\n",
       "  'parent_id': '',\n",
       "  'stable_head': {'parent_submit_id': 'AVESCEuCjHnXzkxrDQau5AUAAAA=',\n",
       "   'submit_msg': \"[[Wikipedia:OABOT|Open access bot]]: doi updated in citation with #oabot.. By 'OAbot'.\"},\n",
       "  'config': {'accept_conflicts': True, 'branch_type': 1},\n",
       "  'sprouts': [],\n",
       "  'sprout_selection': [],\n",
       "  'name_resolution': 'AVESCLlkdelWB3SFEAau5AUAAAA=',\n",
       "  'interaction': 'AVESCDSNHSSjvABhEQau5AUAAAA=',\n",
       "  'signature': '',\n",
       "  'creation_ts': 1705285350,\n",
       "  'submit_trace': {'new_buckets': [{'schema_id': 1,\n",
       "     'signature': 'AA==',\n",
       "     'public_key': 'AA==',\n",
       "     'parent_bucket': 'AVESCBOhcr5lqkHeAQ==',\n",
       "     'root_bucket': 'AVESCOKhL6wVc+3iAQ==',\n",
       "     'data': '===Other compartmental models===\\nThere are many modifications of the SIR model, including those that include births and deaths, where upon recovery there is no immunity (SIS model), where immunity lasts only for a short period of time (SIRS), where there is a latent period of the disease where the person is not infectious (SEIS and SEIR), and where infants can be born with immunity (MSIR). Compartmental models can also be used to model multiple risk groups, and even the interaction of multiple pathogens.<ref>{{Citation |last=von Csefalvay |first=Chris |title=Host factors |date=2023-01-01 |url=https://www.sciencedirect.com/science/article/pii/B9780323953894000128 |work=Computational Modeling of Infectious Disease |pages=93–119 |editor-last=von Csefalvay |editor-first=Chris |publisher=Academic Press |language=en |doi=10.1016/b978-0-32-395389-4.00012-8 |isbn=978-0-323-95389-4 |access-date=2023-03-02|doi-access=free }}</ref>',\n",
       "     'refs': [],\n",
       "     'timestamp': 1705285350},\n",
       "    {'schema_id': 2,\n",
       "     'signature': 'AA==',\n",
       "     'public_key': 'AA==',\n",
       "     'parent_bucket': 'AVESCJq9E5X6TdOnAg==',\n",
       "     'root_bucket': 'AVESCCpPuQaUivU/Ag==',\n",
       "     'data': ['AVESCJhzE9j16G6iAQ==',\n",
       "      'AVESCJyuSmo/sLpwAQ==',\n",
       "      'AVESCCDM4qAlbqbZAQ==',\n",
       "      'AVESCC9WSzl6lWUhAQ==',\n",
       "      'AVESCE/9AHsiHmlbAQ==',\n",
       "      'AVESCNd6cwz3vKx3AQ==',\n",
       "      'AVESCP3mLwwtcvThAQ==',\n",
       "      'AVESCPrRicbrpZMOAQ==',\n",
       "      'AVESCA7mx77C3pu2AQ==',\n",
       "      'AVESCCA7OcdsmaEfAQ==',\n",
       "      'AVESCLDKFPz8JH7nAQ==',\n",
       "      'AVESCEqUYitGf2WSAQ==',\n",
       "      'AVESCJ25Go9dowvlAQ==',\n",
       "      'AVESCP6yx+EX8Ti1AQ==',\n",
       "      'AVESCIUHeWBkztiPAQ==',\n",
       "      'AVESCEADkXsDJGQnAQ==',\n",
       "      'AVESCMsT1a+Z5Wy8AQ==',\n",
       "      'AVESCCgB+JzxnhftAQ==',\n",
       "      'AVESCAYMRPCAql26AQ==',\n",
       "      'AVESCJyDtM85Ye7eAQ==',\n",
       "      'AVESCOecWb2OzqybAQ==',\n",
       "      'AVESCOwgDGc8iqRHAQ==',\n",
       "      'AVESCIdwgecUY+8iAQ==',\n",
       "      'AVESCNtUW0jHxAaBAQ==',\n",
       "      'AVESCPcxJi/RR113AQ==',\n",
       "      'AVESCBxiFyd43qgUAQ==',\n",
       "      'AVESCBCyHVxPEWuzAQ==',\n",
       "      'AVESCEsyVqL/TX/AAQ==',\n",
       "      'AVESCL43ZU+Fw+7OAQ==',\n",
       "      'AVESCKwxcdTzM3B1AQ==',\n",
       "      'AVESCJ18cCUF9PZKAQ==',\n",
       "      'AVESCHcjHDY7ZvZfAQ==',\n",
       "      'AVESCONubtS+KJWAAQ==',\n",
       "      'AVESCK5kc9wedii1AQ==',\n",
       "      'AVESCFDZrIH0s7xTAQ==',\n",
       "      'AVESCKSGF9QLvFYRAQ==',\n",
       "      'AVESCHt3Ws5t1brGAQ==',\n",
       "      'AVESCKYHkS4eQkzDAQ==',\n",
       "      'AVESCPOFl6NkPwS/AQ==',\n",
       "      'AVESCNc9fUbxy1X6AQ==',\n",
       "      'AVESCANiPFhc/D3GAQ==',\n",
       "      'AVESCMT1TZ9t3vrwAQ==',\n",
       "      'AVESCDJGHWuMgAmrAQ==',\n",
       "      'AVESCM+hxKevtyORAQ==',\n",
       "      'AVESCE0S8HbCX1v1AQ==',\n",
       "      'AVESCIxHeTFhVb6MAQ==',\n",
       "      'AVESCGNkUKXWwbK9AQ==',\n",
       "      'AVESCGwmw+eRwat0AQ==',\n",
       "      'AVESCJk+i4em3chBAQ=='],\n",
       "     'refs': [],\n",
       "     'timestamp': 1705285350}],\n",
       "   'new_registered_names': []}},\n",
       " 'id': 0,\n",
       " 'jsonrpc': '2.0'}"
      ]
     },
     "execution_count": 13,
     "metadata": {},
     "output_type": "execute_result"
    }
   ],
   "source": [
    "response"
   ]
  },
  {
   "cell_type": "code",
   "execution_count": 13,
   "metadata": {},
   "outputs": [],
   "source": [
    "articles = [bucket \n",
    "    for bucket in response[\"result\"][\"submit_trace\"][\"new_buckets\"]\n",
    "    if bucket[\"schema_id\"]==2]"
   ]
  },
  {
   "cell_type": "code",
   "execution_count": 15,
   "metadata": {},
   "outputs": [
    {
     "data": {
      "text/plain": [
       "['AVESCKPh2Z6evBoyAQ==',\n",
       " 'AVESCEInlEDtsAPYAQ==',\n",
       " 'AVESCKGnaTaaOsyyAQ==',\n",
       " 'AVESCMhnGewCGLVhAQ==',\n",
       " 'AVESCKG+Nts4I8VPAQ==',\n",
       " 'AVESCLi4FZ6mEVpmAQ==',\n",
       " 'AVESCPR4KZCRiYYpAQ==',\n",
       " 'AVESCNUhxs7mtR48AQ==',\n",
       " 'AVESCE4yz5HogoxuAQ==',\n",
       " 'AVESCHY2WSyY1qPTAQ==',\n",
       " 'AVESCPamgE53tRAzAQ==',\n",
       " 'AVESCBZlOJegzIFMAQ==',\n",
       " 'AVESCEJ74F/tDHLaAQ==',\n",
       " 'AVESCE2gTihcHdASAQ==',\n",
       " 'AVESCCfPgx+zN0tDAQ==',\n",
       " 'AVESCIEGFG6UambdAQ==',\n",
       " 'AVESCHwM68bcH1LeAQ==',\n",
       " 'AVESCHVnQEZfcqQAAQ==',\n",
       " 'AVESCChdXZaUKoynAQ==',\n",
       " 'AVESCCkCag6JhFmKAQ==',\n",
       " 'AVESCBxoHsojdne0AQ==',\n",
       " 'AVESCHNM4nRHgyGHAQ==',\n",
       " 'AVESCEe+2vUue67ZAQ==',\n",
       " 'AVESCBSCuFZKeg6QAQ==',\n",
       " 'AVESCODhqOGy4oYbAQ==',\n",
       " 'AVESCCp2ynNvj6W+AQ==',\n",
       " 'AVESCOt8NZKvaNWZAQ==',\n",
       " 'AVESCEqadiuBDl9iAQ==',\n",
       " 'AVESCEpH7TKePUDmAQ==',\n",
       " 'AVESCNIT78XJPY7EAQ==',\n",
       " 'AVESCL7LJ6UnHykaAQ==',\n",
       " 'AVESCCRJf9To4y/NAQ==',\n",
       " 'AVESCJp4NXJ/+m2QAQ==',\n",
       " 'AVESCCt78YRN/xslAQ==',\n",
       " 'AVESCGI0wKkHbOKjAQ==',\n",
       " 'AVESCFlmYPzbOdiuAQ==',\n",
       " 'AVESCNwOVEEJPOn2AQ==',\n",
       " 'AVESCNh29K294/rnAQ==',\n",
       " 'AVESCCNUTawJgRJ0AQ==',\n",
       " 'AVESCGGtP9l5fvX7AQ==',\n",
       " 'AVESCMubfQZ2LiLBAQ==',\n",
       " 'AVESCMEBgiggUNXfAQ==',\n",
       " 'AVESCABCDqkx7et4AQ==',\n",
       " 'AVESCJamuq/6Q4LeAQ==',\n",
       " 'AVESCD6Yydwjp6WHAQ==',\n",
       " 'AVESCA3XAJRlt2jDAQ==',\n",
       " 'AVESCNGIqYXbTVw+AQ==',\n",
       " 'AVESCE8LLtxdO7MNAQ==',\n",
       " 'AVESCNkzJjF1cjT4AQ==']"
      ]
     },
     "execution_count": 15,
     "metadata": {},
     "output_type": "execute_result"
    }
   ],
   "source": [
    "articles[0][\"data\"]"
   ]
  },
  {
   "cell_type": "code",
   "execution_count": 16,
   "metadata": {},
   "outputs": [
    {
     "data": {
      "text/plain": [
       "1"
      ]
     },
     "execution_count": 16,
     "metadata": {},
     "output_type": "execute_result"
    }
   ],
   "source": [
    "from utils.encode.bytes import decode_base64_str_to_bytes\n",
    "from utils.encode.hashing import get_namespace_from_lakat_cid\n",
    "bytes_example = decode_base64_str_to_bytes('AVESCKG+Nts4I8VPAQ==')\n",
    "get_namespace_from_lakat_cid(bytes_example)"
   ]
  }
 ],
 "metadata": {
  "kernelspec": {
   "display_name": ".venv",
   "language": "python",
   "name": "python3"
  },
  "language_info": {
   "codemirror_mode": {
    "name": "ipython",
    "version": 3
   },
   "file_extension": ".py",
   "mimetype": "text/x-python",
   "name": "python",
   "nbconvert_exporter": "python",
   "pygments_lexer": "ipython3",
   "version": "3.9.15"
  },
  "orig_nbformat": 4
 },
 "nbformat": 4,
 "nbformat_minor": 2
}
