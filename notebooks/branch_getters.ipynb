{
 "cells": [
  {
   "attachments": {},
   "cell_type": "markdown",
   "metadata": {},
   "source": [
    "## Branch Getters"
   ]
  },
  {
   "cell_type": "code",
   "execution_count": 1,
   "metadata": {},
   "outputs": [],
   "source": [
    "import os \n",
    "os.chdir('..')"
   ]
  },
  {
   "cell_type": "code",
   "execution_count": 2,
   "metadata": {},
   "outputs": [],
   "source": [
    "from utils.format.schema import check_argument, convert_to_bytes_based_on_schema, convert_from_bytes_based_on_schema\n",
    "import inspection.branch as inspection_branch"
   ]
  },
  {
   "attachments": {},
   "cell_type": "markdown",
   "metadata": {},
   "source": [
    "### GETTERS WITHOUT RPC SERVER CALLS"
   ]
  },
  {
   "attachments": {},
   "cell_type": "markdown",
   "metadata": {},
   "source": [
    "#### Get Branch Name From Branch Id"
   ]
  },
  {
   "cell_type": "code",
   "execution_count": 3,
   "metadata": {},
   "outputs": [
    {
     "name": "stdout",
     "output_type": "stream",
     "text": [
      "arguments are valid according to schema:  True\n",
      "converted_kwargs:  {'branch_id': b'\\x01Q\\x12\\x02\\x82\\x83'}\n",
      "decoded response:  Genesis Branch\n"
     ]
    }
   ],
   "source": [
    "branch_id = 'AVESAoKD' ## replace with actual id \n",
    "kwargs = dict(branch_id=branch_id)\n",
    "arguments_valid_schema = check_argument(arg=kwargs, schema=inspection_branch.get_branch_name_from_branch_id_schema)\n",
    "print(\"arguments are valid according to schema: \", arguments_valid_schema)\n",
    "converted_kwargs = convert_to_bytes_based_on_schema(schema=inspection_branch.get_branch_name_from_branch_id_schema, data=kwargs)\n",
    "print(\"converted_kwargs: \", converted_kwargs)\n",
    "response = inspection_branch.get_branch_name_from_branch_id(**converted_kwargs)\n",
    "decoded_response = convert_from_bytes_based_on_schema(schema=inspection_branch.get_branch_name_from_branch_id_schema[\"response\"], data=response)\n",
    "print(\"decoded response: \", decoded_response)"
   ]
  },
  {
   "cell_type": "code",
   "execution_count": 4,
   "metadata": {},
   "outputs": [
    {
     "name": "stdout",
     "output_type": "stream",
     "text": [
      "arguments are valid according to schema:  True\n",
      "converted_kwargs:  {'branch_id': b'\\x01Q\\x12\\x02\\x82\\x83', 'deserialize_buckets': False}\n",
      "decoded response:  {'id': 'AVESAoKD', 'ns': '+2IAAA==', 'name': 'Genesis Branch', 'parent_id': '', 'stable_head': {'parent_submit_id': 'AVESArpTDQT7YgAA', 'submit_msg': 'Initial Submit'}, 'config': {'accept_conflicts': False, 'branch_type': 1}, 'sprouts': [], 'sprout_selection': [], 'name_resolution': 'AVESAk7VEAT7YgAA', 'interaction': 'AVESAjSNEQT7YgAA', 'signature': '', 'creation_ts': 1705160930, 'submit_trace': {'new_buckets': ['AVESAkVJAQ==', 'AVESAhOQAQ==', 'AVESAv3QAg=='], 'new_registered_names': [{'name': 'Dummy Article Name', 'id': 'AVESAv3QAg=='}]}}\n"
     ]
    }
   ],
   "source": [
    "# branch_id_bytes = b'\\x01Q\\x12\\x02\\x82\\x83'\n",
    "kwargs = dict(branch_id=branch_id, deserialize_buckets=False)\n",
    "arguments_valid_schema = check_argument(arg=kwargs, schema=inspection_branch.get_branch_data_from_branch_id_schema)\n",
    "print(\"arguments are valid according to schema: \", arguments_valid_schema)\n",
    "converted_kwargs = convert_to_bytes_based_on_schema(schema=inspection_branch.get_branch_data_from_branch_id_schema, data=kwargs)\n",
    "print(\"converted_kwargs: \", converted_kwargs)\n",
    "response = inspection_branch.get_branch_data_from_branch_id(**converted_kwargs)\n",
    "decoded_response = convert_from_bytes_based_on_schema(schema=inspection_branch.get_branch_data_from_branch_id_schema[\"response\"], data=response)\n",
    "print(\"decoded response: \", decoded_response)\n",
    "# inspection_branch.get_config_from_branch_id(branch_id_bytes)\n"
   ]
  },
  {
   "attachments": {},
   "cell_type": "markdown",
   "metadata": {},
   "source": [
    "### Getters via RPC server call"
   ]
  },
  {
   "cell_type": "code",
   "execution_count": 8,
   "metadata": {},
   "outputs": [],
   "source": [
    "import requests\n",
    "import json\n",
    "from config.rpc_cfg import RPC_PORT"
   ]
  },
  {
   "cell_type": "code",
   "execution_count": 9,
   "metadata": {},
   "outputs": [],
   "source": [
    "def json_rpc_call(method, params=None):\n",
    "    url = f\"http://localhost:{RPC_PORT}/\"\n",
    "    headers = {'content-type': 'application/json'}\n",
    "    payload = {\n",
    "        \"method\": method,\n",
    "        \"params\": params,\n",
    "        \"jsonrpc\": \"2.0\",\n",
    "        \"id\": 0,\n",
    "    }\n",
    "    encoded_payload = json.dumps(payload).encode('utf-8')\n",
    "    response = requests.post(url, data=encoded_payload, headers=headers)\n",
    "    # print(response)#\n",
    "    return response.json()"
   ]
  },
  {
   "cell_type": "code",
   "execution_count": 10,
   "metadata": {},
   "outputs": [],
   "source": [
    "branch_id = 'AVESAvtC'\n",
    "kwargs = dict(branch_id=branch_id)"
   ]
  },
  {
   "cell_type": "code",
   "execution_count": 11,
   "metadata": {},
   "outputs": [
    {
     "name": "stdout",
     "output_type": "stream",
     "text": [
      "Test 'get_branch_name_from_branch_id' passed with branch name: Genesis Branch\n"
     ]
    }
   ],
   "source": [
    "kwargs_rpc = list(kwargs.values())\n",
    "response = json_rpc_call(method=\"get_branch_name_from_branch_id\", params=kwargs_rpc)\n",
    "# response is inside the result key\n",
    "name = response['result']\n",
    "print(\"Test 'get_branch_name_from_branch_id' passed with branch name:\", name)"
   ]
  },
  {
   "cell_type": "code",
   "execution_count": null,
   "metadata": {},
   "outputs": [],
   "source": []
  }
 ],
 "metadata": {
  "kernelspec": {
   "display_name": ".venv",
   "language": "python",
   "name": "python3"
  },
  "language_info": {
   "codemirror_mode": {
    "name": "ipython",
    "version": 3
   },
   "file_extension": ".py",
   "mimetype": "text/x-python",
   "name": "python",
   "nbconvert_exporter": "python",
   "pygments_lexer": "ipython3",
   "version": "3.9.15"
  },
  "orig_nbformat": 4
 },
 "nbformat": 4,
 "nbformat_minor": 2
}
