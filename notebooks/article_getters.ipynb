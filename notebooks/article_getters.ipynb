{
 "cells": [
  {
   "attachments": {},
   "cell_type": "markdown",
   "metadata": {},
   "source": [
    "## Getters for the Articles"
   ]
  },
  {
   "cell_type": "code",
   "execution_count": 1,
   "metadata": {},
   "outputs": [],
   "source": [
    "import os \n",
    "os.chdir('..')"
   ]
  },
  {
   "cell_type": "code",
   "execution_count": 2,
   "metadata": {},
   "outputs": [],
   "source": [
    "from utils.format.schema import check_argument, convert_to_bytes_based_on_schema, convert_from_bytes_based_on_schema\n",
    "import inspection.branch as inspection_branch\n",
    "import inspection.articles as inspection_articles\n",
    "from utils.encode.language import decode_bytes, encode_string_standard\n",
    "from initialization.notebooks.genesis_branch import test_create_genesis_branch_with_initial_submit\n",
    "import lakat.storage.local_storage as lakat_storage_functions\n",
    "from setup.storage import name_tries\n",
    "# lakat_storage_functions.restart_db()\n"
   ]
  },
  {
   "cell_type": "code",
   "execution_count": 3,
   "metadata": {},
   "outputs": [
    {
     "data": {
      "text/plain": [
       "{'branch_id': b'\\x01Q\\x12\\x08\\xc3\\xb3\\xda\\xe3x\\x04\\xdd\\xe1',\n",
       " 'decoded_branch_id': 'AVESCMOz2uN4BN3h',\n",
       " 'branch_head_id': b'\\x01Q\\x12\\x08\\xc3\\xb3\\xda\\xe3x\\x04\\xdd\\xe1\\n\\x06zS)\\x00\\x00\\x00',\n",
       " 'decoded_branch_head_id': 'AVESCMOz2uN4BN3hCgZ6UykAAAA='}"
      ]
     },
     "execution_count": 3,
     "metadata": {},
     "output_type": "execute_result"
    }
   ],
   "source": [
    "response = test_create_genesis_branch_with_initial_submit(debug=False)\n",
    "response"
   ]
  },
  {
   "cell_type": "code",
   "execution_count": 4,
   "metadata": {},
   "outputs": [],
   "source": [
    "branch_id = response[\"branch_id\"] # or a branch id that you know exists in the database   \n",
    "article = inspection_articles.get_article_from_article_name(branch_id=branch_id, name=encode_string_standard('Dummy Article Name'))\n"
   ]
  },
  {
   "cell_type": "code",
   "execution_count": 5,
   "metadata": {},
   "outputs": [
    {
     "name": "stdout",
     "output_type": "stream",
     "text": [
      "\n",
      "Hello\n",
      "World\n"
     ]
    }
   ],
   "source": [
    "print(decode_bytes(article))"
   ]
  },
  {
   "cell_type": "code",
   "execution_count": 6,
   "metadata": {},
   "outputs": [
    {
     "data": {
      "text/plain": [
       "['encode_string_standard',\n",
       " 'get_article_from_article_name',\n",
       " 'get_article_from_article_name_schema',\n",
       " 'get_article_ids_from_branch_id',\n",
       " 'get_article_ids_from_last_n_submits',\n",
       " 'get_article_ids_until_submit_id',\n",
       " 'join_encoded_bytes',\n",
       " 'lakat_storage',\n",
       " 'lakat_trie_storage',\n",
       " 'random']"
      ]
     },
     "execution_count": 6,
     "metadata": {},
     "output_type": "execute_result"
    }
   ],
   "source": [
    "dir(inspection_articles)[-10:]"
   ]
  },
  {
   "cell_type": "code",
   "execution_count": 7,
   "metadata": {},
   "outputs": [
    {
     "data": {
      "text/plain": [
       "([{'name': b'\\x01\\x12Dummy Article Name',\n",
       "   'article_id': b'\\x01Q\\x12\\x08\\xe7!\\tsEd\\x92:\\x02',\n",
       "   'submit_id': b'\\x01Q\\x12\\x08\\x9c\\x1f`\\x16\\xcb\\xb0\\xf8\\x0e\\r\\x06zS)\\x00\\x00\\x00',\n",
       "   'branch_id': b'\\x01Q\\x12\\x08\\xc3\\xb3\\xda\\xe3x\\x04\\xdd\\xe1'}],\n",
       " True)"
      ]
     },
     "execution_count": 7,
     "metadata": {},
     "output_type": "execute_result"
    }
   ],
   "source": [
    "# 'get_article_ids_from_branch_id',\n",
    "# 'get_article_ids_from_last_n_submits',\n",
    "# 'get_article_ids_until_submit_id',\n",
    "response_2 = inspection_articles.get_article_ids_from_branch_id(branch_id=branch_id)\n",
    "response_2"
   ]
  },
  {
   "attachments": {},
   "cell_type": "markdown",
   "metadata": {},
   "source": [
    "#### Via RPC Calls"
   ]
  },
  {
   "cell_type": "code",
   "execution_count": 3,
   "metadata": {},
   "outputs": [],
   "source": [
    "import requests\n",
    "import json\n",
    "from config.rpc_cfg import RPC_PORT\n",
    "from config.scrape_cfg import EXAMPLE_ARTICLE_TITLE\n",
    "def json_rpc_call(method, params=None):\n",
    "    url = f\"http://localhost:{RPC_PORT}/\"\n",
    "    headers = {'content-type': 'application/json'}\n",
    "    payload = {\n",
    "        \"method\": method,\n",
    "        \"params\": params,\n",
    "        \"jsonrpc\": \"2.0\",\n",
    "        \"id\": 0,\n",
    "    }\n",
    "    encoded_payload = json.dumps(payload).encode('utf-8')\n",
    "    response = requests.post(url, data=encoded_payload, headers=headers)\n",
    "    # print(response)#\n",
    "    return response.json()"
   ]
  },
  {
   "cell_type": "code",
   "execution_count": 4,
   "metadata": {},
   "outputs": [],
   "source": [
    "rpc_kwargs = dict(branch_id='AVESCC6JnjrcgEU0', name=EXAMPLE_ARTICLE_TITLE) #rpc_genesis_branch_response[\"decoded_branch_id\"], deserialize_buckets=True)\n",
    "response = json_rpc_call(method=\"get_article_from_article_name\", params=rpc_kwargs)\n"
   ]
  },
  {
   "cell_type": "code",
   "execution_count": 5,
   "metadata": {},
   "outputs": [
    {
     "data": {
      "text/plain": [
       "\"\\nA [[population]] comprises a large number of individuals, all of whom are different in various fields. In order to [[mathematical modelling in epidemiology|model the progress of an epidemic]] in such a population this diversity must be reduced to a few key characteristics which are relevant to the infection under consideration. For example, for most common childhood diseases which confer long-lasting immunity it makes sense to divide the population into those who are [[susceptible]] to the disease, those who are [[infectious disease|infected]] and those who have recovered and are [[immune system|immune]]. These subdivisions of the population are called '''compartments'''.\\n==The SIR model==\\nStandard convention labels these three compartments S (for susceptible), I (for infectious) and R (for recovered). Therefore, this model is called the SIR model. \\n\\nThis is a good, simple, model for many infectious diseases including [[measles]], [[mumps]] and [[rubella]].\\n\\nThe letters also represent the number of people in each compartment at a particular time. To indicate that the numbers might vary over time (even if the total population size remains constant), we make the precise numbers a function of ''t'' (time): S(''t''), I(''t'') and R(''t''). For a specific disease in a specific population, these functions may be worked out in order to predict possible outbreaks and bring them under control.\\n===The SIR model is dynamic in two senses===\\nAs implied by the variable function of ''t'', the model is dynamic in that the numbers in each compartment may fluctuate over time. The importance of this dynamic aspect is most obvious in an [[endemic (epidemiology)|endemic]] disease with a short infectious period, such as [[measles]] in the UK prior to the introduction of a [[vaccination|vaccine]] in [[1968]]. Such diseases tend to occur in cycles of outbreaks due to the variation in number of susceptibles (S(''t'')) over time. During an [[epidemic]], the number of susceptibles falls rapidly as more of them are infected and thus enter the infectious and recovered compartments. The disease cannot break out again until the number of susceptibles has built back up as a result of babies being born into the compartment.\\n\\nThe SIR is also dynamic in the sense that individuals are born susceptible, then may acquire the infection (move into the infectious compartment) and finally recover (move into the recovered compartment). Thus each member of the population typically progresses from susceptible to infectious to recovered. This can be shown as a flow diagram in which the boxes represent the different compartments and the arrows the transition between compartments.\\n\\n[[Image:SIR.PNG|800px|center|SIR compartmental model]]\\n===Transition rates===\\nFor the full specification of the model, the arrows should be labelled with the transition rates between compartments.\\n\\nBetween S and I, the transition rate is &lambda;, the [[force of infection]], which is simply the rate at which susceptible individuals become infected by an infectious disease.\\n\\nBetween I and R, the transition rate is &delta; (simply the rate of recovery). If the duration of the infection is denoted ''D'', then &delta; = 1/''D'', since an individual experiences one recovery in ''D'' units of time.\\n==Elaborations on the basic SIR model==\\n\\n===The SEIR model===\\nFor many infections there is a period of time during which the individual has been infected but is not yet infectious himself. During this latent period the individual is in compartment E (for exposed).\\n\\n[[Image:SEIR.PNG|800px|center|SEIR compartmental model]]\\n===The MSIR model===\\nFor many infections, including [[measles]], babies are not born into the susceptible compartment but are immune to the disease for the first few months of life due to protection from maternal antibodies (passed across the [[placenta]] or through [[colostrum]]). This added detail can be shown by including an M class (for maternally derived immunity) at the beginning of the model.\\n\\n[[Image:MSIR.PNG|800px|center|MSIR compartmental model]]\\n===Carrier state===\\nSome people who have had an infectious disease such as [[tuberculosis]] never completely recover and continue to [[asymptomatic carrier|carry]] the infection, whilst not suffering the disease themselves. They may then move back into the infectious compartment and suffer symptoms (as in tuberculosis) or they may continue to infect others in their carrier state, while not suffering symptoms. The most famous example of this is probably [[Mary Mallon]], who infected 22 people with [[typhoid fever]]. The carrier compartment is labelled C.\\n\\n[[Image:SIR_model_with_carrier.PNG|800px|center|SIR compartmental model with carrier class, C]]\\n==The SIS model==\\nSome infections, for example the group of those responsible for the [[common cold]], do not confer any long lasting immunity. Such infections do not have a recovered state and individuals become susceptible again after infection.\\n\\n[[Image:SIS.PNG|800px|center|SIS compartmental model]]\\n==See also==\\n*[[Mathematical modelling in epidemiology]]\\n\\n[[Category:Epidemiology]]\""
      ]
     },
     "execution_count": 5,
     "metadata": {},
     "output_type": "execute_result"
    }
   ],
   "source": [
    "response[\"result\"]"
   ]
  }
 ],
 "metadata": {
  "kernelspec": {
   "display_name": ".venv",
   "language": "python",
   "name": "python3"
  },
  "language_info": {
   "codemirror_mode": {
    "name": "ipython",
    "version": 3
   },
   "file_extension": ".py",
   "mimetype": "text/x-python",
   "name": "python",
   "nbconvert_exporter": "python",
   "pygments_lexer": "ipython3",
   "version": "3.9.15"
  },
  "orig_nbformat": 4
 },
 "nbformat": 4,
 "nbformat_minor": 2
}
