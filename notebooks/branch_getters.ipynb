{
 "cells": [
  {
   "attachments": {},
   "cell_type": "markdown",
   "metadata": {},
   "source": [
    "## Branch Getters"
   ]
  },
  {
   "cell_type": "code",
   "execution_count": 1,
   "metadata": {},
   "outputs": [],
   "source": [
    "import os \n",
    "os.chdir('..')"
   ]
  },
  {
   "cell_type": "code",
   "execution_count": 2,
   "metadata": {},
   "outputs": [],
   "source": [
    "from utils.format.schema import check_argument, convert_to_bytes_based_on_schema, convert_from_bytes_based_on_schema\n",
    "from initialization.notebooks.genesis_branch import test_create_genesis_branch_with_initial_submit\n",
    "from initialization.notebooks.genesis_branch_rpc import test_rpc_create_genesis_branch_with_initial_submit\n",
    "import inspection.branch as inspection_branch"
   ]
  },
  {
   "cell_type": "code",
   "execution_count": 3,
   "metadata": {},
   "outputs": [],
   "source": [
    "test_genesis_response = test_create_genesis_branch_with_initial_submit(debug=False)"
   ]
  },
  {
   "attachments": {},
   "cell_type": "markdown",
   "metadata": {},
   "source": [
    "### GETTERS WITHOUT RPC SERVER CALLS"
   ]
  },
  {
   "attachments": {},
   "cell_type": "markdown",
   "metadata": {},
   "source": [
    "#### Get Branch Name From Branch Id"
   ]
  },
  {
   "cell_type": "code",
   "execution_count": 4,
   "metadata": {},
   "outputs": [
    {
     "name": "stdout",
     "output_type": "stream",
     "text": [
      "arguments are valid according to schema:  True\n",
      "converted_kwargs:  {'branch_id': b'\\x01Q\\x12\\x02}\\xbf'}\n",
      "decoded response:  Genesis Branch\n"
     ]
    }
   ],
   "source": [
    "kwargs = dict(branch_id=test_genesis_response[\"decoded_branch_id\"])\n",
    "arguments_valid_schema = check_argument(arg=kwargs, schema=inspection_branch.get_branch_name_from_branch_id_schema)\n",
    "print(\"arguments are valid according to schema: \", arguments_valid_schema)\n",
    "converted_kwargs = convert_to_bytes_based_on_schema(schema=inspection_branch.get_branch_name_from_branch_id_schema, data=kwargs)\n",
    "print(\"converted_kwargs: \", converted_kwargs)\n",
    "response = inspection_branch.get_branch_name_from_branch_id(**converted_kwargs)\n",
    "decoded_response = convert_from_bytes_based_on_schema(schema=inspection_branch.get_branch_name_from_branch_id_schema[\"response\"], data=response)\n",
    "print(\"decoded response: \", decoded_response)"
   ]
  },
  {
   "attachments": {},
   "cell_type": "markdown",
   "metadata": {},
   "source": [
    "#### Get Branch Data from Branch Id"
   ]
  },
  {
   "cell_type": "code",
   "execution_count": 9,
   "metadata": {},
   "outputs": [
    {
     "name": "stdout",
     "output_type": "stream",
     "text": [
      "arguments are valid according to schema:  True\n",
      "converted_kwargs:  {'branch_id': b'\\x01Q\\x12\\x02\\x04z', 'deserialize_buckets': False}\n"
     ]
    },
    {
     "data": {
      "text/plain": [
       "{'id': 'AVESAgR6',\n",
       " 'ns': 'FL0AAA==',\n",
       " 'name': 'Genesis Branch',\n",
       " 'parent_id': '',\n",
       " 'stable_head': {'parent_submit_id': 'AVESAs9tDQQUvQAA',\n",
       "  'submit_msg': 'Initial Submit'},\n",
       " 'config': {'accept_conflicts': False, 'branch_type': 1},\n",
       " 'sprouts': [],\n",
       " 'sprout_selection': [],\n",
       " 'name_resolution': 'AVESAsTgEAQUvQAA',\n",
       " 'interaction': 'AVESAjSNEQQUvQAA',\n",
       " 'signature': '',\n",
       " 'creation_ts': 1705187625,\n",
       " 'submit_trace': {'new_buckets': ['AVESAtrKAQ==',\n",
       "   'AVESAm0/AQ==',\n",
       "   'AVESAsOaAg=='],\n",
       "  'new_registered_names': [{'name': 'Dummy Article Name',\n",
       "    'id': 'AVESAsOaAg=='}]}}"
      ]
     },
     "execution_count": 9,
     "metadata": {},
     "output_type": "execute_result"
    }
   ],
   "source": [
    "bd_kwargs = dict(branch_id=test_genesis_response[\"decoded_branch_id\"], deserialize_buckets=False)\n",
    "db_arguments_valid_schema = check_argument(arg=bd_kwargs, schema=inspection_branch.get_branch_data_from_branch_id_schema)\n",
    "print(\"arguments are valid according to schema: \", db_arguments_valid_schema)\n",
    "converted_bd_kwargs = convert_to_bytes_based_on_schema(schema=inspection_branch.get_branch_data_from_branch_id_schema, data=bd_kwargs)\n",
    "print(\"converted_kwargs: \", converted_bd_kwargs)\n",
    "bd_response = inspection_branch.get_branch_data_from_branch_id(**converted_bd_kwargs)\n",
    "decoded_db_response = convert_from_bytes_based_on_schema(schema=inspection_branch.get_branch_data_from_branch_id_schema[\"response\"], data=bd_response)\n",
    "decoded_db_response\n",
    "# bd_response\n"
   ]
  },
  {
   "attachments": {},
   "cell_type": "markdown",
   "metadata": {},
   "source": [
    "### Getters via RPC server call"
   ]
  },
  {
   "cell_type": "code",
   "execution_count": 4,
   "metadata": {},
   "outputs": [],
   "source": [
    "import requests\n",
    "import json\n",
    "from config.rpc_cfg import RPC_PORT"
   ]
  },
  {
   "cell_type": "code",
   "execution_count": 5,
   "metadata": {},
   "outputs": [],
   "source": [
    "def json_rpc_call(method, params=None):\n",
    "    url = f\"http://localhost:{RPC_PORT}/\"\n",
    "    headers = {'content-type': 'application/json'}\n",
    "    payload = {\n",
    "        \"method\": method,\n",
    "        \"params\": params,\n",
    "        \"jsonrpc\": \"2.0\",\n",
    "        \"id\": 0,\n",
    "    }\n",
    "    encoded_payload = json.dumps(payload).encode('utf-8')\n",
    "    response = requests.post(url, data=encoded_payload, headers=headers)\n",
    "    # print(response)#\n",
    "    return response.json()"
   ]
  },
  {
   "cell_type": "code",
   "execution_count": 6,
   "metadata": {},
   "outputs": [
    {
     "data": {
      "text/plain": [
       "{'branch_head_state_id': b'\\x01Q\\x12\\x02\\xf65\\n\\x04\\x1c\\xdb\\x00\\x00',\n",
       " 'decoded_branch_head_state_id': 'AVESAvY1CgQc2wAA',\n",
       " 'branch_id': b'\\x01Q\\x12\\x02\\xf65',\n",
       " 'decoded_branch_id': 'AVESAvY1'}"
      ]
     },
     "execution_count": 6,
     "metadata": {},
     "output_type": "execute_result"
    }
   ],
   "source": [
    "rpc_genesis_branch_response = test_rpc_create_genesis_branch_with_initial_submit(debug=False)\n",
    "rpc_genesis_branch_response"
   ]
  },
  {
   "cell_type": "markdown",
   "metadata": {},
   "source": [
    "#### Get Branch Name Route"
   ]
  },
  {
   "cell_type": "code",
   "execution_count": 7,
   "metadata": {},
   "outputs": [
    {
     "name": "stdout",
     "output_type": "stream",
     "text": [
      "Test 'get_branch_name_from_branch_id' passed with branch name: Genesis Branch\n"
     ]
    }
   ],
   "source": [
    "rpc_kwargs = dict(branch_id=rpc_genesis_branch_response[\"decoded_branch_id\"])\n",
    "response = json_rpc_call(method=\"get_branch_name_from_branch_id\", params=rpc_kwargs)\n",
    "name = response['result']\n",
    "print(\"Test 'get_branch_name_from_branch_id' passed with branch name:\", name)"
   ]
  },
  {
   "attachments": {},
   "cell_type": "markdown",
   "metadata": {},
   "source": [
    "#### Get Branch Data Route"
   ]
  },
  {
   "cell_type": "code",
   "execution_count": 8,
   "metadata": {},
   "outputs": [
    {
     "data": {
      "text/plain": [
       "{'id': 'AVESAvY1',\n",
       " 'ns': 'HNsAAA==',\n",
       " 'name': 'Genesis Branch',\n",
       " 'parent_id': '',\n",
       " 'stable_head': {'parent_submit_id': 'AVESAnA3DQQc2wAA',\n",
       "  'submit_msg': 'Initial Submit'},\n",
       " 'config': {'accept_conflicts': False, 'branch_type': 1},\n",
       " 'sprouts': [],\n",
       " 'sprout_selection': [],\n",
       " 'name_resolution': 'AVESAtVjEAQc2wAA',\n",
       " 'interaction': 'AVESAjSNEQQc2wAA',\n",
       " 'signature': '',\n",
       " 'creation_ts': 1705187635,\n",
       " 'submit_trace': {'new_buckets': [{'schema_id': 1,\n",
       "    'signature': 'AA==',\n",
       "    'public_key': 'AA==',\n",
       "    'parent_bucket': '',\n",
       "    'root_bucket': '',\n",
       "    'data': 'Hello',\n",
       "    'refs': [],\n",
       "    'timestamp': 1705187635},\n",
       "   {'schema_id': 1,\n",
       "    'signature': 'AA==',\n",
       "    'public_key': 'AA==',\n",
       "    'parent_bucket': '',\n",
       "    'root_bucket': '',\n",
       "    'data': 'World',\n",
       "    'refs': [],\n",
       "    'timestamp': 1705187635},\n",
       "   {'schema_id': 2,\n",
       "    'signature': 'AA==',\n",
       "    'public_key': 'AA==',\n",
       "    'parent_bucket': '',\n",
       "    'root_bucket': '',\n",
       "    'data': ['AVESAo5IAQ==', 'AVESAqKmAQ=='],\n",
       "    'refs': [],\n",
       "    'timestamp': 1705187635}],\n",
       "  'new_registered_names': [{'name': 'Dummy Article Name',\n",
       "    'id': 'AVESAjbuAg=='}]}}"
      ]
     },
     "execution_count": 8,
     "metadata": {},
     "output_type": "execute_result"
    }
   ],
   "source": [
    "rpc_kwargs = dict(branch_id=rpc_genesis_branch_response[\"decoded_branch_id\"], deserialize_buckets=True)\n",
    "response = json_rpc_call(method=\"get_branch_data_from_branch_id\", params=rpc_kwargs)\n",
    "response[\"result\"]"
   ]
  },
  {
   "cell_type": "code",
   "execution_count": null,
   "metadata": {},
   "outputs": [],
   "source": []
  }
 ],
 "metadata": {
  "kernelspec": {
   "display_name": ".venv",
   "language": "python",
   "name": "python3"
  },
  "language_info": {
   "codemirror_mode": {
    "name": "ipython",
    "version": 3
   },
   "file_extension": ".py",
   "mimetype": "text/x-python",
   "name": "python",
   "nbconvert_exporter": "python",
   "pygments_lexer": "ipython3",
   "version": "3.9.15"
  },
  "orig_nbformat": 4
 },
 "nbformat": 4,
 "nbformat_minor": 2
}
