{
 "cells": [
  {
   "attachments": {},
   "cell_type": "markdown",
   "metadata": {},
   "source": [
    "## Submit Content for a Twig Branch"
   ]
  },
  {
   "attachments": {},
   "cell_type": "markdown",
   "metadata": {},
   "source": [
    "This notebook creates a submit for an existing branch that accepts direct edits (a twig)"
   ]
  },
  {
   "cell_type": "code",
   "execution_count": 1,
   "metadata": {},
   "outputs": [],
   "source": [
    "import os \n",
    "os.chdir('..')"
   ]
  },
  {
   "cell_type": "code",
   "execution_count": 2,
   "metadata": {},
   "outputs": [],
   "source": [
    "import lakat.branch.functions as lakat_branch_functions\n",
    "import lakat.branch.schema as lakat_branch_schema\n",
    "import lakat.submit.functions as lakat_submit_functions\n",
    "import lakat.submit.schema as lakat_submit_schema\n",
    "import lakat.storage.local_storage as lakat_storage_functions\n",
    "from utils.format.schema import check_argument, convert_to_bytes_based_on_schema, convert_from_bytes_based_on_schema\n",
    "from config.branch_cfg import PROPER_BRANCH_TYPE_ID, TWIG_BRANCH_TYPE_ID\n",
    "from utils.encode.bytes import encode_bytes_to_base64_str, decode_base64_str_to_bytes\n",
    "# from config.encode_cfg import ENCODING_FUNCTION\n",
    "from config.bucket_cfg import DEFAULT_ATOMIC_BUCKET_SCHEMA, DEFAULT_MOLECULAR_BUCKET_SCHEMA, BUCKET_ID_TYPE_NO_REF\n",
    "# from utils.encode.bytes import encode_bytes_to_base64_str, decode_base64_str_to_bytes"
   ]
  },
  {
   "cell_type": "code",
   "execution_count": 3,
   "metadata": {},
   "outputs": [
    {
     "name": "stdout",
     "output_type": "stream",
     "text": [
      "keyword arguments:  {'branch_type': 1, 'name': 'Genesis Branch', 'signature': '', 'accept_conflicts': False, 'msg': 'Genesis Submit'}\n"
     ]
    }
   ],
   "source": [
    "# some fake signature encoded in bytes64 \n",
    "signature = encode_bytes_to_base64_str(bytes(0))\n",
    "accept_conflicts = False\n",
    "msg = 'Genesis Submit'\n",
    "name = 'Genesis Branch'\n",
    "kwargs = dict(branch_type=TWIG_BRANCH_TYPE_ID, name=name, signature=signature, accept_conflicts=accept_conflicts, msg=msg)\n",
    "print('keyword arguments: ', kwargs)"
   ]
  },
  {
   "attachments": {},
   "cell_type": "markdown",
   "metadata": {},
   "source": [
    "### First create Genesis Branch (Twig)"
   ]
  },
  {
   "cell_type": "code",
   "execution_count": 4,
   "metadata": {},
   "outputs": [],
   "source": [
    "check_argument(arg=kwargs, schema=lakat_branch_schema.create_genesis_branch_call)\n",
    "converted_kwargs = convert_to_bytes_based_on_schema(schema=lakat_branch_schema.create_genesis_branch_call, data=kwargs)\n",
    "response = lakat_branch_functions.create_genesis_branch(**converted_kwargs)\n",
    "decoded_response = convert_from_bytes_based_on_schema(schema=lakat_branch_schema.create_genesis_branch_response, data=response)"
   ]
  },
  {
   "cell_type": "code",
   "execution_count": 5,
   "metadata": {},
   "outputs": [
    {
     "data": {
      "text/plain": [
       "(b'\\x01Q\\x12\\x02^2', 'AVESAl4y')"
      ]
     },
     "execution_count": 5,
     "metadata": {},
     "output_type": "execute_result"
    }
   ],
   "source": [
    "response, decoded_response"
   ]
  },
  {
   "attachments": {},
   "cell_type": "markdown",
   "metadata": {},
   "source": [
    "### Prepare Submit Content"
   ]
  },
  {
   "cell_type": "code",
   "execution_count": 6,
   "metadata": {},
   "outputs": [],
   "source": [
    "contents = [\n",
    "        {\n",
    "            \"data\": \"Hello\",  \n",
    "            \"schema\": DEFAULT_ATOMIC_BUCKET_SCHEMA, \n",
    "            \"parent_id\": encode_bytes_to_base64_str(bytes(0)), \n",
    "            \"signature\": encode_bytes_to_base64_str(bytes(1)), \n",
    "            \"refs\": []\n",
    "        },\n",
    "        {\n",
    "            \"data\": \"World\",  \n",
    "            \"schema\": DEFAULT_ATOMIC_BUCKET_SCHEMA, \n",
    "            \"parent_id\": encode_bytes_to_base64_str(bytes(0)), \n",
    "            \"signature\": encode_bytes_to_base64_str(bytes(1)), \n",
    "            \"refs\": []\n",
    "        },\n",
    "        {\n",
    "            \"data\": {\n",
    "                \"order\": [\n",
    "                    {\"id\": 0, \"type\": BUCKET_ID_TYPE_NO_REF},\n",
    "                    {\"id\": 1, \"type\": BUCKET_ID_TYPE_NO_REF}], \n",
    "                \"name\": \"Dummy Article Name\"},\n",
    "            \"schema\": DEFAULT_MOLECULAR_BUCKET_SCHEMA,\n",
    "            \"parent_id\": encode_bytes_to_base64_str(bytes(0)), \n",
    "            \"signature\": encode_bytes_to_base64_str(bytes(1)), \n",
    "            \"refs\": []\n",
    "        }]"
   ]
  },
  {
   "cell_type": "code",
   "execution_count": 7,
   "metadata": {},
   "outputs": [],
   "source": [
    "public_key = encode_bytes_to_base64_str(bytes(1))\n",
    "proof = encode_bytes_to_base64_str(bytes(1))\n",
    "submit_msg = \"Initial Submit\"\n",
    "submit_kwargs = dict(branch_id=decoded_response, contents=contents, public_key=public_key, proof=proof, msg=submit_msg)"
   ]
  },
  {
   "cell_type": "markdown",
   "metadata": {},
   "source": [
    "### Submit Content for a Twig without RPC server call"
   ]
  },
  {
   "cell_type": "code",
   "execution_count": 8,
   "metadata": {},
   "outputs": [],
   "source": [
    "check_argument(arg=submit_kwargs, schema=lakat_submit_schema.submit_content_for_twig_call)\n",
    "converted_submit_kwargs = convert_to_bytes_based_on_schema(schema=lakat_submit_schema.submit_content_for_twig_call, data=submit_kwargs)\n",
    "submit_response = lakat_submit_functions.submit_content_for_twig(**converted_submit_kwargs)\n",
    "decoded_submit_response = convert_from_bytes_based_on_schema(schema=lakat_submit_schema.submit_content_for_twig_response, data=submit_response)"
   ]
  },
  {
   "cell_type": "code",
   "execution_count": 9,
   "metadata": {},
   "outputs": [
    {
     "name": "stdout",
     "output_type": "stream",
     "text": [
      "original submit response:  b'\\x01Q\\x12\\x02$q\\n\\x04Q\"\\x00\\x00' \n",
      "decoded submit response:  AVESAiRxCgRRIgAA\n"
     ]
    }
   ],
   "source": [
    "print('original submit response: ', submit_response ,'\\ndecoded submit response: ', decoded_submit_response)"
   ]
  },
  {
   "attachments": {},
   "cell_type": "markdown",
   "metadata": {},
   "source": [
    "### Submit Content for a Twig via RPC server call"
   ]
  },
  {
   "attachments": {},
   "cell_type": "markdown",
   "metadata": {},
   "source": [
    "First start the server via `python main.py` (first need to install the dependencies from the *requirements.txt*) or start the docker container exposed on port `3355`."
   ]
  },
  {
   "cell_type": "code",
   "execution_count": 10,
   "metadata": {},
   "outputs": [],
   "source": [
    "import requests\n",
    "import json\n",
    "from config.rpc_cfg import RPC_PORT"
   ]
  },
  {
   "cell_type": "code",
   "execution_count": 11,
   "metadata": {},
   "outputs": [],
   "source": [
    "def json_rpc_call(method, params=None):\n",
    "    url = f\"http://localhost:{RPC_PORT}/\"\n",
    "    headers = {'content-type': 'application/json'}\n",
    "    payload = {\n",
    "        \"method\": method,\n",
    "        \"params\": params,\n",
    "        \"jsonrpc\": \"2.0\",\n",
    "        \"id\": 0,\n",
    "    }\n",
    "    encoded_payload = json.dumps(payload).encode('utf-8')\n",
    "    response = requests.post(url, data=encoded_payload, headers=headers)\n",
    "    # print(response)#\n",
    "    return response.json()"
   ]
  },
  {
   "cell_type": "code",
   "execution_count": 12,
   "metadata": {},
   "outputs": [
    {
     "ename": "KeyError",
     "evalue": "'result'",
     "output_type": "error",
     "traceback": [
      "\u001b[0;31m---------------------------------------------------------------------------\u001b[0m",
      "\u001b[0;31mKeyError\u001b[0m                                  Traceback (most recent call last)",
      "Cell \u001b[0;32mIn[12], line 4\u001b[0m\n\u001b[1;32m      2\u001b[0m response \u001b[39m=\u001b[39m json_rpc_call(method\u001b[39m=\u001b[39m\u001b[39m\"\u001b[39m\u001b[39msubmit_content_to_twig\u001b[39m\u001b[39m\"\u001b[39m, params\u001b[39m=\u001b[39msubmit_kwargs_rpc)\n\u001b[1;32m      3\u001b[0m \u001b[39m# response is inside the result key\u001b[39;00m\n\u001b[0;32m----> 4\u001b[0m branch_head_id \u001b[39m=\u001b[39m response[\u001b[39m'\u001b[39;49m\u001b[39mresult\u001b[39;49m\u001b[39m'\u001b[39;49m]\n\u001b[1;32m      5\u001b[0m \u001b[39mprint\u001b[39m(\u001b[39m\"\u001b[39m\u001b[39mTest \u001b[39m\u001b[39m'\u001b[39m\u001b[39msubmit_content_to_twig\u001b[39m\u001b[39m'\u001b[39m\u001b[39m passed with branch head ID:\u001b[39m\u001b[39m\"\u001b[39m, branch_head_id)\n",
      "\u001b[0;31mKeyError\u001b[0m: 'result'"
     ]
    }
   ],
   "source": [
    "submit_kwargs_rpc = list(submit_kwargs.values())\n",
    "response = json_rpc_call(method=\"submit_content_to_twig\", params=submit_kwargs_rpc)\n",
    "# response is inside the result key\n",
    "branch_head_id = response['result']\n",
    "print(\"Test 'submit_content_to_twig' passed with branch head ID:\", branch_head_id)"
   ]
  },
  {
   "cell_type": "code",
   "execution_count": null,
   "metadata": {},
   "outputs": [],
   "source": []
  }
 ],
 "metadata": {
  "kernelspec": {
   "display_name": ".venv",
   "language": "python",
   "name": "python3"
  },
  "language_info": {
   "codemirror_mode": {
    "name": "ipython",
    "version": 3
   },
   "file_extension": ".py",
   "mimetype": "text/x-python",
   "name": "python",
   "nbconvert_exporter": "python",
   "pygments_lexer": "ipython3",
   "version": "3.9.15"
  },
  "orig_nbformat": 4
 },
 "nbformat": 4,
 "nbformat_minor": 2
}
